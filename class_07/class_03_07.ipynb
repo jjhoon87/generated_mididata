{
  "nbformat": 4,
  "nbformat_minor": 0,
  "metadata": {
    "colab": {
      "name": "class_03_07.ipynb",
      "provenance": [],
      "collapsed_sections": []
    },
    "kernelspec": {
      "name": "python3",
      "display_name": "Python 3"
    },
    "language_info": {
      "name": "python"
    }
  },
  "cells": [
    {
      "cell_type": "markdown",
      "source": [
        "ex# 새 섹션"
      ],
      "metadata": {
        "id": "fgXj6rfQJBVq"
      }
    },
    {
      "cell_type": "code",
      "execution_count": null,
      "metadata": {
        "colab": {
          "base_uri": "https://localhost:8080/"
        },
        "id": "685pyq6BI-2M",
        "outputId": "8ea33fd5-cdd5-4b23-d794-af7f8924cda4"
      },
      "outputs": [
        {
          "output_type": "stream",
          "name": "stdout",
          "text": [
            "[]\n"
          ]
        }
      ],
      "source": [
        "ex_list = []\n",
        "print(ex_list)"
      ]
    },
    {
      "cell_type": "code",
      "source": [
        "ex_list.append(1)\n",
        "print(ex_list)"
      ],
      "metadata": {
        "colab": {
          "base_uri": "https://localhost:8080/"
        },
        "id": "hh4PaokQKIjb",
        "outputId": "ecd0d863-68bf-46e2-925e-e07aa3b807e8"
      },
      "execution_count": null,
      "outputs": [
        {
          "output_type": "stream",
          "name": "stdout",
          "text": [
            "[1]\n"
          ]
        }
      ]
    },
    {
      "cell_type": "code",
      "source": [
        "ex_list.append(2)\n",
        "ex_list.append(3)\n",
        "ex_list.append(4)\n",
        "ex_list.append(5)\n",
        "ex_list.append(6)\n",
        "print(ex_list)"
      ],
      "metadata": {
        "colab": {
          "base_uri": "https://localhost:8080/"
        },
        "id": "YReDZ4ZhKNL-",
        "outputId": "f5faf105-9c79-4fb6-eab0-b0f7907b8c5c"
      },
      "execution_count": null,
      "outputs": [
        {
          "output_type": "stream",
          "name": "stdout",
          "text": [
            "[1, 2, 3, 4, 5, 6]\n"
          ]
        }
      ]
    },
    {
      "cell_type": "code",
      "source": [
        "ex_list.append('Apple')\n",
        "print(ex_list)"
      ],
      "metadata": {
        "colab": {
          "base_uri": "https://localhost:8080/"
        },
        "id": "XV3uGzA2KpTH",
        "outputId": "617e6ae3-1b45-4475-e191-f364cfb0ab7e"
      },
      "execution_count": null,
      "outputs": [
        {
          "output_type": "stream",
          "name": "stdout",
          "text": [
            "[1, 2, 3, 4, 5, 6, 'Apple']\n"
          ]
        }
      ]
    },
    {
      "cell_type": "code",
      "source": [
        "ex_list.append([])\n",
        "print(ex_list)"
      ],
      "metadata": {
        "colab": {
          "base_uri": "https://localhost:8080/"
        },
        "id": "pZQRn0M_LdE_",
        "outputId": "13389917-fb21-47c3-9777-b6d4f18d747b"
      },
      "execution_count": null,
      "outputs": [
        {
          "output_type": "stream",
          "name": "stdout",
          "text": [
            "[1, 2, 3, 4, 5, 6, 'Apple', []]\n"
          ]
        }
      ]
    },
    {
      "cell_type": "code",
      "source": [
        "len(ex_list)"
      ],
      "metadata": {
        "colab": {
          "base_uri": "https://localhost:8080/"
        },
        "id": "FDfwMhKULtjG",
        "outputId": "fbcc406f-75c9-43ad-c277-5c024ce27f4f"
      },
      "execution_count": null,
      "outputs": [
        {
          "output_type": "execute_result",
          "data": {
            "text/plain": [
              "8"
            ]
          },
          "metadata": {},
          "execution_count": 6
        }
      ]
    },
    {
      "cell_type": "code",
      "source": [
        "ex_list[0]"
      ],
      "metadata": {
        "colab": {
          "base_uri": "https://localhost:8080/"
        },
        "id": "1LMmNXoiL6Vm",
        "outputId": "35c518d5-e974-463e-a2aa-636c80d6d524"
      },
      "execution_count": null,
      "outputs": [
        {
          "output_type": "execute_result",
          "data": {
            "text/plain": [
              "1"
            ]
          },
          "metadata": {},
          "execution_count": 7
        }
      ]
    },
    {
      "cell_type": "code",
      "source": [
        "ex_list[5]"
      ],
      "metadata": {
        "colab": {
          "base_uri": "https://localhost:8080/"
        },
        "id": "KsTAeQ0LMUPD",
        "outputId": "20178df9-5ae1-404f-88d7-2e63e0f37752"
      },
      "execution_count": null,
      "outputs": [
        {
          "output_type": "execute_result",
          "data": {
            "text/plain": [
              "6"
            ]
          },
          "metadata": {},
          "execution_count": 8
        }
      ]
    },
    {
      "cell_type": "code",
      "source": [
        "ex_list[7]"
      ],
      "metadata": {
        "colab": {
          "base_uri": "https://localhost:8080/"
        },
        "id": "pOaJ4Sw4MeQQ",
        "outputId": "e1b31dea-a6fc-488f-c0a2-fe01a6b9710e"
      },
      "execution_count": null,
      "outputs": [
        {
          "output_type": "execute_result",
          "data": {
            "text/plain": [
              "[]"
            ]
          },
          "metadata": {},
          "execution_count": 9
        }
      ]
    },
    {
      "cell_type": "code",
      "source": [
        "ex_list[7].append(0.9994747)\n",
        "ex_list[7].append(100.7777)\n",
        "ex_list\n"
      ],
      "metadata": {
        "colab": {
          "base_uri": "https://localhost:8080/"
        },
        "id": "SUD9P34oMjNE",
        "outputId": "131a4d34-2b8b-4fda-b71b-bc080981d456"
      },
      "execution_count": null,
      "outputs": [
        {
          "output_type": "execute_result",
          "data": {
            "text/plain": [
              "[1, 2, 3, 4, 5, 6, 'Apple', [0.9994747, 100.7777]]"
            ]
          },
          "metadata": {},
          "execution_count": 10
        }
      ]
    },
    {
      "cell_type": "code",
      "source": [
        "ex_dict = {}\n",
        "ex_dict['첫번째'] = 1\n",
        "print(ex_dict)"
      ],
      "metadata": {
        "colab": {
          "base_uri": "https://localhost:8080/"
        },
        "id": "5g_-pLRDM_eW",
        "outputId": "08c12d12-32d6-424d-d939-eece658d561c"
      },
      "execution_count": null,
      "outputs": [
        {
          "output_type": "stream",
          "name": "stdout",
          "text": [
            "{'첫번째': 1}\n"
          ]
        }
      ]
    },
    {
      "cell_type": "code",
      "source": [
        "ex_dict['딸깍'] = '마우스'\n",
        "ex_dict"
      ],
      "metadata": {
        "colab": {
          "base_uri": "https://localhost:8080/"
        },
        "id": "eZVpk9Z2NnNM",
        "outputId": "70686ab9-732b-4533-c8bb-cc74b2276530"
      },
      "execution_count": null,
      "outputs": [
        {
          "output_type": "execute_result",
          "data": {
            "text/plain": [
              "{'딸깍': '마우스', '첫번째': 1}"
            ]
          },
          "metadata": {},
          "execution_count": 12
        }
      ]
    },
    {
      "cell_type": "code",
      "source": [
        "# 도\n",
        "music_note_01 = {}\n",
        "music_note_01['pitch'] = 60 \n",
        "music_note_01['length'] = 1.\n",
        "music_note_01['velocity'] = 100\n",
        "music_note_01['start_time'] = 0.\n",
        "# 레\n",
        "music_note_02 = {}\n",
        "music_note_02['pitch'] = 62 \n",
        "music_note_02['length'] = 1.\n",
        "music_note_02['velocity'] = 100\n",
        "music_note_02['start_time'] = 1.\n",
        "# 미\n",
        "music_note_03 = {}\n",
        "music_note_03['pitch'] = 64 \n",
        "music_note_03['length'] = 1.\n",
        "music_note_03['velocity'] = 100\n",
        "music_note_03['start_time'] = 2.\n",
        "note_list = [music_note_01, music_note_02, music_note_03]\n",
        "# ------------------------------------------------\n",
        "note_list = [\n",
        "    {'pitch': 60, 'length':1., 'velocity':100, 'start_time': 0.,}, # 도\n",
        "    {'pitch': 62, 'length':1., 'velocity':100, 'start_time': 1.,}, # 레\n",
        "    {'pitch': 64, 'length':1., 'velocity':100, 'start_time': 2.,}, # 미\n",
        "]\n"
      ],
      "metadata": {
        "id": "lim8uO8GN0Po"
      },
      "execution_count": null,
      "outputs": []
    },
    {
      "cell_type": "code",
      "source": [
        "!pip install midiutil"
      ],
      "metadata": {
        "colab": {
          "base_uri": "https://localhost:8080/"
        },
        "id": "HiZ6SMjDj9ID",
        "outputId": "2bd7bd54-2a7f-45cb-9af8-f664f8a184f4"
      },
      "execution_count": null,
      "outputs": [
        {
          "output_type": "stream",
          "name": "stdout",
          "text": [
            "Looking in indexes: https://pypi.org/simple, https://us-python.pkg.dev/colab-wheels/public/simple/\n",
            "Collecting midiutil\n",
            "  Downloading MIDIUtil-1.2.1.tar.gz (1.0 MB)\n",
            "\u001b[K     |████████████████████████████████| 1.0 MB 5.1 MB/s \n",
            "\u001b[?25hBuilding wheels for collected packages: midiutil\n",
            "  Building wheel for midiutil (setup.py) ... \u001b[?25l\u001b[?25hdone\n",
            "  Created wheel for midiutil: filename=MIDIUtil-1.2.1-py3-none-any.whl size=54566 sha256=2fbd7fea3f466d1779255fe3abd7221b3e99f22708e0c91674a2dee7fb241cf9\n",
            "  Stored in directory: /root/.cache/pip/wheels/e3/97/cd/a677b61a76d575f373e2e10302f1d9106507fea6dd1320df03\n",
            "Successfully built midiutil\n",
            "Installing collected packages: midiutil\n",
            "Successfully installed midiutil-1.2.1\n"
          ]
        }
      ]
    },
    {
      "cell_type": "code",
      "source": [
        "import midiutil\n",
        "def write_midi(seq, bpm, path):\n",
        "    mf = midiutil.MIDIFile(1, file_format=1)\n",
        "    track = 0\n",
        "    channel = 0\n",
        "    mf.addTempo(track, 0, bpm)\n",
        "    # for i, n in enumerate(seq):\n",
        "    for i in range(len(seq)):\n",
        "        n = seq[i]\n",
        "        mf.addNote(\n",
        "            track,\n",
        "            channel,\n",
        "            int(n['pitch']),\n",
        "            n['start_time'],\n",
        "            n['length'],\n",
        "            int(n['velocity'])\n",
        "        )\n",
        "    with open(path, 'wb') as outf:\n",
        "        mf.writeFile(outf)"
      ],
      "metadata": {
        "id": "g2PvuknTPEah"
      },
      "execution_count": null,
      "outputs": []
    },
    {
      "cell_type": "code",
      "source": [
        "track_1 = []\n",
        "track_2 = []\n",
        "\n",
        "note_1 = {}\n",
        "note_1['pitch'] = 60\n",
        "note_1['start_time'] = 0.\n",
        "note_1['length'] = 4.0\n",
        "note_1['velocity'] = 100\n",
        "track_1.append(note_1)\n",
        "\n",
        "note_2 = {}\n",
        "note_2['pitch'] = 72\n",
        "note_2['start_time'] = 4.\n",
        "note_2['length'] = 4.0\n",
        "note_2['velocity'] = 100\n",
        "track_2.append(note_2)\n",
        "\n",
        "\n",
        "mf = midiutil.MIDIFile(2)\n",
        "# for i, n in enumerate(seq):\n",
        "mf.addNote(\n",
        "    0,\n",
        "    0,\n",
        "    int(note_1['pitch']),\n",
        "    note_1['start_time'],\n",
        "    note_1['length'],\n",
        "    int(note_1['velocity'])\n",
        ")\n",
        "mf.addNote(\n",
        "    1,\n",
        "    0,\n",
        "    int(note_2['pitch']),\n",
        "    note_2['start_time'],\n",
        "    note_2['length'],\n",
        "    int(note_2['velocity'])\n",
        ")\n",
        "with open('multi_track_test.mid', 'wb') as outf:\n",
        "    mf.writeFile(outf)\n"
      ],
      "metadata": {
        "id": "9PBuUiIpb5dc"
      },
      "execution_count": null,
      "outputs": []
    },
    {
      "cell_type": "code",
      "source": [
        "write_midi(seq=note_list, bpm=90, path='output.mid')"
      ],
      "metadata": {
        "id": "c9bC2NJ3jsr5"
      },
      "execution_count": null,
      "outputs": []
    },
    {
      "cell_type": "code",
      "source": [
        "# C - G - Am - Em\n",
        "\n",
        "C = [\n",
        "     {'pitch': 60, 'length': 4.0, 'start_time': 0., 'velocity': 80},\n",
        "     {'pitch': 64, 'length': 4.0, 'start_time': 0., 'velocity': 80},\n",
        "     {'pitch': 67, 'length': 4.0, 'start_time': 0., 'velocity': 80},\n",
        "]\n",
        "G = []\n",
        "Am = []\n",
        "Em = []\n",
        "chord_list = C + G + Am + Em"
      ],
      "metadata": {
        "id": "wGyZDwM_xI12"
      },
      "execution_count": null,
      "outputs": []
    },
    {
      "cell_type": "code",
      "source": [
        "ex_list = [1,2,3]\n",
        "ex_list2 = [4,5,6]\n",
        "\n",
        "print(ex_list + ex_list2)\n"
      ],
      "metadata": {
        "colab": {
          "base_uri": "https://localhost:8080/"
        },
        "id": "wBWLAnRKx3ew",
        "outputId": "8f583a7e-826c-45e1-9e7c-607c13d22560"
      },
      "execution_count": null,
      "outputs": [
        {
          "output_type": "stream",
          "name": "stdout",
          "text": [
            "[1, 2, 3, 4, 5, 6]\n"
          ]
        }
      ]
    },
    {
      "cell_type": "code",
      "source": [
        "ex_list3 = [1, 2, 3, 4]\n",
        "print(ex_list3[3])\n",
        "ex_list3[3] = 100\n",
        "C4 = {\n",
        "    'pitch': 60\n",
        "}\n",
        "C4['pitch'] = 72\n",
        "print(C4)"
      ],
      "metadata": {
        "colab": {
          "base_uri": "https://localhost:8080/"
        },
        "id": "vq3dN68ezn1M",
        "outputId": "f74f5f7a-7b56-4c12-fc16-88b90c124093"
      },
      "execution_count": null,
      "outputs": [
        {
          "output_type": "stream",
          "name": "stdout",
          "text": [
            "4\n",
            "{'pitch': 72}\n"
          ]
        }
      ]
    },
    {
      "cell_type": "code",
      "source": [
        "dim_1_list = [1, 2, 3, 4] # 1차원리스트"
      ],
      "metadata": {
        "id": "E8SzWt3v7874"
      },
      "execution_count": null,
      "outputs": []
    },
    {
      "cell_type": "code",
      "source": [
        "#.  1 2 3\n",
        "#.  4 5 6\n",
        "#.  7 8 9\n",
        "mat_01 = [\n",
        "  [1, 2, 3],\n",
        "  [4, 5, 6],\n",
        "  [7, 8, 9],\n",
        "]\n",
        "for m in mat_01:\n",
        "  print(m)\n",
        "print(mat_01[1][2])\n",
        "mat_01[1][2] = -6\n",
        "\n",
        "for m in mat_01:\n",
        "  print(m)"
      ],
      "metadata": {
        "colab": {
          "base_uri": "https://localhost:8080/"
        },
        "id": "KtgMTNSD78Dp",
        "outputId": "e4718274-ce2d-4332-8178-02f9124a0957"
      },
      "execution_count": null,
      "outputs": [
        {
          "output_type": "stream",
          "name": "stdout",
          "text": [
            "[1, 2, 3]\n",
            "[4, 5, 6]\n",
            "[7, 8, 9]\n",
            "6\n",
            "[1, 2, 3]\n",
            "[4, 5, -6]\n",
            "[7, 8, 9]\n"
          ]
        }
      ]
    },
    {
      "cell_type": "markdown",
      "source": [
        ""
      ],
      "metadata": {
        "id": "SC9duS6noJD7"
      }
    },
    {
      "cell_type": "code",
      "source": [
        "C = [\n",
        "     {'pitch': 60,   'length': 1.0, 'start_time': 0., 'velocity': 80},\n",
        "     {'pitch': 60+4, 'length': 1.0, 'start_time': 0., 'velocity': 80},\n",
        "     {'pitch': 60+7, 'length': 1.0, 'start_time': 0., 'velocity': 80},\n",
        "]\n",
        "Dm = [\n",
        "     {'pitch': 62,   'length': 1.0, 'start_time': 0., 'velocity': 80},\n",
        "     {'pitch': 62+3, 'length': 1.0, 'start_time': 0., 'velocity': 80},\n",
        "     {'pitch': 62+7, 'length': 1.0, 'start_time': 0., 'velocity': 80},\n",
        "]\n",
        "Em = [\n",
        "     {'pitch': 64,   'length': 1.0, 'start_time': 0., 'velocity': 80},\n",
        "     {'pitch': 64+3, 'length': 1.0, 'start_time': 0., 'velocity': 80},\n",
        "     {'pitch': 64+7, 'length': 1.0, 'start_time': 0., 'velocity': 80},\n",
        "]\n",
        "F = [\n",
        "     {'pitch': 65   - 12, 'length': 1.0, 'start_time': 0., 'velocity': 80},\n",
        "     {'pitch': 65+4 - 12, 'length': 1.0, 'start_time': 0., 'velocity': 80},\n",
        "     {'pitch': 65+7 - 12, 'length': 1.0, 'start_time': 0., 'velocity': 80},\n",
        "]\n",
        "G = [\n",
        "     {'pitch': 67   - 12, 'length': 1.0, 'start_time': 0., 'velocity': 80},\n",
        "     {'pitch': 67+4 - 12, 'length': 1.0, 'start_time': 0., 'velocity': 80},\n",
        "     {'pitch': 67+7 - 12, 'length': 1.0, 'start_time': 0., 'velocity': 80},\n",
        "]\n",
        "Am = [\n",
        "     {'pitch': 69   - 12, 'length': 1.0, 'start_time': 0., 'velocity': 80},\n",
        "     {'pitch': 69+3 - 12, 'length': 1.0, 'start_time': 0., 'velocity': 80},\n",
        "     {'pitch': 69+7 - 12, 'length': 1.0, 'start_time': 0., 'velocity': 80},\n",
        "]\n",
        "# Bdim = []\n",
        "chord_group = [\n",
        "    [C, Em, Am],  # 0: Tonic           \n",
        "    [F, Dm],  # 1: SubD           \n",
        "    [G],  # 2: Dom           \n",
        "]"
      ],
      "metadata": {
        "id": "y1zRlBUfH-Ja"
      },
      "execution_count": null,
      "outputs": []
    },
    {
      "cell_type": "code",
      "source": [
        "import numpy\n",
        "a = ['a', 'b', 'c']\n",
        "p = [0.7, 0.2, 0.1]\n",
        "print(numpy.random.choice(a, 1, p=p))"
      ],
      "metadata": {
        "colab": {
          "base_uri": "https://localhost:8080/"
        },
        "id": "eszHuzdSIuXy",
        "outputId": "20087d4d-e178-40a8-e60d-ea726f385d24"
      },
      "execution_count": null,
      "outputs": [
        {
          "output_type": "stream",
          "name": "stdout",
          "text": [
            "['b']\n"
          ]
        }
      ]
    },
    {
      "cell_type": "code",
      "source": [
        "# 0: Tonic Group (1, 3, 6)\n",
        "# 1: SubDominant Group (2, 4)\n",
        "# 2: Dominant Group (5, *7)\n",
        "mm = [\n",
        "  [0.25, 0.25, 0.50,], # 0 : 토닉\n",
        "  [0.30, 0.20, 0.50,], # 1 : 섭도\n",
        "  [0.70, 0.00, 0.30,], # 2 : 도미\n",
        "]\n",
        "start = 0. # Tonic "
      ],
      "metadata": {
        "id": "jRa3ZjxzBmTB"
      },
      "execution_count": null,
      "outputs": []
    },
    {
      "cell_type": "code",
      "source": [
        "import numpy\n",
        "num_of_chords = 20\n",
        "state_progression = [0]\n",
        "for _ in range(num_of_chords):\n",
        "    current_state = state_progression[-1]\n",
        "    probs = mm[current_state]\n",
        "    next_state = numpy.random.choice([0, 1, 2], \n",
        "                                     1, \n",
        "                                     p=probs)[0]\n",
        "    state_progression.append(next_state)\n",
        "state_progression"
      ],
      "metadata": {
        "colab": {
          "base_uri": "https://localhost:8080/"
        },
        "id": "JQW0qOj4IG4e",
        "outputId": "55aa6102-8de2-4ebc-e0cd-2438d015f3f1"
      },
      "execution_count": null,
      "outputs": [
        {
          "output_type": "execute_result",
          "data": {
            "text/plain": [
              "[0, 0, 1, 1, 2, 2, 0, 2, 2, 0, 1, 1, 2, 0, 0, 0, 2, 0, 1, 2, 0]"
            ]
          },
          "metadata": {},
          "execution_count": 26
        }
      ]
    },
    {
      "cell_type": "code",
      "source": [
        "def generate_chord_group_progression(step, start_state):\n",
        "    mm = [\n",
        "        [0.25, 0.25, 0.50,], # 0 : 토닉\n",
        "        [0.30, 0.20, 0.50,], # 1 : 섭도\n",
        "        [0.70, 0.00, 0.30,], # 2 : 도미\n",
        "    ]\n",
        "    state_progression = [start_state]\n",
        "    for _ in range(step):\n",
        "        current_state = state_progression[-1]\n",
        "        probs = mm[current_state]\n",
        "        next_state = numpy.random.choice([0, 1, 2], \n",
        "                                        1, \n",
        "                                        p=probs)[0]\n",
        "        state_progression.append(next_state)\n",
        "    return state_progression"
      ],
      "metadata": {
        "id": "d5XLZb5WD8wP"
      },
      "execution_count": null,
      "outputs": []
    },
    {
      "cell_type": "markdown",
      "source": [
        ""
      ],
      "metadata": {
        "id": "jkHaheC9FNtr"
      }
    },
    {
      "cell_type": "code",
      "source": [
        "generate_chord_group_progression(10, 0)"
      ],
      "metadata": {
        "colab": {
          "base_uri": "https://localhost:8080/"
        },
        "id": "C3YjeneLFG3z",
        "outputId": "3fed9987-269a-438d-f648-c75f7b4a671b"
      },
      "execution_count": null,
      "outputs": [
        {
          "output_type": "execute_result",
          "data": {
            "text/plain": [
              "[0, 0, 0, 2, 2, 0, 1, 2, 0, 1, 1]"
            ]
          },
          "metadata": {},
          "execution_count": 28
        }
      ]
    },
    {
      "cell_type": "code",
      "source": [
        "test_list = [4, 6, 8, 4, 5]\n",
        "print(test_list[-1])\n",
        "print(test_list[len(test_list) - 1])"
      ],
      "metadata": {
        "colab": {
          "base_uri": "https://localhost:8080/"
        },
        "id": "Y6tWka2FiMR0",
        "outputId": "69220681-a841-4f10-9a14-566712774ec8"
      },
      "execution_count": null,
      "outputs": [
        {
          "output_type": "stream",
          "name": "stdout",
          "text": [
            "5\n",
            "5\n"
          ]
        }
      ]
    },
    {
      "cell_type": "code",
      "source": [
        "a = ['a', 'b', 'c']\n",
        "for i in a:\n",
        "  print(i)"
      ],
      "metadata": {
        "colab": {
          "base_uri": "https://localhost:8080/"
        },
        "id": "JihnlQwpT-ed",
        "outputId": "b21b4dbf-5557-4b1c-f0e1-7fbbedb3d0f1"
      },
      "execution_count": null,
      "outputs": [
        {
          "output_type": "stream",
          "name": "stdout",
          "text": [
            "a\n",
            "b\n",
            "c\n"
          ]
        }
      ]
    },
    {
      "cell_type": "code",
      "source": [
        "for i in range(len(a)):\n",
        "  j = a[i]\n",
        "  print(i, j)"
      ],
      "metadata": {
        "colab": {
          "base_uri": "https://localhost:8080/"
        },
        "id": "wLQtYoqHUJAI",
        "outputId": "bcebb457-3ecc-4473-cdac-c743cba0d99f"
      },
      "execution_count": null,
      "outputs": [
        {
          "output_type": "stream",
          "name": "stdout",
          "text": [
            "0 a\n",
            "1 b\n",
            "2 c\n"
          ]
        }
      ]
    },
    {
      "cell_type": "code",
      "source": [
        "a = ['a', 'b', 'c']\n",
        "for i, j in enumerate(a):\n",
        "  print(i, j)"
      ],
      "metadata": {
        "colab": {
          "base_uri": "https://localhost:8080/"
        },
        "id": "jrvW8qlhUV5B",
        "outputId": "e43742dd-c206-4a60-8495-a7ebea5dbd2f"
      },
      "execution_count": null,
      "outputs": [
        {
          "output_type": "stream",
          "name": "stdout",
          "text": [
            "0 a\n",
            "1 b\n",
            "2 c\n"
          ]
        }
      ]
    },
    {
      "cell_type": "code",
      "source": [
        "import random\n",
        "chord_group = [\n",
        "    [C, Em, Am],  # 0: Tonic           \n",
        "    [F, Dm],  # 1: SubD           \n",
        "    [G],  # 2: Dom           \n",
        "]\n",
        "chord_progression = []\n",
        "# [0, 2, 0, 1, 2, 0, 2, 2, 0, 1, 0, 2, 0, 0, 1, 2, 0, 0, 0, 2, 0]\n",
        "# for i, state in enumerate(state_progression):\n",
        "for i in range(len(state_progression)):\n",
        "  state = state_progression[i]\n",
        "  chord_candidate = chord_group[state]\n",
        "  chord_pick = random.choice(chord_candidate)  # random.choice(리스트) 리스트안에서 아이템 1개를 랜덤으로 뽑는다.\n",
        "  start_time = i * 4.0\n",
        "  for chord_note in chord_pick:\n",
        "    note_copy = chord_note.copy()\n",
        "    note_copy['start_time'] = start_time\n",
        "    note_copy['length'] = 4.0\n",
        "    chord_progression.append(note_copy)\n",
        "print(chord_progression)\n",
        "  \n",
        "write_midi(chord_progression, 120, 'chord_prog.mid')"
      ],
      "metadata": {
        "colab": {
          "base_uri": "https://localhost:8080/"
        },
        "id": "FFav4bYtLelK",
        "outputId": "2342362e-5041-4c9b-eb1c-3bbf1bc7c1b1"
      },
      "execution_count": null,
      "outputs": [
        {
          "output_type": "stream",
          "name": "stdout",
          "text": [
            "[{'pitch': 64, 'length': 4.0, 'start_time': 0.0, 'velocity': 80}, {'pitch': 67, 'length': 4.0, 'start_time': 0.0, 'velocity': 80}, {'pitch': 71, 'length': 4.0, 'start_time': 0.0, 'velocity': 80}, {'pitch': 57, 'length': 4.0, 'start_time': 4.0, 'velocity': 80}, {'pitch': 60, 'length': 4.0, 'start_time': 4.0, 'velocity': 80}, {'pitch': 64, 'length': 4.0, 'start_time': 4.0, 'velocity': 80}, {'pitch': 62, 'length': 4.0, 'start_time': 8.0, 'velocity': 80}, {'pitch': 65, 'length': 4.0, 'start_time': 8.0, 'velocity': 80}, {'pitch': 69, 'length': 4.0, 'start_time': 8.0, 'velocity': 80}, {'pitch': 62, 'length': 4.0, 'start_time': 12.0, 'velocity': 80}, {'pitch': 65, 'length': 4.0, 'start_time': 12.0, 'velocity': 80}, {'pitch': 69, 'length': 4.0, 'start_time': 12.0, 'velocity': 80}, {'pitch': 55, 'length': 4.0, 'start_time': 16.0, 'velocity': 80}, {'pitch': 59, 'length': 4.0, 'start_time': 16.0, 'velocity': 80}, {'pitch': 62, 'length': 4.0, 'start_time': 16.0, 'velocity': 80}, {'pitch': 55, 'length': 4.0, 'start_time': 20.0, 'velocity': 80}, {'pitch': 59, 'length': 4.0, 'start_time': 20.0, 'velocity': 80}, {'pitch': 62, 'length': 4.0, 'start_time': 20.0, 'velocity': 80}, {'pitch': 60, 'length': 4.0, 'start_time': 24.0, 'velocity': 80}, {'pitch': 64, 'length': 4.0, 'start_time': 24.0, 'velocity': 80}, {'pitch': 67, 'length': 4.0, 'start_time': 24.0, 'velocity': 80}, {'pitch': 55, 'length': 4.0, 'start_time': 28.0, 'velocity': 80}, {'pitch': 59, 'length': 4.0, 'start_time': 28.0, 'velocity': 80}, {'pitch': 62, 'length': 4.0, 'start_time': 28.0, 'velocity': 80}, {'pitch': 55, 'length': 4.0, 'start_time': 32.0, 'velocity': 80}, {'pitch': 59, 'length': 4.0, 'start_time': 32.0, 'velocity': 80}, {'pitch': 62, 'length': 4.0, 'start_time': 32.0, 'velocity': 80}, {'pitch': 60, 'length': 4.0, 'start_time': 36.0, 'velocity': 80}, {'pitch': 64, 'length': 4.0, 'start_time': 36.0, 'velocity': 80}, {'pitch': 67, 'length': 4.0, 'start_time': 36.0, 'velocity': 80}, {'pitch': 53, 'length': 4.0, 'start_time': 40.0, 'velocity': 80}, {'pitch': 57, 'length': 4.0, 'start_time': 40.0, 'velocity': 80}, {'pitch': 60, 'length': 4.0, 'start_time': 40.0, 'velocity': 80}, {'pitch': 62, 'length': 4.0, 'start_time': 44.0, 'velocity': 80}, {'pitch': 65, 'length': 4.0, 'start_time': 44.0, 'velocity': 80}, {'pitch': 69, 'length': 4.0, 'start_time': 44.0, 'velocity': 80}, {'pitch': 55, 'length': 4.0, 'start_time': 48.0, 'velocity': 80}, {'pitch': 59, 'length': 4.0, 'start_time': 48.0, 'velocity': 80}, {'pitch': 62, 'length': 4.0, 'start_time': 48.0, 'velocity': 80}, {'pitch': 57, 'length': 4.0, 'start_time': 52.0, 'velocity': 80}, {'pitch': 60, 'length': 4.0, 'start_time': 52.0, 'velocity': 80}, {'pitch': 64, 'length': 4.0, 'start_time': 52.0, 'velocity': 80}, {'pitch': 57, 'length': 4.0, 'start_time': 56.0, 'velocity': 80}, {'pitch': 60, 'length': 4.0, 'start_time': 56.0, 'velocity': 80}, {'pitch': 64, 'length': 4.0, 'start_time': 56.0, 'velocity': 80}, {'pitch': 60, 'length': 4.0, 'start_time': 60.0, 'velocity': 80}, {'pitch': 64, 'length': 4.0, 'start_time': 60.0, 'velocity': 80}, {'pitch': 67, 'length': 4.0, 'start_time': 60.0, 'velocity': 80}, {'pitch': 55, 'length': 4.0, 'start_time': 64.0, 'velocity': 80}, {'pitch': 59, 'length': 4.0, 'start_time': 64.0, 'velocity': 80}, {'pitch': 62, 'length': 4.0, 'start_time': 64.0, 'velocity': 80}, {'pitch': 60, 'length': 4.0, 'start_time': 68.0, 'velocity': 80}, {'pitch': 64, 'length': 4.0, 'start_time': 68.0, 'velocity': 80}, {'pitch': 67, 'length': 4.0, 'start_time': 68.0, 'velocity': 80}, {'pitch': 53, 'length': 4.0, 'start_time': 72.0, 'velocity': 80}, {'pitch': 57, 'length': 4.0, 'start_time': 72.0, 'velocity': 80}, {'pitch': 60, 'length': 4.0, 'start_time': 72.0, 'velocity': 80}, {'pitch': 55, 'length': 4.0, 'start_time': 76.0, 'velocity': 80}, {'pitch': 59, 'length': 4.0, 'start_time': 76.0, 'velocity': 80}, {'pitch': 62, 'length': 4.0, 'start_time': 76.0, 'velocity': 80}, {'pitch': 57, 'length': 4.0, 'start_time': 80.0, 'velocity': 80}, {'pitch': 60, 'length': 4.0, 'start_time': 80.0, 'velocity': 80}, {'pitch': 64, 'length': 4.0, 'start_time': 80.0, 'velocity': 80}]\n"
          ]
        }
      ]
    },
    {
      "cell_type": "code",
      "source": [
        "def convert_group_num_to_chord_num(group_progression):\n",
        "    # group_progression = [0, 2, 0, 1, 2, 0, 2, 2, 0, 1, 0, 2, 0, 0, 1, 2, 0, 0, 0, 2, 0]\n",
        "    chord_group = [\n",
        "        [1, 3, 6],  # 0: Tonic           \n",
        "        [4, 2],  # 1: SubD           \n",
        "        [5],  # 2: Dom           \n",
        "    ]\n",
        "    chord_progression = []\n",
        "    for i in range(len(group_progression)):\n",
        "        state = group_progression[i]\n",
        "        chord_candidate = chord_group[state]\n",
        "        chord_pick = random.choice(chord_candidate)  # random.choice(리스트) 리스트안에서 아이템 1개를 랜덤으로 뽑는다.\n",
        "        chord_progression.append(chord_pick)\n",
        "    return chord_progression"
      ],
      "metadata": {
        "id": "P_27bA71Fo6c"
      },
      "execution_count": null,
      "outputs": []
    },
    {
      "cell_type": "code",
      "source": [
        "test_input = [0, 2, 0, 1, 2, 0, 2, 2, 0, 1, 0, 2, 0, 0, 1, 2, 0, 0, 0, 2, 0]\n",
        "convert_group_num_to_chord_num(test_input)"
      ],
      "metadata": {
        "colab": {
          "base_uri": "https://localhost:8080/"
        },
        "id": "Oi0QGH9MG1Go",
        "outputId": "c2cdfa4b-4cea-4b5a-acb6-52872ff8124d"
      },
      "execution_count": null,
      "outputs": [
        {
          "output_type": "execute_result",
          "data": {
            "text/plain": [
              "[1, 5, 6, 4, 5, 3, 5, 5, 1, 2, 3, 5, 1, 6, 4, 5, 3, 1, 3, 5, 6]"
            ]
          },
          "metadata": {},
          "execution_count": 35
        }
      ]
    },
    {
      "cell_type": "code",
      "source": [
        "# 코드 구성음을 마음대로 펼치는 알고리즘을 구현해봅시다.\n",
        "# 음역대는 C3(60)~F4(77)\n",
        "chord_prog = [C, Am, F, G]\n",
        "write_midi(\n",
        "    [{'pitch': 60, 'start_time':0, 'length': 4., 'velocity': 100}],\n",
        "    100,\n",
        "    'C.mid'    \n",
        ")"
      ],
      "metadata": {
        "id": "-WN3CaKRRnWe"
      },
      "execution_count": null,
      "outputs": []
    },
    {
      "cell_type": "code",
      "source": [
        "# Chord_prog 안에 있는 4개의 코드(안에있는 노트정보도)가 차례로 출력되게 for문을 짜보세요. (2줄)\n",
        "for i in chord_prog:\n",
        "    print(i)"
      ],
      "metadata": {
        "colab": {
          "base_uri": "https://localhost:8080/"
        },
        "id": "BmCxhrVN9OIK",
        "outputId": "32c1d467-7677-4638-8493-5725bc108d61"
      },
      "execution_count": null,
      "outputs": [
        {
          "output_type": "stream",
          "name": "stdout",
          "text": [
            "[{'pitch': 60, 'length': 1.0, 'start_time': 0.0, 'velocity': 80}, {'pitch': 64, 'length': 1.0, 'start_time': 0.0, 'velocity': 80}, {'pitch': 67, 'length': 1.0, 'start_time': 0.0, 'velocity': 80}]\n",
            "[{'pitch': 57, 'length': 1.0, 'start_time': 0.0, 'velocity': 80}, {'pitch': 60, 'length': 1.0, 'start_time': 0.0, 'velocity': 80}, {'pitch': 64, 'length': 1.0, 'start_time': 0.0, 'velocity': 80}]\n",
            "[{'pitch': 53, 'length': 1.0, 'start_time': 0.0, 'velocity': 80}, {'pitch': 57, 'length': 1.0, 'start_time': 0.0, 'velocity': 80}, {'pitch': 60, 'length': 1.0, 'start_time': 0.0, 'velocity': 80}]\n",
            "[{'pitch': 55, 'length': 1.0, 'start_time': 0.0, 'velocity': 80}, {'pitch': 59, 'length': 1.0, 'start_time': 0.0, 'velocity': 80}, {'pitch': 62, 'length': 1.0, 'start_time': 0.0, 'velocity': 80}]\n"
          ]
        }
      ]
    },
    {
      "cell_type": "code",
      "source": [
        "# 0부터 127까지의 pitch midi number 중 모든 C(0~)를 찾아서 리스트에 저장해보세요. (4줄정도 필요)\n",
        "my_list = [] # == my_list = list()\n",
        "# C-2 = 0 \n",
        "# C-1 = 12\n",
        "# C0 = 24\n",
        "# C1 = 36 ......  \n",
        "for i in range(128):\n",
        "    if i % 12 == 0:\n",
        "        my_list.append(i)\n",
        "\n",
        "my_list = []\n",
        "for i in range(0, 128, 12):\n",
        "    my_list.append(i)"
      ],
      "metadata": {
        "id": "WMVtJjBDA3T-"
      },
      "execution_count": null,
      "outputs": []
    },
    {
      "cell_type": "code",
      "source": [
        "c_maj_scale = [0, 2, 4, 5, 7, 9, 11]\n",
        "c_maj_pitch_candidate = [\n",
        "    [], # c\n",
        "    [], # d\n",
        "    [], # e\n",
        "    [], # f\n",
        "    [], # g\n",
        "    [], # a\n",
        "    []  # b\n",
        "]\n",
        "# 각 스케일음의 59~F4(77) 범위내 모든 옥타브 pitch를 찾아서 위의 c_maj_scale_all_oct 안에 넣어주세요.\n",
        "# ** pitch 탐색 범위는 추후 조정될 수 있습니다.\n",
        "# ** 7번 코드를 복붙할 수도 있지만 for문을 사용해서 효과적으로 작동하도록 해보세요.\n",
        "min_pitch = 59\n",
        "max_pitch = 77\n",
        "for i in range(7):\n",
        "    for p in range(min_pitch, max_pitch+1):\n",
        "        if p%12 == c_maj_scale[i]: \n",
        "            c_maj_pitch_candidate[i].append(p)\n",
        "c_maj_pitch_candidate\n",
        "\n",
        "# # C\n",
        "# for p in range(59, 77+1):\n",
        "#    if p%12 == 0: \n",
        "#        c_maj_pitch_candidate[0].append(p)\n",
        "# # D\n",
        "# for p in range(59, 77+1):\n",
        "#    if p%12 == 2: \n",
        "#        c_maj_pitch_candidate[1].append(p)\n",
        "\n",
        "# # C\n",
        "# for p in range(60, 77+1, 12):\n",
        "#     c_maj_pitch_candidate[0].append(p)\n",
        "# # D\n",
        "# for p in range(62, 77+1, 12):\n",
        "#     c_maj_pitch_candidate[1].append(p)\n",
        "\n",
        "# ...\n",
        "# # B\n",
        "# for p in range(71, 77+1, 12):\n",
        "#     c_maj_pitch_candidate[1].append(p)\n",
        "\n"
      ],
      "metadata": {
        "colab": {
          "base_uri": "https://localhost:8080/"
        },
        "id": "l3qcBn9tFhXb",
        "outputId": "bd8508d0-9e11-4fbe-9801-536a95bf1c91"
      },
      "execution_count": 69,
      "outputs": [
        {
          "output_type": "execute_result",
          "data": {
            "text/plain": [
              "[[60, 72], [62, 74], [64, 76], [65, 77], [67], [69], [59, 71]]"
            ]
          },
          "metadata": {},
          "execution_count": 69
        }
      ]
    },
    {
      "cell_type": "code",
      "source": [
        "voicing_candidate_C = [\n",
        "    c_maj_pitch_candidate[0],  # [0] 도의 보이싱 후보 음들\n",
        "    c_maj_pitch_candidate[2],  # [1] 미의 보이싱 후보 음들\n",
        "    c_maj_pitch_candidate[4],  # [2] 솔의 보이싱 후보 음들\n",
        "]\n",
        "voicing_candidate_C\n",
        "# 위에 코드 기능이 이해되시는 분은 C, Dm, Em, F, G, Am에 대해서 모두 만들어주세요.\n",
        "voicing_candidate_Dm = [\n",
        "    c_maj_pitch_candidate[1],  # 레의 보이싱 후보 음들\n",
        "    c_maj_pitch_candidate[3],  # 파의 보이싱 후보 음들\n",
        "    c_maj_pitch_candidate[5],  # 라의 보이싱 후보 음들\n",
        "]\n",
        "voicing_candidate_Em = [\n",
        "    c_maj_pitch_candidate[2],  # 미의 보이싱 후보 음들\n",
        "    c_maj_pitch_candidate[4],  # 솔의 보이싱 후보 음들\n",
        "    c_maj_pitch_candidate[6],  # 시의 보이싱 후보 음들\n",
        "]\n",
        "voicing_candidate_F = [\n",
        "    c_maj_pitch_candidate[3],  # 파의 보이싱 후보 음들\n",
        "    c_maj_pitch_candidate[5],  # 라의 보이싱 후보 음들\n",
        "    c_maj_pitch_candidate[0],  # 도의 보이싱 후보 음들\n",
        "]\n",
        "voicing_candidate_G = [\n",
        "    c_maj_pitch_candidate[4],  # 솔의 보이싱 후보 음들\n",
        "    c_maj_pitch_candidate[6],  # 시의 보이싱 후보 음들\n",
        "    c_maj_pitch_candidate[1],  # 레의 보이싱 후보 음들\n",
        "]\n",
        "voicing_candidate_Am = [\n",
        "    c_maj_pitch_candidate[5],  # 라의 보이싱 후보 음들\n",
        "    c_maj_pitch_candidate[0],  # 도의 보이싱 후보 음들\n",
        "    c_maj_pitch_candidate[2],  # 미의 보이싱 후보 음들\n",
        "]\n",
        "print(voicing_candidate_C)\n",
        "print(voicing_candidate_Dm)\n",
        "print(voicing_candidate_Em)\n",
        "print(voicing_candidate_F)\n",
        "print(voicing_candidate_G)\n",
        "print(voicing_candidate_Am)\n"
      ],
      "metadata": {
        "colab": {
          "base_uri": "https://localhost:8080/"
        },
        "id": "ZoJMq0OYTV_T",
        "outputId": "b78e3573-caa0-4f7d-c4fb-97203e7ca19b"
      },
      "execution_count": null,
      "outputs": [
        {
          "output_type": "stream",
          "name": "stdout",
          "text": [
            "[[60, 72], [64, 76], [67]]\n",
            "[[62, 74], [65, 77], [69]]\n",
            "[[64, 76], [67], [59, 71]]\n",
            "[[65, 77], [69], [60, 72]]\n",
            "[[67], [59, 71], [62, 74]]\n",
            "[[69], [60, 72], [64, 76]]\n"
          ]
        }
      ]
    },
    {
      "cell_type": "code",
      "source": [
        "cmaj_scale_diatonic_chords = [\n",
        "    None, \n",
        "    C,  # [1] I  : C\n",
        "    Dm, # [2] II : Dm\n",
        "    Em, # [3] III: Em\n",
        "    F,  # [4] IV : F\n",
        "    G,  # [5] V  : G\n",
        "    Am  # [6] VI : Am\n",
        "]\n",
        "cmaj_scale_diatonic_chords_vc = [\n",
        "    None,\n",
        "    voicing_candidate_C, # [1] I  : C\n",
        "    voicing_candidate_Dm,# [2] II : Dm\n",
        "    voicing_candidate_Em,# [3] III: Em\n",
        "    voicing_candidate_F, # [4] IV : F\n",
        "    voicing_candidate_G, # [5] V  : G\n",
        "    voicing_candidate_Am,# [6] VI : Am\n",
        "]\n",
        "cmaj_scale_diatonic_chords_vc[1][0][0]\n",
        "\n",
        "chord_prog_num = [1, 6, 4, 5]  # C-Am-F-G\n",
        "# chord_prog_num의 \b각 코드의 보이싱 후보음들 중에서 랜덤으로 선택해서 최종 음을 선택하게 코드를 구성하시오.\n",
        "# 예) \n",
        "# C에서 voicing_candidate_C[0] 은 도의 보이싱 후보 음들\n",
        "# C에서 voicing_candidate_C[1] 은 미의 보이싱 후보 음들\n",
        "# C에서 voicing_candidate_C[2] 은 솔의 보이싱 후보 음들\n",
        "# random.choice(voicing_candidate_C[0])을 하면 도의 후보음들 중에서 랜덤으로 하나를 선택함\n",
        "# 코드 노트를 추가하는 방법은 새로운 딕셔너리를 생성해서 그안에 pitch, length, start_time, velocity를 \n",
        "# 부여하고 최종결과물 리스트에 append 한다. pitch는 랜덤으로 선택한 위의 음을 부여한다.\n",
        "\n",
        "# cmaj_scale_diatonic_chords_vc: Cmaj 스케일의 3화음의 \n",
        "chord_prog_number = [1, 6, 4, 5]\n",
        "voicing_result = []\n",
        "# for i, chord_num in enumerate(chord_prog_number):\n",
        "for i in range(len(chord_prog_number)):\n",
        "    chord_num = chord_prog_number[i]\n",
        "    start_time = i * 4.0 # 4/4박자 기준 1마디는 4.0 \n",
        "    voicing_candidate_group = cmaj_scale_diatonic_chords_vc[chord_num] \n",
        "    for j in range(len(voicing_candidate_group)):\n",
        "        voicing_candidate = voicing_candidate_group[j]\n",
        "        new_note = {}\n",
        "        new_note['pitch'] = random.choice(voicing_candidate)\n",
        "        new_note['length'] = 4.0\n",
        "        new_note['start_time'] = start_time # + random.uniform(-1/16., 1/16.) #   1/16 = 64분음표 길이\n",
        "        new_note['velocity'] = 70 + random.uniform(-10, 10)\n",
        "        voicing_result.append(new_note)\n",
        "write_midi(voicing_result, 120, 'voicing_test.mid')"
      ],
      "metadata": {
        "id": "TbU0mZ-mbuop"
      },
      "execution_count": null,
      "outputs": []
    },
    {
      "cell_type": "code",
      "source": [
        "def generate_pitch_candidate(scale_list, min_pitch, max_pitch):\n",
        "    pitch_candidate = [[] for _ in range(7)]\n",
        "    for i in range(7):\n",
        "        for p in range(min_pitch, max_pitch+1):\n",
        "            if p%12 == scale_list[i]: \n",
        "                pitch_candidate[i].append(p)\n",
        "    return pitch_candidate"
      ],
      "metadata": {
        "id": "o80Mk7KeJeRF"
      },
      "execution_count": null,
      "outputs": []
    },
    {
      "cell_type": "code",
      "source": [
        "pitch_candidate = generate_pitch_candidate([0, 2, 4, 5, 7, 9, 11], 55, 80)"
      ],
      "metadata": {
        "id": "8Cup-iYzKVJH"
      },
      "execution_count": null,
      "outputs": []
    },
    {
      "cell_type": "code",
      "source": [
        "voicig_candidate_group = []\n",
        "for i in range(7):\n",
        "    voicig_candidate_group.append([])\n",
        "    for j in range(3):\n",
        "        voicig_candidate_group[-1].append(pitch_candidate[(i + (j*2)) % 7])\n",
        "voicig_candidate_group"
      ],
      "metadata": {
        "colab": {
          "base_uri": "https://localhost:8080/"
        },
        "id": "zBl_0DJLMQBW",
        "outputId": "d5a7d6cf-0b10-4dd9-cb79-1faba2115297"
      },
      "execution_count": null,
      "outputs": [
        {
          "output_type": "execute_result",
          "data": {
            "text/plain": [
              "[[[60, 72], [64, 76], [55, 67, 79]],\n",
              " [[62, 74], [65, 77], [57, 69]],\n",
              " [[64, 76], [55, 67, 79], [59, 71]],\n",
              " [[65, 77], [57, 69], [60, 72]],\n",
              " [[55, 67, 79], [59, 71], [62, 74]],\n",
              " [[57, 69], [60, 72], [64, 76]],\n",
              " [[59, 71], [62, 74], [65, 77]]]"
            ]
          },
          "metadata": {},
          "execution_count": 44
        }
      ]
    },
    {
      "cell_type": "code",
      "source": [
        "def voicing_chord_progression(chord_num_progression, pitch_candidate, seventh, length):\n",
        "    voicig_candidate_group = [None,]\n",
        "    if seventh == True:\n",
        "        n = 4\n",
        "    else:\n",
        "        n = 3\n",
        "    for i in range(7):\n",
        "        voicig_candidate_group.append([])\n",
        "        for j in range(n):\n",
        "            voicig_candidate_group[-1].append(pitch_candidate[(i + (j*2)) % 7])\n",
        "    voicing_result = []\n",
        "    for i in range(len(chord_num_progression)):\n",
        "        chord_num = chord_num_progression[i]\n",
        "        start_time = i * length # 4/4박자 기준 1마디는 4.0 \n",
        "        voicing_candidate_group = voicig_candidate_group[chord_num] \n",
        "        for j in range(len(voicing_candidate_group)):\n",
        "            voicing_candidate = voicing_candidate_group[j]\n",
        "            new_note = {}\n",
        "            new_note['pitch'] = random.choice(voicing_candidate)\n",
        "            new_note['length'] = length\n",
        "            new_note['start_time'] = start_time # + random.uniform(-1/16., 1/16.) #   1/16 = 64분음표 길이\n",
        "            new_note['velocity'] = 70 \n",
        "            voicing_result.append(new_note)\n",
        "    return voicing_result "
      ],
      "metadata": {
        "id": "XBHCiJb3V7Kt"
      },
      "execution_count": null,
      "outputs": []
    },
    {
      "cell_type": "code",
      "source": [
        "from google.colab import drive\n",
        "drive.mount('/content/drive')"
      ],
      "metadata": {
        "colab": {
          "base_uri": "https://localhost:8080/"
        },
        "id": "6iZEX84KWTjN",
        "outputId": "90d65136-a0d7-4692-b2f1-46f5acfe20ae"
      },
      "execution_count": 61,
      "outputs": [
        {
          "output_type": "stream",
          "name": "stdout",
          "text": [
            "Drive already mounted at /content/drive; to attempt to forcibly remount, call drive.mount(\"/content/drive\", force_remount=True).\n"
          ]
        }
      ]
    },
    {
      "cell_type": "code",
      "source": [
        "import os\n",
        "\n",
        "# Step 1. 코드그룹 진행 생성\n",
        "chord_group_prog = generate_chord_group_progression(10, 0)\n",
        "# Step 2. 코드그룹 숫자 -> 코드숫자로 변환\n",
        "chord_num_prog = convert_group_num_to_chord_num(chord_group_prog)\n",
        "# Step 3. 보이싱에 사용 가능한 노트집합 생성\n",
        "p_candidate = generate_pitch_candidate([0, 2, 4, 5, 7, 9, 11], 50, 80)\n",
        "# Step 4. 랜덤 코드 보이싱 \n",
        "voicing_result = voicing_chord_progression(chord_num_prog, p_candidate, True, 2.0)\n",
        "# step 5. 미디파일로 결과 저장\n",
        "\n",
        "\n",
        "# 구글드라이브안에 폴더는 직접 만들어주셔야 합니다.\n",
        "dest_path = os.path.join('drive', 'MyDrive', '데이터', 'chord_voicing3.mid')\n",
        "write_midi(voicing_result, 120, dest_path)"
      ],
      "metadata": {
        "id": "v6Dh5ZltNC9o"
      },
      "execution_count": null,
      "outputs": []
    },
    {
      "cell_type": "markdown",
      "source": [
        ""
      ],
      "metadata": {
        "id": "4jI1EpHMXpSA"
      }
    },
    {
      "cell_type": "code",
      "source": [
        "# for문을 이용해서 N개의 랜덤코드보이싱 미디파일이 생성되게 만들어주세요\n",
        "# 생성한 미디파일을 한번에 받기위해 각자 구글드라이브를 마운트한후 특정 폴더 안에 모이게 해주세요"
      ],
      "metadata": {
        "id": "k3_mAYVqOSOp"
      },
      "execution_count": null,
      "outputs": []
    },
    {
      "cell_type": "markdown",
      "source": [
        ""
      ],
      "metadata": {
        "id": "prhRjm5CUqJv"
      }
    },
    {
      "cell_type": "code",
      "source": [
        "for i in range(10):\n",
        "    # Step 1. 코드그룹 진행 생성\n",
        "    chord_group_prog = generate_chord_group_progression(7, random.randint(0, 2))\n",
        "    # Step 2. 코드그룹 숫자 -> 코드숫자로 변환\n",
        "    chord_num_prog = convert_group_num_to_chord_num(chord_group_prog)\n",
        "    # Step 3. 보이싱에 사용 가능한 노트집합 생성\n",
        "    p_candidate = generate_pitch_candidate([0, 2, 4, 5, 7, 9, 11], 50, 80)\n",
        "    # Step 4. 랜덤 코드 보이싱 \n",
        "    voicing_result = voicing_chord_progression(chord_num_prog, p_candidate, True, 2.0)\n",
        "    # step 5. 미디파일로 결과 저장\n",
        "    dest_path = os.path.join('drive', 'MyDrive', '데이터', \n",
        "                             'chord_voicing_' + str(i).zfill(3) + '.mid')\n",
        "    write_midi(voicing_result, 120, dest_path)"
      ],
      "metadata": {
        "id": "SpF3mdaXixAI"
      },
      "execution_count": null,
      "outputs": []
    },
    {
      "cell_type": "code",
      "source": [
        "# !pip install mido\n",
        "import mido\n",
        "\n",
        "def read_midi_file(midi_file_path, ticks_per_beat=960):\n",
        "    # print('midi_file_path', midi_file_path)\n",
        "    mid = mido.MidiFile(midi_file_path, ticks_per_beat=ticks_per_beat)\n",
        "    note_temp = []\n",
        "    note_import = []\n",
        "    tick = 0\n",
        "    for i, track in enumerate(mid.tracks):\n",
        "        for msg in track:\n",
        "            tick += msg.time\n",
        "            if msg.type == 'note_on' or msg.type == 'note_off':\n",
        "                if msg.type == 'note_on':\n",
        "                    pitch = msg.note\n",
        "                    start = tick / float(mid.ticks_per_beat)\n",
        "#                     start = float(\"{:.4f}\".format(start))  # 시간 퀀타이즈\n",
        "                    velocity = msg.velocity\n",
        "                    note_info = {\n",
        "                        'pitch': pitch,\n",
        "                        'start_time': start,\n",
        "                        'length': None,\n",
        "                        'velocity': velocity,\n",
        "#                         'function': None,\n",
        "                    }\n",
        "                    note_temp.append(note_info)\n",
        "                elif msg.type == 'note_off':\n",
        "                    for j in range(len(note_temp)):\n",
        "                        if note_temp[j]['pitch'] == msg.note:\n",
        "                            end = tick / float(mid.ticks_per_beat)\n",
        "                            note_temp[j]['length'] = end - note_temp[j]['start_time']\n",
        "                            note_import.append(note_temp[j])\n",
        "                            del note_temp[j]\n",
        "                            break\n",
        "            else:\n",
        "                pass\n",
        "                # print(msg)\n",
        "\n",
        "    note_import = sorted(note_import, key=lambda k: k['start_time'])\n",
        "    return note_import"
      ],
      "metadata": {
        "colab": {
          "base_uri": "https://localhost:8080/"
        },
        "id": "jwl8dOAg9SNR",
        "outputId": "e3a1c92d-ee6a-42c6-c041-fa477984a479"
      },
      "execution_count": 60,
      "outputs": [
        {
          "output_type": "stream",
          "name": "stdout",
          "text": [
            "Looking in indexes: https://pypi.org/simple, https://us-python.pkg.dev/colab-wheels/public/simple/\n",
            "Collecting mido\n",
            "  Downloading mido-1.2.10-py2.py3-none-any.whl (51 kB)\n",
            "\u001b[K     |████████████████████████████████| 51 kB 3.0 MB/s \n",
            "\u001b[?25hInstalling collected packages: mido\n",
            "Successfully installed mido-1.2.10\n"
          ]
        }
      ]
    },
    {
      "cell_type": "code",
      "source": [
        "# 폴더안의 모든 미디파일 읽어오기\n",
        "midifile_path = '/content/drive/MyDrive/데이터/chord_voicing_002.mid' # 각자 다름\n",
        "read_midi_file(midifile_path)"
      ],
      "metadata": {
        "colab": {
          "base_uri": "https://localhost:8080/"
        },
        "id": "GZN1Vl5e9ZrU",
        "outputId": "0690f50f-e7e6-4691-faf8-d6e6e480abf1"
      },
      "execution_count": 62,
      "outputs": [
        {
          "output_type": "execute_result",
          "data": {
            "text/plain": [
              "[{'length': 2.0, 'pitch': 79, 'start_time': 0.0, 'velocity': 70},\n",
              " {'length': 2.0, 'pitch': 71, 'start_time': 0.0, 'velocity': 70},\n",
              " {'length': 2.0, 'pitch': 50, 'start_time': 0.0, 'velocity': 70},\n",
              " {'length': 2.0, 'pitch': 77, 'start_time': 0.0, 'velocity': 70},\n",
              " {'length': 2.0, 'pitch': 60, 'start_time': 2.0, 'velocity': 70},\n",
              " {'length': 2.0, 'pitch': 76, 'start_time': 2.0, 'velocity': 70},\n",
              " {'length': 2.0, 'pitch': 79, 'start_time': 2.0, 'velocity': 70},\n",
              " {'length': 2.0, 'pitch': 59, 'start_time': 2.0, 'velocity': 70},\n",
              " {'length': 2.0, 'pitch': 76, 'start_time': 4.0, 'velocity': 70},\n",
              " {'length': 2.0, 'pitch': 79, 'start_time': 4.0, 'velocity': 70},\n",
              " {'length': 2.0, 'pitch': 71, 'start_time': 4.0, 'velocity': 70},\n",
              " {'length': 2.0, 'pitch': 74, 'start_time': 4.0, 'velocity': 70},\n",
              " {'length': 2.0, 'pitch': 67, 'start_time': 6.0, 'velocity': 70},\n",
              " {'length': 2.0, 'pitch': 59, 'start_time': 6.0, 'velocity': 70},\n",
              " {'length': 2.0, 'pitch': 62, 'start_time': 6.0, 'velocity': 70},\n",
              " {'length': 2.0, 'pitch': 65, 'start_time': 6.0, 'velocity': 70},\n",
              " {'length': 2.0, 'pitch': 72, 'start_time': 8.0, 'velocity': 70},\n",
              " {'length': 2.0, 'pitch': 52, 'start_time': 8.0, 'velocity': 70},\n",
              " {'length': 2.0, 'pitch': 79, 'start_time': 8.0, 'velocity': 70},\n",
              " {'length': 2.0, 'pitch': 71, 'start_time': 8.0, 'velocity': 70},\n",
              " {'length': 2.0, 'pitch': 79, 'start_time': 10.0, 'velocity': 70},\n",
              " {'length': 2.0, 'pitch': 71, 'start_time': 10.0, 'velocity': 70},\n",
              " {'length': 2.0, 'pitch': 74, 'start_time': 10.0, 'velocity': 70},\n",
              " {'length': 2.0, 'pitch': 77, 'start_time': 10.0, 'velocity': 70},\n",
              " {'length': 2.0, 'pitch': 76, 'start_time': 12.0, 'velocity': 70},\n",
              " {'length': 2.0, 'pitch': 55, 'start_time': 12.0, 'velocity': 70},\n",
              " {'length': 2.0, 'pitch': 59, 'start_time': 12.0, 'velocity': 70},\n",
              " {'length': 2.0, 'pitch': 74, 'start_time': 12.0, 'velocity': 70},\n",
              " {'length': 2.0, 'pitch': 55, 'start_time': 14.0, 'velocity': 70},\n",
              " {'length': 2.0, 'pitch': 59, 'start_time': 14.0, 'velocity': 70},\n",
              " {'length': 2.0, 'pitch': 50, 'start_time': 14.0, 'velocity': 70},\n",
              " {'length': 2.0, 'pitch': 77, 'start_time': 14.0, 'velocity': 70}]"
            ]
          },
          "metadata": {},
          "execution_count": 62
        }
      ]
    },
    {
      "cell_type": "code",
      "source": [
        "import glob\n",
        "import os\n",
        "midifile_folder_path = '/content/drive/MyDrive/데이터'\n",
        "all_midi_files = glob.glob(os.path.join(midifile_folder_path, '*.mid'))"
      ],
      "metadata": {
        "id": "77cnUAHvAihz"
      },
      "execution_count": 77,
      "outputs": []
    },
    {
      "cell_type": "code",
      "source": [
        "note_seq_list = []\n",
        "for i in range(len(all_midi_files)):\n",
        "    # print(all_midi_files[i])\n",
        "    note_seq_list.append(read_midi_file(all_midi_files[i]))\n",
        "    # print(note_seq_list[i])\n",
        "    # print(note_seq_list[-1])"
      ],
      "metadata": {
        "colab": {
          "base_uri": "https://localhost:8080/"
        },
        "id": "lTH6OCqfCIlX",
        "outputId": "b2e6f483-075b-4922-fbd5-faea08009b52"
      },
      "execution_count": 78,
      "outputs": [
        {
          "output_type": "stream",
          "name": "stdout",
          "text": [
            "/content/drive/MyDrive/데이터/chord_voicing_000.mid\n",
            "[{'pitch': 52, 'start_time': 0.0, 'length': 2.0, 'velocity': 70}, {'pitch': 55, 'start_time': 0.0, 'length': 2.0, 'velocity': 70}, {'pitch': 59, 'start_time': 0.0, 'length': 2.0, 'velocity': 70}, {'pitch': 50, 'start_time': 0.0, 'length': 2.0, 'velocity': 70}, {'pitch': 53, 'start_time': 2.0, 'length': 2.0, 'velocity': 70}, {'pitch': 69, 'start_time': 2.0, 'length': 2.0, 'velocity': 70}, {'pitch': 72, 'start_time': 2.0, 'length': 2.0, 'velocity': 70}, {'pitch': 52, 'start_time': 2.0, 'length': 2.0, 'velocity': 70}, {'pitch': 67, 'start_time': 4.0, 'length': 2.0, 'velocity': 70}, {'pitch': 59, 'start_time': 4.0, 'length': 2.0, 'velocity': 70}, {'pitch': 74, 'start_time': 4.0, 'length': 2.0, 'velocity': 70}, {'pitch': 77, 'start_time': 4.0, 'length': 2.0, 'velocity': 70}, {'pitch': 69, 'start_time': 6.0, 'length': 2.0, 'velocity': 70}, {'pitch': 60, 'start_time': 6.0, 'length': 2.0, 'velocity': 70}, {'pitch': 76, 'start_time': 6.0, 'length': 2.0, 'velocity': 70}, {'pitch': 55, 'start_time': 6.0, 'length': 2.0, 'velocity': 70}, {'pitch': 55, 'start_time': 8.0, 'length': 2.0, 'velocity': 70}, {'pitch': 71, 'start_time': 8.0, 'length': 2.0, 'velocity': 70}, {'pitch': 50, 'start_time': 8.0, 'length': 2.0, 'velocity': 70}, {'pitch': 65, 'start_time': 8.0, 'length': 2.0, 'velocity': 70}, {'pitch': 69, 'start_time': 10.0, 'length': 2.0, 'velocity': 70}, {'pitch': 72, 'start_time': 10.0, 'length': 2.0, 'velocity': 70}, {'pitch': 52, 'start_time': 10.0, 'length': 2.0, 'velocity': 70}, {'pitch': 55, 'start_time': 10.0, 'length': 2.0, 'velocity': 70}, {'pitch': 50, 'start_time': 12.0, 'length': 2.0, 'velocity': 70}, {'pitch': 53, 'start_time': 12.0, 'length': 2.0, 'velocity': 70}, {'pitch': 69, 'start_time': 12.0, 'length': 2.0, 'velocity': 70}, {'pitch': 72, 'start_time': 12.0, 'length': 2.0, 'velocity': 70}, {'pitch': 55, 'start_time': 14.0, 'length': 2.0, 'velocity': 70}, {'pitch': 59, 'start_time': 14.0, 'length': 2.0, 'velocity': 70}, {'pitch': 50, 'start_time': 14.0, 'length': 2.0, 'velocity': 70}, {'pitch': 65, 'start_time': 14.0, 'length': 2.0, 'velocity': 70}]\n",
            "/content/drive/MyDrive/데이터/chord_voicing_003.mid\n",
            "[{'pitch': 53, 'start_time': 0.0, 'length': 2.0, 'velocity': 70}, {'pitch': 69, 'start_time': 0.0, 'length': 2.0, 'velocity': 70}, {'pitch': 60, 'start_time': 0.0, 'length': 2.0, 'velocity': 70}, {'pitch': 52, 'start_time': 0.0, 'length': 2.0, 'velocity': 70}, {'pitch': 76, 'start_time': 2.0, 'length': 2.0, 'velocity': 70}, {'pitch': 67, 'start_time': 2.0, 'length': 2.0, 'velocity': 70}, {'pitch': 59, 'start_time': 2.0, 'length': 2.0, 'velocity': 70}, {'pitch': 62, 'start_time': 2.0, 'length': 2.0, 'velocity': 70}, {'pitch': 55, 'start_time': 4.0, 'length': 2.0, 'velocity': 70}, {'pitch': 59, 'start_time': 4.0, 'length': 2.0, 'velocity': 70}, {'pitch': 62, 'start_time': 4.0, 'length': 2.0, 'velocity': 70}, {'pitch': 77, 'start_time': 4.0, 'length': 2.0, 'velocity': 70}, {'pitch': 55, 'start_time': 6.0, 'length': 2.0, 'velocity': 70}, {'pitch': 71, 'start_time': 6.0, 'length': 2.0, 'velocity': 70}, {'pitch': 62, 'start_time': 6.0, 'length': 2.0, 'velocity': 70}, {'pitch': 65, 'start_time': 6.0, 'length': 2.0, 'velocity': 70}, {'pitch': 64, 'start_time': 8.0, 'length': 2.0, 'velocity': 70}, {'pitch': 55, 'start_time': 8.0, 'length': 2.0, 'velocity': 70}, {'pitch': 71, 'start_time': 8.0, 'length': 2.0, 'velocity': 70}, {'pitch': 50, 'start_time': 8.0, 'length': 2.0, 'velocity': 70}, {'pitch': 79, 'start_time': 10.0, 'length': 2.0, 'velocity': 70}, {'pitch': 59, 'start_time': 10.0, 'length': 2.0, 'velocity': 70}, {'pitch': 62, 'start_time': 10.0, 'length': 2.0, 'velocity': 70}, {'pitch': 65, 'start_time': 10.0, 'length': 2.0, 'velocity': 70}, {'pitch': 69, 'start_time': 12.0, 'length': 2.0, 'velocity': 70}, {'pitch': 60, 'start_time': 12.0, 'length': 2.0, 'velocity': 70}, {'pitch': 76, 'start_time': 12.0, 'length': 2.0, 'velocity': 70}, {'pitch': 79, 'start_time': 12.0, 'length': 2.0, 'velocity': 70}, {'pitch': 67, 'start_time': 14.0, 'length': 2.0, 'velocity': 70}, {'pitch': 71, 'start_time': 14.0, 'length': 2.0, 'velocity': 70}, {'pitch': 50, 'start_time': 14.0, 'length': 2.0, 'velocity': 70}, {'pitch': 77, 'start_time': 14.0, 'length': 2.0, 'velocity': 70}]\n",
            "/content/drive/MyDrive/데이터/chord_voicing_001.mid\n",
            "[{'pitch': 69, 'start_time': 0.0, 'length': 2.0, 'velocity': 70}, {'pitch': 60, 'start_time': 0.0, 'length': 2.0, 'velocity': 70}, {'pitch': 64, 'start_time': 0.0, 'length': 2.0, 'velocity': 70}, {'pitch': 67, 'start_time': 0.0, 'length': 2.0, 'velocity': 70}, {'pitch': 55, 'start_time': 2.0, 'length': 2.0, 'velocity': 70}, {'pitch': 59, 'start_time': 2.0, 'length': 2.0, 'velocity': 70}, {'pitch': 62, 'start_time': 2.0, 'length': 2.0, 'velocity': 70}, {'pitch': 77, 'start_time': 2.0, 'length': 2.0, 'velocity': 70}, {'pitch': 52, 'start_time': 4.0, 'length': 2.0, 'velocity': 70}, {'pitch': 55, 'start_time': 4.0, 'length': 2.0, 'velocity': 70}, {'pitch': 59, 'start_time': 4.0, 'length': 2.0, 'velocity': 70}, {'pitch': 50, 'start_time': 4.0, 'length': 2.0, 'velocity': 70}, {'pitch': 55, 'start_time': 6.0, 'length': 2.0, 'velocity': 70}, {'pitch': 71, 'start_time': 6.0, 'length': 2.0, 'velocity': 70}, {'pitch': 74, 'start_time': 6.0, 'length': 2.0, 'velocity': 70}, {'pitch': 65, 'start_time': 6.0, 'length': 2.0, 'velocity': 70}, {'pitch': 57, 'start_time': 8.0, 'length': 2.0, 'velocity': 70}, {'pitch': 60, 'start_time': 8.0, 'length': 2.0, 'velocity': 70}, {'pitch': 52, 'start_time': 8.0, 'length': 2.0, 'velocity': 70}, {'pitch': 55, 'start_time': 8.0, 'length': 2.0, 'velocity': 70}, {'pitch': 79, 'start_time': 10.0, 'length': 2.0, 'velocity': 70}, {'pitch': 71, 'start_time': 10.0, 'length': 2.0, 'velocity': 70}, {'pitch': 50, 'start_time': 10.0, 'length': 2.0, 'velocity': 70}, {'pitch': 77, 'start_time': 10.0, 'length': 2.0, 'velocity': 70}, {'pitch': 52, 'start_time': 12.0, 'length': 2.0, 'velocity': 70}, {'pitch': 67, 'start_time': 12.0, 'length': 2.0, 'velocity': 70}, {'pitch': 71, 'start_time': 12.0, 'length': 2.0, 'velocity': 70}, {'pitch': 62, 'start_time': 12.0, 'length': 2.0, 'velocity': 70}, {'pitch': 57, 'start_time': 14.0, 'length': 2.0, 'velocity': 70}, {'pitch': 72, 'start_time': 14.0, 'length': 2.0, 'velocity': 70}, {'pitch': 76, 'start_time': 14.0, 'length': 2.0, 'velocity': 70}, {'pitch': 67, 'start_time': 14.0, 'length': 2.0, 'velocity': 70}]\n",
            "/content/drive/MyDrive/데이터/chord_voicing_002.mid\n",
            "[{'pitch': 79, 'start_time': 0.0, 'length': 2.0, 'velocity': 70}, {'pitch': 71, 'start_time': 0.0, 'length': 2.0, 'velocity': 70}, {'pitch': 50, 'start_time': 0.0, 'length': 2.0, 'velocity': 70}, {'pitch': 77, 'start_time': 0.0, 'length': 2.0, 'velocity': 70}, {'pitch': 60, 'start_time': 2.0, 'length': 2.0, 'velocity': 70}, {'pitch': 76, 'start_time': 2.0, 'length': 2.0, 'velocity': 70}, {'pitch': 79, 'start_time': 2.0, 'length': 2.0, 'velocity': 70}, {'pitch': 59, 'start_time': 2.0, 'length': 2.0, 'velocity': 70}, {'pitch': 76, 'start_time': 4.0, 'length': 2.0, 'velocity': 70}, {'pitch': 79, 'start_time': 4.0, 'length': 2.0, 'velocity': 70}, {'pitch': 71, 'start_time': 4.0, 'length': 2.0, 'velocity': 70}, {'pitch': 74, 'start_time': 4.0, 'length': 2.0, 'velocity': 70}, {'pitch': 67, 'start_time': 6.0, 'length': 2.0, 'velocity': 70}, {'pitch': 59, 'start_time': 6.0, 'length': 2.0, 'velocity': 70}, {'pitch': 62, 'start_time': 6.0, 'length': 2.0, 'velocity': 70}, {'pitch': 65, 'start_time': 6.0, 'length': 2.0, 'velocity': 70}, {'pitch': 72, 'start_time': 8.0, 'length': 2.0, 'velocity': 70}, {'pitch': 52, 'start_time': 8.0, 'length': 2.0, 'velocity': 70}, {'pitch': 79, 'start_time': 8.0, 'length': 2.0, 'velocity': 70}, {'pitch': 71, 'start_time': 8.0, 'length': 2.0, 'velocity': 70}, {'pitch': 79, 'start_time': 10.0, 'length': 2.0, 'velocity': 70}, {'pitch': 71, 'start_time': 10.0, 'length': 2.0, 'velocity': 70}, {'pitch': 74, 'start_time': 10.0, 'length': 2.0, 'velocity': 70}, {'pitch': 77, 'start_time': 10.0, 'length': 2.0, 'velocity': 70}, {'pitch': 76, 'start_time': 12.0, 'length': 2.0, 'velocity': 70}, {'pitch': 55, 'start_time': 12.0, 'length': 2.0, 'velocity': 70}, {'pitch': 59, 'start_time': 12.0, 'length': 2.0, 'velocity': 70}, {'pitch': 74, 'start_time': 12.0, 'length': 2.0, 'velocity': 70}, {'pitch': 55, 'start_time': 14.0, 'length': 2.0, 'velocity': 70}, {'pitch': 59, 'start_time': 14.0, 'length': 2.0, 'velocity': 70}, {'pitch': 50, 'start_time': 14.0, 'length': 2.0, 'velocity': 70}, {'pitch': 77, 'start_time': 14.0, 'length': 2.0, 'velocity': 70}]\n",
            "/content/drive/MyDrive/데이터/chord_voicing_004.mid\n",
            "[{'pitch': 57, 'start_time': 0.0, 'length': 2.0, 'velocity': 70}, {'pitch': 60, 'start_time': 0.0, 'length': 2.0, 'velocity': 70}, {'pitch': 64, 'start_time': 0.0, 'length': 2.0, 'velocity': 70}, {'pitch': 55, 'start_time': 0.0, 'length': 2.0, 'velocity': 70}, {'pitch': 62, 'start_time': 2.0, 'length': 2.0, 'velocity': 70}, {'pitch': 65, 'start_time': 2.0, 'length': 2.0, 'velocity': 70}, {'pitch': 57, 'start_time': 2.0, 'length': 2.0, 'velocity': 70}, {'pitch': 60, 'start_time': 2.0, 'length': 2.0, 'velocity': 70}, {'pitch': 77, 'start_time': 4.0, 'length': 2.0, 'velocity': 70}, {'pitch': 57, 'start_time': 4.0, 'length': 2.0, 'velocity': 70}, {'pitch': 72, 'start_time': 4.0, 'length': 2.0, 'velocity': 70}, {'pitch': 52, 'start_time': 4.0, 'length': 2.0, 'velocity': 70}, {'pitch': 79, 'start_time': 6.0, 'length': 2.0, 'velocity': 70}, {'pitch': 71, 'start_time': 6.0, 'length': 2.0, 'velocity': 70}, {'pitch': 74, 'start_time': 6.0, 'length': 2.0, 'velocity': 70}, {'pitch': 77, 'start_time': 6.0, 'length': 2.0, 'velocity': 70}, {'pitch': 67, 'start_time': 8.0, 'length': 2.0, 'velocity': 70}, {'pitch': 59, 'start_time': 8.0, 'length': 2.0, 'velocity': 70}, {'pitch': 74, 'start_time': 8.0, 'length': 2.0, 'velocity': 70}, {'pitch': 65, 'start_time': 8.0, 'length': 2.0, 'velocity': 70}, {'pitch': 72, 'start_time': 10.0, 'length': 2.0, 'velocity': 70}, {'pitch': 64, 'start_time': 10.0, 'length': 2.0, 'velocity': 70}, {'pitch': 79, 'start_time': 10.0, 'length': 2.0, 'velocity': 70}, {'pitch': 59, 'start_time': 10.0, 'length': 2.0, 'velocity': 70}, {'pitch': 79, 'start_time': 12.0, 'length': 2.0, 'velocity': 70}, {'pitch': 59, 'start_time': 12.0, 'length': 2.0, 'velocity': 70}, {'pitch': 74, 'start_time': 12.0, 'length': 2.0, 'velocity': 70}, {'pitch': 77, 'start_time': 12.0, 'length': 2.0, 'velocity': 70}, {'pitch': 69, 'start_time': 14.0, 'length': 2.0, 'velocity': 70}, {'pitch': 60, 'start_time': 14.0, 'length': 2.0, 'velocity': 70}, {'pitch': 76, 'start_time': 14.0, 'length': 2.0, 'velocity': 70}, {'pitch': 55, 'start_time': 14.0, 'length': 2.0, 'velocity': 70}]\n",
            "/content/drive/MyDrive/데이터/chord_voicing_006.mid\n",
            "[{'pitch': 69, 'start_time': 0.0, 'length': 2.0, 'velocity': 70}, {'pitch': 60, 'start_time': 0.0, 'length': 2.0, 'velocity': 70}, {'pitch': 64, 'start_time': 0.0, 'length': 2.0, 'velocity': 70}, {'pitch': 79, 'start_time': 0.0, 'length': 2.0, 'velocity': 70}, {'pitch': 65, 'start_time': 2.0, 'length': 2.0, 'velocity': 70}, {'pitch': 57, 'start_time': 2.0, 'length': 2.0, 'velocity': 70}, {'pitch': 60, 'start_time': 2.0, 'length': 2.0, 'velocity': 70}, {'pitch': 76, 'start_time': 2.0, 'length': 2.0, 'velocity': 70}, {'pitch': 67, 'start_time': 4.0, 'length': 2.0, 'velocity': 70}, {'pitch': 59, 'start_time': 4.0, 'length': 2.0, 'velocity': 70}, {'pitch': 62, 'start_time': 4.0, 'length': 2.0, 'velocity': 70}, {'pitch': 77, 'start_time': 4.0, 'length': 2.0, 'velocity': 70}, {'pitch': 57, 'start_time': 6.0, 'length': 2.0, 'velocity': 70}, {'pitch': 60, 'start_time': 6.0, 'length': 2.0, 'velocity': 70}, {'pitch': 52, 'start_time': 6.0, 'length': 2.0, 'velocity': 70}, {'pitch': 79, 'start_time': 6.0, 'length': 2.0, 'velocity': 70}, {'pitch': 50, 'start_time': 8.0, 'length': 2.0, 'velocity': 70}, {'pitch': 65, 'start_time': 8.0, 'length': 2.0, 'velocity': 70}, {'pitch': 57, 'start_time': 8.0, 'length': 2.0, 'velocity': 70}, {'pitch': 60, 'start_time': 8.0, 'length': 2.0, 'velocity': 70}, {'pitch': 69, 'start_time': 10.0, 'length': 2.0, 'velocity': 70}, {'pitch': 72, 'start_time': 10.0, 'length': 2.0, 'velocity': 70}, {'pitch': 64, 'start_time': 10.0, 'length': 2.0, 'velocity': 70}, {'pitch': 55, 'start_time': 10.0, 'length': 2.0, 'velocity': 70}, {'pitch': 57, 'start_time': 12.0, 'length': 2.0, 'velocity': 70}, {'pitch': 60, 'start_time': 12.0, 'length': 2.0, 'velocity': 70}, {'pitch': 76, 'start_time': 12.0, 'length': 2.0, 'velocity': 70}, {'pitch': 55, 'start_time': 12.0, 'length': 2.0, 'velocity': 70}, {'pitch': 72, 'start_time': 14.0, 'length': 2.0, 'velocity': 70}, {'pitch': 52, 'start_time': 14.0, 'length': 2.0, 'velocity': 70}, {'pitch': 55, 'start_time': 14.0, 'length': 2.0, 'velocity': 70}, {'pitch': 59, 'start_time': 14.0, 'length': 2.0, 'velocity': 70}]\n",
            "/content/drive/MyDrive/데이터/chord_voicing_005.mid\n",
            "[{'pitch': 77, 'start_time': 0.0, 'length': 2.0, 'velocity': 70}, {'pitch': 69, 'start_time': 0.0, 'length': 2.0, 'velocity': 70}, {'pitch': 60, 'start_time': 0.0, 'length': 2.0, 'velocity': 70}, {'pitch': 64, 'start_time': 0.0, 'length': 2.0, 'velocity': 70}, {'pitch': 79, 'start_time': 2.0, 'length': 2.0, 'velocity': 70}, {'pitch': 59, 'start_time': 2.0, 'length': 2.0, 'velocity': 70}, {'pitch': 62, 'start_time': 2.0, 'length': 2.0, 'velocity': 70}, {'pitch': 53, 'start_time': 2.0, 'length': 2.0, 'velocity': 70}, {'pitch': 57, 'start_time': 4.0, 'length': 2.0, 'velocity': 70}, {'pitch': 72, 'start_time': 4.0, 'length': 2.0, 'velocity': 70}, {'pitch': 76, 'start_time': 4.0, 'length': 2.0, 'velocity': 70}, {'pitch': 79, 'start_time': 4.0, 'length': 2.0, 'velocity': 70}, {'pitch': 52, 'start_time': 6.0, 'length': 2.0, 'velocity': 70}, {'pitch': 67, 'start_time': 6.0, 'length': 2.0, 'velocity': 70}, {'pitch': 71, 'start_time': 6.0, 'length': 2.0, 'velocity': 70}, {'pitch': 74, 'start_time': 6.0, 'length': 2.0, 'velocity': 70}, {'pitch': 77, 'start_time': 8.0, 'length': 2.0, 'velocity': 70}, {'pitch': 69, 'start_time': 8.0, 'length': 2.0, 'velocity': 70}, {'pitch': 60, 'start_time': 8.0, 'length': 2.0, 'velocity': 70}, {'pitch': 76, 'start_time': 8.0, 'length': 2.0, 'velocity': 70}, {'pitch': 72, 'start_time': 10.0, 'length': 2.0, 'velocity': 70}, {'pitch': 64, 'start_time': 10.0, 'length': 2.0, 'velocity': 70}, {'pitch': 55, 'start_time': 10.0, 'length': 2.0, 'velocity': 70}, {'pitch': 71, 'start_time': 10.0, 'length': 2.0, 'velocity': 70}, {'pitch': 79, 'start_time': 12.0, 'length': 2.0, 'velocity': 70}, {'pitch': 71, 'start_time': 12.0, 'length': 2.0, 'velocity': 70}, {'pitch': 74, 'start_time': 12.0, 'length': 2.0, 'velocity': 70}, {'pitch': 77, 'start_time': 12.0, 'length': 2.0, 'velocity': 70}, {'pitch': 52, 'start_time': 14.0, 'length': 2.0, 'velocity': 70}, {'pitch': 79, 'start_time': 14.0, 'length': 2.0, 'velocity': 70}, {'pitch': 59, 'start_time': 14.0, 'length': 2.0, 'velocity': 70}, {'pitch': 50, 'start_time': 14.0, 'length': 2.0, 'velocity': 70}]\n",
            "/content/drive/MyDrive/데이터/chord_voicing_007.mid\n",
            "[{'pitch': 67, 'start_time': 0.0, 'length': 2.0, 'velocity': 70}, {'pitch': 71, 'start_time': 0.0, 'length': 2.0, 'velocity': 70}, {'pitch': 62, 'start_time': 0.0, 'length': 2.0, 'velocity': 70}, {'pitch': 65, 'start_time': 0.0, 'length': 2.0, 'velocity': 70}, {'pitch': 55, 'start_time': 2.0, 'length': 2.0, 'velocity': 70}, {'pitch': 59, 'start_time': 2.0, 'length': 2.0, 'velocity': 70}, {'pitch': 62, 'start_time': 2.0, 'length': 2.0, 'velocity': 70}, {'pitch': 77, 'start_time': 2.0, 'length': 2.0, 'velocity': 70}, {'pitch': 72, 'start_time': 4.0, 'length': 2.0, 'velocity': 70}, {'pitch': 76, 'start_time': 4.0, 'length': 2.0, 'velocity': 70}, {'pitch': 67, 'start_time': 4.0, 'length': 2.0, 'velocity': 70}, {'pitch': 71, 'start_time': 4.0, 'length': 2.0, 'velocity': 70}, {'pitch': 55, 'start_time': 6.0, 'length': 2.0, 'velocity': 70}, {'pitch': 71, 'start_time': 6.0, 'length': 2.0, 'velocity': 70}, {'pitch': 74, 'start_time': 6.0, 'length': 2.0, 'velocity': 70}, {'pitch': 77, 'start_time': 6.0, 'length': 2.0, 'velocity': 70}, {'pitch': 72, 'start_time': 8.0, 'length': 2.0, 'velocity': 70}, {'pitch': 64, 'start_time': 8.0, 'length': 2.0, 'velocity': 70}, {'pitch': 55, 'start_time': 8.0, 'length': 2.0, 'velocity': 70}, {'pitch': 59, 'start_time': 8.0, 'length': 2.0, 'velocity': 70}, {'pitch': 79, 'start_time': 10.0, 'length': 2.0, 'velocity': 70}, {'pitch': 71, 'start_time': 10.0, 'length': 2.0, 'velocity': 70}, {'pitch': 50, 'start_time': 10.0, 'length': 2.0, 'velocity': 70}, {'pitch': 53, 'start_time': 10.0, 'length': 2.0, 'velocity': 70}, {'pitch': 76, 'start_time': 12.0, 'length': 2.0, 'velocity': 70}, {'pitch': 79, 'start_time': 12.0, 'length': 2.0, 'velocity': 70}, {'pitch': 59, 'start_time': 12.0, 'length': 2.0, 'velocity': 70}, {'pitch': 74, 'start_time': 12.0, 'length': 2.0, 'velocity': 70}, {'pitch': 77, 'start_time': 14.0, 'length': 2.0, 'velocity': 70}, {'pitch': 69, 'start_time': 14.0, 'length': 2.0, 'velocity': 70}, {'pitch': 72, 'start_time': 14.0, 'length': 2.0, 'velocity': 70}, {'pitch': 52, 'start_time': 14.0, 'length': 2.0, 'velocity': 70}]\n",
            "/content/drive/MyDrive/데이터/chord_voicing_008.mid\n",
            "[{'pitch': 72, 'start_time': 0.0, 'length': 2.0, 'velocity': 70}, {'pitch': 52, 'start_time': 0.0, 'length': 2.0, 'velocity': 70}, {'pitch': 55, 'start_time': 0.0, 'length': 2.0, 'velocity': 70}, {'pitch': 71, 'start_time': 0.0, 'length': 2.0, 'velocity': 70}, {'pitch': 53, 'start_time': 2.0, 'length': 2.0, 'velocity': 70}, {'pitch': 57, 'start_time': 2.0, 'length': 2.0, 'velocity': 70}, {'pitch': 72, 'start_time': 2.0, 'length': 2.0, 'velocity': 70}, {'pitch': 64, 'start_time': 2.0, 'length': 2.0, 'velocity': 70}, {'pitch': 79, 'start_time': 4.0, 'length': 2.0, 'velocity': 70}, {'pitch': 71, 'start_time': 4.0, 'length': 2.0, 'velocity': 70}, {'pitch': 74, 'start_time': 4.0, 'length': 2.0, 'velocity': 70}, {'pitch': 53, 'start_time': 4.0, 'length': 2.0, 'velocity': 70}, {'pitch': 64, 'start_time': 6.0, 'length': 2.0, 'velocity': 70}, {'pitch': 67, 'start_time': 6.0, 'length': 2.0, 'velocity': 70}, {'pitch': 71, 'start_time': 6.0, 'length': 2.0, 'velocity': 70}, {'pitch': 74, 'start_time': 6.0, 'length': 2.0, 'velocity': 70}, {'pitch': 79, 'start_time': 8.0, 'length': 2.0, 'velocity': 70}, {'pitch': 71, 'start_time': 8.0, 'length': 2.0, 'velocity': 70}, {'pitch': 74, 'start_time': 8.0, 'length': 2.0, 'velocity': 70}, {'pitch': 53, 'start_time': 8.0, 'length': 2.0, 'velocity': 70}, {'pitch': 64, 'start_time': 10.0, 'length': 2.0, 'velocity': 70}, {'pitch': 79, 'start_time': 10.0, 'length': 2.0, 'velocity': 70}, {'pitch': 71, 'start_time': 10.0, 'length': 2.0, 'velocity': 70}, {'pitch': 50, 'start_time': 10.0, 'length': 2.0, 'velocity': 70}, {'pitch': 52, 'start_time': 12.0, 'length': 2.0, 'velocity': 70}, {'pitch': 67, 'start_time': 12.0, 'length': 2.0, 'velocity': 70}, {'pitch': 59, 'start_time': 12.0, 'length': 2.0, 'velocity': 70}, {'pitch': 50, 'start_time': 12.0, 'length': 2.0, 'velocity': 70}, {'pitch': 60, 'start_time': 14.0, 'length': 2.0, 'velocity': 70}, {'pitch': 64, 'start_time': 14.0, 'length': 2.0, 'velocity': 70}, {'pitch': 79, 'start_time': 14.0, 'length': 2.0, 'velocity': 70}, {'pitch': 71, 'start_time': 14.0, 'length': 2.0, 'velocity': 70}]\n",
            "/content/drive/MyDrive/데이터/chord_voicing_009.mid\n",
            "[{'pitch': 76, 'start_time': 0.0, 'length': 2.0, 'velocity': 70}, {'pitch': 79, 'start_time': 0.0, 'length': 2.0, 'velocity': 70}, {'pitch': 59, 'start_time': 0.0, 'length': 2.0, 'velocity': 70}, {'pitch': 62, 'start_time': 0.0, 'length': 2.0, 'velocity': 70}, {'pitch': 57, 'start_time': 2.0, 'length': 2.0, 'velocity': 70}, {'pitch': 72, 'start_time': 2.0, 'length': 2.0, 'velocity': 70}, {'pitch': 76, 'start_time': 2.0, 'length': 2.0, 'velocity': 70}, {'pitch': 55, 'start_time': 2.0, 'length': 2.0, 'velocity': 70}, {'pitch': 55, 'start_time': 4.0, 'length': 2.0, 'velocity': 70}, {'pitch': 71, 'start_time': 4.0, 'length': 2.0, 'velocity': 70}, {'pitch': 74, 'start_time': 4.0, 'length': 2.0, 'velocity': 70}, {'pitch': 77, 'start_time': 4.0, 'length': 2.0, 'velocity': 70}, {'pitch': 57, 'start_time': 6.0, 'length': 2.0, 'velocity': 70}, {'pitch': 72, 'start_time': 6.0, 'length': 2.0, 'velocity': 70}, {'pitch': 64, 'start_time': 6.0, 'length': 2.0, 'velocity': 70}, {'pitch': 67, 'start_time': 6.0, 'length': 2.0, 'velocity': 70}, {'pitch': 64, 'start_time': 8.0, 'length': 2.0, 'velocity': 70}, {'pitch': 55, 'start_time': 8.0, 'length': 2.0, 'velocity': 70}, {'pitch': 59, 'start_time': 8.0, 'length': 2.0, 'velocity': 70}, {'pitch': 74, 'start_time': 8.0, 'length': 2.0, 'velocity': 70}, {'pitch': 67, 'start_time': 10.0, 'length': 2.0, 'velocity': 70}, {'pitch': 71, 'start_time': 10.0, 'length': 2.0, 'velocity': 70}, {'pitch': 50, 'start_time': 10.0, 'length': 2.0, 'velocity': 70}, {'pitch': 65, 'start_time': 10.0, 'length': 2.0, 'velocity': 70}, {'pitch': 55, 'start_time': 12.0, 'length': 2.0, 'velocity': 70}, {'pitch': 71, 'start_time': 12.0, 'length': 2.0, 'velocity': 70}, {'pitch': 62, 'start_time': 12.0, 'length': 2.0, 'velocity': 70}, {'pitch': 77, 'start_time': 12.0, 'length': 2.0, 'velocity': 70}, {'pitch': 57, 'start_time': 14.0, 'length': 2.0, 'velocity': 70}, {'pitch': 60, 'start_time': 14.0, 'length': 2.0, 'velocity': 70}, {'pitch': 52, 'start_time': 14.0, 'length': 2.0, 'velocity': 70}, {'pitch': 79, 'start_time': 14.0, 'length': 2.0, 'velocity': 70}]\n"
          ]
        }
      ]
    },
    {
      "cell_type": "code",
      "source": [
        "# Encoding\n",
        "pitch_range = [0, 127]\n",
        "time_step = 8\n",
        "single_data = numpy.zeros((time_step, 127 + 1))\n",
        "print(single_data)"
      ],
      "metadata": {
        "colab": {
          "base_uri": "https://localhost:8080/"
        },
        "id": "Cag7okUJD2Iy",
        "outputId": "bb3b0dbc-32c6-46dd-9419-802db699f851"
      },
      "execution_count": 79,
      "outputs": [
        {
          "output_type": "stream",
          "name": "stdout",
          "text": [
            "[[0. 0. 0. ... 0. 0. 0.]\n",
            " [0. 0. 0. ... 0. 0. 0.]\n",
            " [0. 0. 0. ... 0. 0. 0.]\n",
            " ...\n",
            " [0. 0. 0. ... 0. 0. 0.]\n",
            " [0. 0. 0. ... 0. 0. 0.]\n",
            " [0. 0. 0. ... 0. 0. 0.]]\n"
          ]
        }
      ]
    },
    {
      "cell_type": "code",
      "source": [
        "import sys\n",
        "import numpy\n",
        "numpy.set_printoptions(threshold=sys.maxsize)"
      ],
      "metadata": {
        "id": "oFSIoUpig3dV"
      },
      "execution_count": 82,
      "outputs": []
    },
    {
      "cell_type": "code",
      "source": [
        "pick_seq = note_seq_list[0]\n",
        "for i in range(len(pick_seq)):\n",
        "    note = pick_seq[i]\n",
        "    t_idx = int(note['start_time'] / 2.0)\n",
        "    p_idx = note['pitch']\n",
        "    single_data[t_idx][p_idx] = 1\n",
        "print(single_data)"
      ],
      "metadata": {
        "colab": {
          "base_uri": "https://localhost:8080/"
        },
        "id": "sY7KxY0LdFw3",
        "outputId": "48ea7559-7fe3-4e56-8cc2-a604921225b5"
      },
      "execution_count": 83,
      "outputs": [
        {
          "output_type": "stream",
          "name": "stdout",
          "text": [
            "[[0. 0. 0. 0. 0. 0. 0. 0. 0. 0. 0. 0. 0. 0. 0. 0. 0. 0. 0. 0. 0. 0. 0. 0.\n",
            "  0. 0. 0. 0. 0. 0. 0. 0. 0. 0. 0. 0. 0. 0. 0. 0. 0. 0. 0. 0. 0. 0. 0. 0.\n",
            "  0. 0. 1. 0. 1. 0. 0. 1. 0. 0. 0. 1. 0. 0. 0. 0. 0. 0. 0. 0. 0. 0. 0. 0.\n",
            "  0. 0. 0. 0. 0. 0. 0. 0. 0. 0. 0. 0. 0. 0. 0. 0. 0. 0. 0. 0. 0. 0. 0. 0.\n",
            "  0. 0. 0. 0. 0. 0. 0. 0. 0. 0. 0. 0. 0. 0. 0. 0. 0. 0. 0. 0. 0. 0. 0. 0.\n",
            "  0. 0. 0. 0. 0. 0. 0. 0.]\n",
            " [0. 0. 0. 0. 0. 0. 0. 0. 0. 0. 0. 0. 0. 0. 0. 0. 0. 0. 0. 0. 0. 0. 0. 0.\n",
            "  0. 0. 0. 0. 0. 0. 0. 0. 0. 0. 0. 0. 0. 0. 0. 0. 0. 0. 0. 0. 0. 0. 0. 0.\n",
            "  0. 0. 0. 0. 1. 1. 0. 0. 0. 0. 0. 0. 0. 0. 0. 0. 0. 0. 0. 0. 0. 1. 0. 0.\n",
            "  1. 0. 0. 0. 0. 0. 0. 0. 0. 0. 0. 0. 0. 0. 0. 0. 0. 0. 0. 0. 0. 0. 0. 0.\n",
            "  0. 0. 0. 0. 0. 0. 0. 0. 0. 0. 0. 0. 0. 0. 0. 0. 0. 0. 0. 0. 0. 0. 0. 0.\n",
            "  0. 0. 0. 0. 0. 0. 0. 0.]\n",
            " [0. 0. 0. 0. 0. 0. 0. 0. 0. 0. 0. 0. 0. 0. 0. 0. 0. 0. 0. 0. 0. 0. 0. 0.\n",
            "  0. 0. 0. 0. 0. 0. 0. 0. 0. 0. 0. 0. 0. 0. 0. 0. 0. 0. 0. 0. 0. 0. 0. 0.\n",
            "  0. 0. 0. 0. 0. 0. 0. 0. 0. 0. 0. 1. 0. 0. 0. 0. 0. 0. 0. 1. 0. 0. 0. 0.\n",
            "  0. 0. 1. 0. 0. 1. 0. 0. 0. 0. 0. 0. 0. 0. 0. 0. 0. 0. 0. 0. 0. 0. 0. 0.\n",
            "  0. 0. 0. 0. 0. 0. 0. 0. 0. 0. 0. 0. 0. 0. 0. 0. 0. 0. 0. 0. 0. 0. 0. 0.\n",
            "  0. 0. 0. 0. 0. 0. 0. 0.]\n",
            " [0. 0. 0. 0. 0. 0. 0. 0. 0. 0. 0. 0. 0. 0. 0. 0. 0. 0. 0. 0. 0. 0. 0. 0.\n",
            "  0. 0. 0. 0. 0. 0. 0. 0. 0. 0. 0. 0. 0. 0. 0. 0. 0. 0. 0. 0. 0. 0. 0. 0.\n",
            "  0. 0. 0. 0. 0. 0. 0. 1. 0. 0. 0. 0. 1. 0. 0. 0. 0. 0. 0. 0. 0. 1. 0. 0.\n",
            "  0. 0. 0. 0. 1. 0. 0. 0. 0. 0. 0. 0. 0. 0. 0. 0. 0. 0. 0. 0. 0. 0. 0. 0.\n",
            "  0. 0. 0. 0. 0. 0. 0. 0. 0. 0. 0. 0. 0. 0. 0. 0. 0. 0. 0. 0. 0. 0. 0. 0.\n",
            "  0. 0. 0. 0. 0. 0. 0. 0.]\n",
            " [0. 0. 0. 0. 0. 0. 0. 0. 0. 0. 0. 0. 0. 0. 0. 0. 0. 0. 0. 0. 0. 0. 0. 0.\n",
            "  0. 0. 0. 0. 0. 0. 0. 0. 0. 0. 0. 0. 0. 0. 0. 0. 0. 0. 0. 0. 0. 0. 0. 0.\n",
            "  0. 0. 1. 0. 0. 0. 0. 1. 0. 0. 0. 0. 0. 0. 0. 0. 0. 1. 0. 0. 0. 0. 0. 1.\n",
            "  0. 0. 0. 0. 0. 0. 0. 0. 0. 0. 0. 0. 0. 0. 0. 0. 0. 0. 0. 0. 0. 0. 0. 0.\n",
            "  0. 0. 0. 0. 0. 0. 0. 0. 0. 0. 0. 0. 0. 0. 0. 0. 0. 0. 0. 0. 0. 0. 0. 0.\n",
            "  0. 0. 0. 0. 0. 0. 0. 0.]\n",
            " [0. 0. 0. 0. 0. 0. 0. 0. 0. 0. 0. 0. 0. 0. 0. 0. 0. 0. 0. 0. 0. 0. 0. 0.\n",
            "  0. 0. 0. 0. 0. 0. 0. 0. 0. 0. 0. 0. 0. 0. 0. 0. 0. 0. 0. 0. 0. 0. 0. 0.\n",
            "  0. 0. 0. 0. 1. 0. 0. 1. 0. 0. 0. 0. 0. 0. 0. 0. 0. 0. 0. 0. 0. 1. 0. 0.\n",
            "  1. 0. 0. 0. 0. 0. 0. 0. 0. 0. 0. 0. 0. 0. 0. 0. 0. 0. 0. 0. 0. 0. 0. 0.\n",
            "  0. 0. 0. 0. 0. 0. 0. 0. 0. 0. 0. 0. 0. 0. 0. 0. 0. 0. 0. 0. 0. 0. 0. 0.\n",
            "  0. 0. 0. 0. 0. 0. 0. 0.]\n",
            " [0. 0. 0. 0. 0. 0. 0. 0. 0. 0. 0. 0. 0. 0. 0. 0. 0. 0. 0. 0. 0. 0. 0. 0.\n",
            "  0. 0. 0. 0. 0. 0. 0. 0. 0. 0. 0. 0. 0. 0. 0. 0. 0. 0. 0. 0. 0. 0. 0. 0.\n",
            "  0. 0. 1. 0. 0. 1. 0. 0. 0. 0. 0. 0. 0. 0. 0. 0. 0. 0. 0. 0. 0. 1. 0. 0.\n",
            "  1. 0. 0. 0. 0. 0. 0. 0. 0. 0. 0. 0. 0. 0. 0. 0. 0. 0. 0. 0. 0. 0. 0. 0.\n",
            "  0. 0. 0. 0. 0. 0. 0. 0. 0. 0. 0. 0. 0. 0. 0. 0. 0. 0. 0. 0. 0. 0. 0. 0.\n",
            "  0. 0. 0. 0. 0. 0. 0. 0.]\n",
            " [0. 0. 0. 0. 0. 0. 0. 0. 0. 0. 0. 0. 0. 0. 0. 0. 0. 0. 0. 0. 0. 0. 0. 0.\n",
            "  0. 0. 0. 0. 0. 0. 0. 0. 0. 0. 0. 0. 0. 0. 0. 0. 0. 0. 0. 0. 0. 0. 0. 0.\n",
            "  0. 0. 1. 0. 0. 0. 0. 1. 0. 0. 0. 1. 0. 0. 0. 0. 0. 1. 0. 0. 0. 0. 0. 0.\n",
            "  0. 0. 0. 0. 0. 0. 0. 0. 0. 0. 0. 0. 0. 0. 0. 0. 0. 0. 0. 0. 0. 0. 0. 0.\n",
            "  0. 0. 0. 0. 0. 0. 0. 0. 0. 0. 0. 0. 0. 0. 0. 0. 0. 0. 0. 0. 0. 0. 0. 0.\n",
            "  0. 0. 0. 0. 0. 0. 0. 0.]]\n"
          ]
        }
      ]
    },
    {
      "cell_type": "code",
      "source": [
        "train_x = []\n",
        "for i in range(len(note_seq_list)):\n",
        "    note_seq = note_seq_list[i]\n",
        "    single_data = numpy.zeros((time_step, 127 + 1))\n",
        "    for j in range(len(note_seq)):\n",
        "        note = note_seq[j]\n",
        "        t_idx = int(note['start_time'] / 2.0)\n",
        "        p_idx = note['pitch']\n",
        "        single_data[t_idx][p_idx] = 1\n",
        "    train_x.append(single_data)\n",
        "    \n",
        "print(numpy.array(train_x).shape)"
      ],
      "metadata": {
        "colab": {
          "base_uri": "https://localhost:8080/"
        },
        "id": "GdVyJc9xfgJ1",
        "outputId": "5ce77695-e023-46bc-9abb-bc1f75b0db97"
      },
      "execution_count": 88,
      "outputs": [
        {
          "output_type": "stream",
          "name": "stdout",
          "text": [
            "(10, 8, 128)\n"
          ]
        }
      ]
    },
    {
      "cell_type": "code",
      "source": [
        "# good과 bad 데이터를 읽어서 라벨링을 같이 불러옵니다.\n",
        "good_path = '/content/drive/MyDrive/데이터/good'\n",
        "bad_path = '/content/drive/MyDrive/데이터/bad'\n",
        "# good에 해당하는 미디데이터 읽기 (Mid파일->노트seq)\n",
        "good_midi_files = glob.glob(os.path.join(good_path, '*.mid'))\n",
        "good_note_seq_list = []\n",
        "for i in range(len(good_midi_files)):\n",
        "    good_note_seq_list.append(read_midi_file(good_midi_files[i]))\n",
        "# bad에 해당하는 미디데이터 읽기 (Mid파일->노트seq)\n",
        "bad_midi_files = glob.glob(os.path.join(bad_path, '*.mid'))\n",
        "bad_note_seq_list = []\n",
        "for i in range(len(bad_midi_files)):\n",
        "    bad_note_seq_list.append(read_midi_file(bad_midi_files[i]))\n",
        "\n",
        "# AI 학습을 위한 데이터 Encoding (노트seq->many-hot-vectors)\n",
        "# Good, Encoding!\n",
        "train_x_good = []\n",
        "for i in range(len(good_note_seq_list)):\n",
        "    note_seq = good_note_seq_list[i]\n",
        "    single_data = numpy.zeros((time_step, 127 + 1))\n",
        "    for j in range(len(note_seq)):\n",
        "        note = note_seq[j]\n",
        "        t_idx = int(note['start_time'] / 2.0)\n",
        "        p_idx = note['pitch']\n",
        "        single_data[t_idx][p_idx] = 1\n",
        "    train_x_good.append(single_data)\n",
        "# Bad, Encoding!\n",
        "train_x_bad = []\n",
        "for i in range(len(bad_note_seq_list)):\n",
        "    note_seq = bad_note_seq_list[i]\n",
        "    single_data = numpy.zeros((time_step, 127 + 1))\n",
        "    for j in range(len(note_seq)):\n",
        "        note = note_seq[j]\n",
        "        t_idx = int(note['start_time'] / 2.0)\n",
        "        p_idx = note['pitch']\n",
        "        single_data[t_idx][p_idx] = 1\n",
        "    train_x_bad.append(single_data)\n",
        "\n",
        "# 아래는 test 데이터를 뽑지 않고 전부 train 데이터로 할당했음.\n",
        "# train_x = train_x_good + train_x_bad\n",
        "# # train_y = [1] * len(train_x_good) + [0] * len(train_x_bad)\n",
        "# train_y = []\n",
        "# for i in range(len(train_x_good)):\n",
        "#     train_y.append(1)\n",
        "# for i in range(len(train_x_bad)):\n",
        "#     train_y.append(0)\n",
        "\n",
        "test_x_good = train_x_good[0:int(len(train_x_good)*0.2)]\n",
        "test_y_good = [1] * len(test_x_good)\n",
        "train_x_good = train_x_good[int(len(train_x_good)*0.2):]\n",
        "train_y_good = [1] * len(train_x_good)\n",
        "test_x_bad = train_x_bad[0:int(len(train_x_bad)*0.2)]\n",
        "test_y_bad = [0] * len(test_x_bad)\n",
        "train_x_bad = train_x_bad[int(len(train_x_bad)*0.2):]\n",
        "train_y_bad = [0] * len(train_x_bad)\n",
        "\n",
        "train_x = train_x_good + train_x_bad\n",
        "train_y = train_y_good + train_y_bad\n",
        "\n",
        "test_x = test_x_good + test_x_bad\n",
        "test_y = test_y_good + test_y_bad"
      ],
      "metadata": {
        "id": "B1di4_DRpjH7"
      },
      "execution_count": 94,
      "outputs": []
    },
    {
      "cell_type": "code",
      "source": [
        "# numpy로 데이터 변환\n",
        "train_x = numpy.array(train_x)\n",
        "train_y = numpy.array(train_y)\n",
        "test_x = numpy.array(test_x)\n",
        "test_y = numpy.array(test_y)"
      ],
      "metadata": {
        "id": "rWwHMaSSxRbE"
      },
      "execution_count": 98,
      "outputs": []
    },
    {
      "cell_type": "code",
      "source": [
        "%load_ext tensorboard"
      ],
      "metadata": {
        "id": "H2GLiQj6sqj6"
      },
      "execution_count": 91,
      "outputs": []
    },
    {
      "cell_type": "code",
      "source": [
        "import tensorflow as tf\n",
        "import datetime"
      ],
      "metadata": {
        "id": "Ih8n6utNuwbK"
      },
      "execution_count": 92,
      "outputs": []
    },
    {
      "cell_type": "code",
      "source": [
        "!rm -rf ./logs/ "
      ],
      "metadata": {
        "id": "LMYg0URJuyGL"
      },
      "execution_count": 93,
      "outputs": []
    },
    {
      "cell_type": "code",
      "source": [
        "def create_model():\n",
        "  return tf.keras.models.Sequential([\n",
        "    tf.keras.layers.Flatten(input_shape=(8, 128)),\n",
        "    tf.keras.layers.Dense(128, activation='relu'),\n",
        "    tf.keras.layers.Dropout(0.2),\n",
        "    tf.keras.layers.Dense(1, activation='sigmoid')\n",
        "  ])"
      ],
      "metadata": {
        "id": "iULmTjXTu1SF"
      },
      "execution_count": 96,
      "outputs": []
    },
    {
      "cell_type": "code",
      "source": [
        "model = create_model()\n",
        "model.compile(optimizer='adam',\n",
        "              loss='binary_crossentropy',\n",
        "              metrics=['accuracy'])\n",
        "\n",
        "log_dir = \"logs/fit/\" + datetime.datetime.now().strftime(\"%Y%m%d-%H%M%S\")\n",
        "tensorboard_callback = tf.keras.callbacks.TensorBoard(log_dir=log_dir, histogram_freq=1)\n",
        "\n",
        "model.fit(x=train_x, \n",
        "          y=train_y, \n",
        "          epochs=5, \n",
        "          validation_data=(test_x, test_y), \n",
        "          callbacks=[tensorboard_callback])"
      ],
      "metadata": {
        "colab": {
          "base_uri": "https://localhost:8080/"
        },
        "id": "btgM0GSrwPKb",
        "outputId": "e82d93f1-18ab-4ce2-fb3c-7f6a2fb83ba5"
      },
      "execution_count": 99,
      "outputs": [
        {
          "output_type": "stream",
          "name": "stdout",
          "text": [
            "Epoch 1/5\n",
            "1/1 [==============================] - 1s 1s/step - loss: 0.7272 - accuracy: 0.5000 - val_loss: 0.6551 - val_accuracy: 1.0000\n",
            "Epoch 2/5\n",
            "1/1 [==============================] - 0s 85ms/step - loss: 0.6948 - accuracy: 0.5000 - val_loss: 0.6666 - val_accuracy: 1.0000\n",
            "Epoch 3/5\n",
            "1/1 [==============================] - 0s 85ms/step - loss: 0.6183 - accuracy: 1.0000 - val_loss: 0.6786 - val_accuracy: 1.0000\n",
            "Epoch 4/5\n",
            "1/1 [==============================] - 0s 95ms/step - loss: 0.5909 - accuracy: 1.0000 - val_loss: 0.6912 - val_accuracy: 1.0000\n",
            "Epoch 5/5\n",
            "1/1 [==============================] - 0s 103ms/step - loss: 0.5392 - accuracy: 1.0000 - val_loss: 0.7039 - val_accuracy: 0.0000e+00\n"
          ]
        },
        {
          "output_type": "execute_result",
          "data": {
            "text/plain": [
              "<keras.callbacks.History at 0x7fdffa5b44d0>"
            ]
          },
          "metadata": {},
          "execution_count": 99
        }
      ]
    },
    {
      "cell_type": "code",
      "source": [
        "%tensorboard --logdir logs/fit"
      ],
      "metadata": {
        "id": "6x0kwoFTw6RT"
      },
      "execution_count": null,
      "outputs": []
    }
  ]
}