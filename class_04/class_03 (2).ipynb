{
  "nbformat": 4,
  "nbformat_minor": 0,
  "metadata": {
    "colab": {
      "name": "class_03.ipynb",
      "provenance": [],
      "collapsed_sections": []
    },
    "kernelspec": {
      "name": "python3",
      "display_name": "Python 3"
    },
    "language_info": {
      "name": "python"
    }
  },
  "cells": [
    {
      "cell_type": "markdown",
      "source": [
        "ex# 새 섹션"
      ],
      "metadata": {
        "id": "fgXj6rfQJBVq"
      }
    },
    {
      "cell_type": "code",
      "execution_count": 1,
      "metadata": {
        "colab": {
          "base_uri": "https://localhost:8080/"
        },
        "id": "685pyq6BI-2M",
        "outputId": "de03eb6c-ff54-420b-cb04-d04aed77e51d"
      },
      "outputs": [
        {
          "output_type": "stream",
          "name": "stdout",
          "text": [
            "[]\n"
          ]
        }
      ],
      "source": [
        "ex_list = []\n",
        "print(ex_list)"
      ]
    },
    {
      "cell_type": "code",
      "source": [
        "ex_list.append(1)\n",
        "print(ex_list)"
      ],
      "metadata": {
        "colab": {
          "base_uri": "https://localhost:8080/"
        },
        "id": "hh4PaokQKIjb",
        "outputId": "be78459a-d881-402e-f9b7-8c6b24fbe499"
      },
      "execution_count": 2,
      "outputs": [
        {
          "output_type": "stream",
          "name": "stdout",
          "text": [
            "[1]\n"
          ]
        }
      ]
    },
    {
      "cell_type": "code",
      "source": [
        "ex_list.append(2)\n",
        "ex_list.append(3)\n",
        "ex_list.append(4)\n",
        "ex_list.append(5)\n",
        "ex_list.append(6)\n",
        "print(ex_list)"
      ],
      "metadata": {
        "colab": {
          "base_uri": "https://localhost:8080/"
        },
        "id": "YReDZ4ZhKNL-",
        "outputId": "ea5bc677-c39f-440e-d949-9b94adb9e2bf"
      },
      "execution_count": 3,
      "outputs": [
        {
          "output_type": "stream",
          "name": "stdout",
          "text": [
            "[1, 2, 3, 4, 5, 6]\n"
          ]
        }
      ]
    },
    {
      "cell_type": "code",
      "source": [
        "ex_list.append('Apple')\n",
        "print(ex_list)"
      ],
      "metadata": {
        "colab": {
          "base_uri": "https://localhost:8080/"
        },
        "id": "XV3uGzA2KpTH",
        "outputId": "c34ca95f-6d7f-4083-e8fd-1fd754e94708"
      },
      "execution_count": 4,
      "outputs": [
        {
          "output_type": "stream",
          "name": "stdout",
          "text": [
            "[1, 2, 3, 4, 5, 6, 'Apple']\n"
          ]
        }
      ]
    },
    {
      "cell_type": "code",
      "source": [
        "ex_list.append([])\n",
        "print(ex_list)"
      ],
      "metadata": {
        "colab": {
          "base_uri": "https://localhost:8080/"
        },
        "id": "pZQRn0M_LdE_",
        "outputId": "d882d30c-5eb0-4379-f68a-e347e2107e4b"
      },
      "execution_count": 5,
      "outputs": [
        {
          "output_type": "stream",
          "name": "stdout",
          "text": [
            "[1, 2, 3, 4, 5, 6, 'Apple', []]\n"
          ]
        }
      ]
    },
    {
      "cell_type": "code",
      "source": [
        "len(ex_list)"
      ],
      "metadata": {
        "colab": {
          "base_uri": "https://localhost:8080/"
        },
        "id": "FDfwMhKULtjG",
        "outputId": "258c3bfb-a2f0-4194-cd6e-322f34ec108a"
      },
      "execution_count": 6,
      "outputs": [
        {
          "output_type": "execute_result",
          "data": {
            "text/plain": [
              "8"
            ]
          },
          "metadata": {},
          "execution_count": 6
        }
      ]
    },
    {
      "cell_type": "code",
      "source": [
        "ex_list[0]"
      ],
      "metadata": {
        "colab": {
          "base_uri": "https://localhost:8080/"
        },
        "id": "1LMmNXoiL6Vm",
        "outputId": "035fd1c3-1abf-49a5-9fff-08a9a3e9f133"
      },
      "execution_count": 7,
      "outputs": [
        {
          "output_type": "execute_result",
          "data": {
            "text/plain": [
              "1"
            ]
          },
          "metadata": {},
          "execution_count": 7
        }
      ]
    },
    {
      "cell_type": "code",
      "source": [
        "ex_list[5]"
      ],
      "metadata": {
        "colab": {
          "base_uri": "https://localhost:8080/"
        },
        "id": "KsTAeQ0LMUPD",
        "outputId": "6ceb0b18-058d-45e6-a7f1-77d4da083d7c"
      },
      "execution_count": 8,
      "outputs": [
        {
          "output_type": "execute_result",
          "data": {
            "text/plain": [
              "6"
            ]
          },
          "metadata": {},
          "execution_count": 8
        }
      ]
    },
    {
      "cell_type": "code",
      "source": [
        "ex_list[7]"
      ],
      "metadata": {
        "colab": {
          "base_uri": "https://localhost:8080/"
        },
        "id": "pOaJ4Sw4MeQQ",
        "outputId": "fcf511c6-6f6c-4a92-a8e5-8644298fcb83"
      },
      "execution_count": 9,
      "outputs": [
        {
          "output_type": "execute_result",
          "data": {
            "text/plain": [
              "[]"
            ]
          },
          "metadata": {},
          "execution_count": 9
        }
      ]
    },
    {
      "cell_type": "code",
      "source": [
        "ex_list[7].append(0.9994747)\n",
        "ex_list[7].append(100.7777)\n",
        "ex_list\n"
      ],
      "metadata": {
        "colab": {
          "base_uri": "https://localhost:8080/"
        },
        "id": "SUD9P34oMjNE",
        "outputId": "8df20753-9c22-4ace-d0de-3b00630694aa"
      },
      "execution_count": 10,
      "outputs": [
        {
          "output_type": "execute_result",
          "data": {
            "text/plain": [
              "[1, 2, 3, 4, 5, 6, 'Apple', [0.9994747, 100.7777]]"
            ]
          },
          "metadata": {},
          "execution_count": 10
        }
      ]
    },
    {
      "cell_type": "code",
      "source": [
        "ex_dict = {}\n",
        "ex_dict['첫번째'] = 1\n",
        "print(ex_dict)"
      ],
      "metadata": {
        "colab": {
          "base_uri": "https://localhost:8080/"
        },
        "id": "5g_-pLRDM_eW",
        "outputId": "3e4efadf-e0b2-4b55-d4f6-71bae968a6a6"
      },
      "execution_count": 11,
      "outputs": [
        {
          "output_type": "stream",
          "name": "stdout",
          "text": [
            "{'첫번째': 1}\n"
          ]
        }
      ]
    },
    {
      "cell_type": "code",
      "source": [
        "ex_dict['딸깍'] = '마우스'\n",
        "ex_dict"
      ],
      "metadata": {
        "colab": {
          "base_uri": "https://localhost:8080/"
        },
        "id": "eZVpk9Z2NnNM",
        "outputId": "65942405-d89b-4ab8-daa8-6d96ef4542ba"
      },
      "execution_count": 12,
      "outputs": [
        {
          "output_type": "execute_result",
          "data": {
            "text/plain": [
              "{'딸깍': '마우스', '첫번째': 1}"
            ]
          },
          "metadata": {},
          "execution_count": 12
        }
      ]
    },
    {
      "cell_type": "code",
      "source": [
        "# 도\n",
        "music_note_01 = {}\n",
        "music_note_01['pitch'] = 60 \n",
        "music_note_01['length'] = 1.\n",
        "music_note_01['velocity'] = 100\n",
        "music_note_01['start_time'] = 0.\n",
        "# 레\n",
        "music_note_02 = {}\n",
        "music_note_02['pitch'] = 62 \n",
        "music_note_02['length'] = 1.\n",
        "music_note_02['velocity'] = 100\n",
        "music_note_02['start_time'] = 1.\n",
        "# 미\n",
        "music_note_03 = {}\n",
        "music_note_03['pitch'] = 64 \n",
        "music_note_03['length'] = 1.\n",
        "music_note_03['velocity'] = 100\n",
        "music_note_03['start_time'] = 2.\n",
        "note_list = [music_note_01, music_note_02, music_note_03]\n",
        "# ------------------------------------------------\n",
        "note_list = [\n",
        "    {'pitch': 60, 'length':1., 'velocity':100, 'start_time': 0.,}, # 도\n",
        "    {'pitch': 62, 'length':1., 'velocity':100, 'start_time': 1.,}, # 레\n",
        "    {'pitch': 64, 'length':1., 'velocity':100, 'start_time': 2.,}, # 미\n",
        "]\n"
      ],
      "metadata": {
        "id": "lim8uO8GN0Po"
      },
      "execution_count": 13,
      "outputs": []
    },
    {
      "cell_type": "code",
      "source": [
        "!pip install midiutil"
      ],
      "metadata": {
        "colab": {
          "base_uri": "https://localhost:8080/"
        },
        "id": "HiZ6SMjDj9ID",
        "outputId": "b268888e-e5be-424f-9192-38d82dd06a90"
      },
      "execution_count": 14,
      "outputs": [
        {
          "output_type": "stream",
          "name": "stdout",
          "text": [
            "Looking in indexes: https://pypi.org/simple, https://us-python.pkg.dev/colab-wheels/public/simple/\n",
            "Collecting midiutil\n",
            "  Downloading MIDIUtil-1.2.1.tar.gz (1.0 MB)\n",
            "\u001b[K     |████████████████████████████████| 1.0 MB 31.1 MB/s \n",
            "\u001b[?25hBuilding wheels for collected packages: midiutil\n",
            "  Building wheel for midiutil (setup.py) ... \u001b[?25l\u001b[?25hdone\n",
            "  Created wheel for midiutil: filename=MIDIUtil-1.2.1-py3-none-any.whl size=54566 sha256=5cb0c4ef232ecd78a2aa7ef308157b297e610972b41da62b16b5cf8b3096d65f\n",
            "  Stored in directory: /root/.cache/pip/wheels/e3/97/cd/a677b61a76d575f373e2e10302f1d9106507fea6dd1320df03\n",
            "Successfully built midiutil\n",
            "Installing collected packages: midiutil\n",
            "Successfully installed midiutil-1.2.1\n"
          ]
        }
      ]
    },
    {
      "cell_type": "code",
      "source": [
        "import midiutil\n",
        "def write_midi(seq, bpm, path):\n",
        "    mf = midiutil.MIDIFile(1, file_format=1)\n",
        "    track = 0\n",
        "    channel = 0\n",
        "    mf.addTempo(track, 0, bpm)\n",
        "    for i, n in enumerate(seq):\n",
        "        mf.addNote(\n",
        "            track,\n",
        "            channel,\n",
        "            n['pitch'],\n",
        "            n['start_time'],\n",
        "            n['length'],\n",
        "            n['velocity']\n",
        "        )\n",
        "    with open(path, 'wb') as outf:\n",
        "        mf.writeFile(outf)\n",
        "      \n"
      ],
      "metadata": {
        "id": "g2PvuknTPEah"
      },
      "execution_count": 15,
      "outputs": []
    },
    {
      "cell_type": "code",
      "source": [
        "write_midi(seq=note_list, bpm=90, path='output.mid')"
      ],
      "metadata": {
        "id": "c9bC2NJ3jsr5"
      },
      "execution_count": 16,
      "outputs": []
    },
    {
      "cell_type": "code",
      "source": [
        "# C - G - Am - Em\n",
        "\n",
        "C = [\n",
        "     {'pitch': 60, 'length': 4.0, 'start_time': 0., 'velocity': 80},\n",
        "     {'pitch': 64, 'length': 4.0, 'start_time': 0., 'velocity': 80},\n",
        "     {'pitch': 67, 'length': 4.0, 'start_time': 0., 'velocity': 80},\n",
        "]\n",
        "G = []\n",
        "Am = []\n",
        "Em = []\n",
        "chord_list = C + G + Am + Em"
      ],
      "metadata": {
        "id": "wGyZDwM_xI12"
      },
      "execution_count": 17,
      "outputs": []
    },
    {
      "cell_type": "code",
      "source": [
        "ex_list = [1,2,3]\n",
        "ex_list2 = [4,5,6]\n",
        "\n",
        "print(ex_list + ex_list2)\n"
      ],
      "metadata": {
        "colab": {
          "base_uri": "https://localhost:8080/"
        },
        "id": "wBWLAnRKx3ew",
        "outputId": "895fc5a2-8001-47cc-cfd4-56c3429e758f"
      },
      "execution_count": 18,
      "outputs": [
        {
          "output_type": "stream",
          "name": "stdout",
          "text": [
            "[1, 2, 3, 4, 5, 6]\n"
          ]
        }
      ]
    },
    {
      "cell_type": "code",
      "source": [
        "ex_list3 = [1, 2, 3, 4]\n",
        "print(ex_list3[3])\n",
        "ex_list3[3] = 100\n",
        "C4 = {\n",
        "    'pitch': 60\n",
        "}\n",
        "C4['pitch'] = 72\n",
        "print(C4)"
      ],
      "metadata": {
        "colab": {
          "base_uri": "https://localhost:8080/"
        },
        "id": "vq3dN68ezn1M",
        "outputId": "adf76bea-680c-4393-8ae7-0cf23319c544"
      },
      "execution_count": 19,
      "outputs": [
        {
          "output_type": "stream",
          "name": "stdout",
          "text": [
            "4\n",
            "{'pitch': 72}\n"
          ]
        }
      ]
    },
    {
      "cell_type": "code",
      "source": [
        "dim_1_list = [1, 2, 3, 4] # 1차원리스트"
      ],
      "metadata": {
        "id": "E8SzWt3v7874"
      },
      "execution_count": 20,
      "outputs": []
    },
    {
      "cell_type": "code",
      "source": [
        "#.  1 2 3\n",
        "#.  4 5 6\n",
        "#.  7 8 9\n",
        "mat_01 = [\n",
        "  [1, 2, 3],\n",
        "  [4, 5, 6],\n",
        "  [7, 8, 9],\n",
        "]\n",
        "for m in mat_01:\n",
        "  print(m)\n",
        "print(mat_01[1][2])\n",
        "mat_01[1][2] = -6\n",
        "\n",
        "for m in mat_01:\n",
        "  print(m)"
      ],
      "metadata": {
        "colab": {
          "base_uri": "https://localhost:8080/"
        },
        "id": "KtgMTNSD78Dp",
        "outputId": "c6be6df5-6ba5-4977-bab7-2c6584115240"
      },
      "execution_count": 21,
      "outputs": [
        {
          "output_type": "stream",
          "name": "stdout",
          "text": [
            "[1, 2, 3]\n",
            "[4, 5, 6]\n",
            "[7, 8, 9]\n",
            "6\n",
            "[1, 2, 3]\n",
            "[4, 5, -6]\n",
            "[7, 8, 9]\n"
          ]
        }
      ]
    },
    {
      "cell_type": "markdown",
      "source": [
        ""
      ],
      "metadata": {
        "id": "SC9duS6noJD7"
      }
    },
    {
      "cell_type": "code",
      "source": [
        "C = [\n",
        "     {'pitch': 60,   'length': 1.0, 'start_time': 0., 'velocity': 80},\n",
        "     {'pitch': 60+4, 'length': 1.0, 'start_time': 0., 'velocity': 80},\n",
        "     {'pitch': 60+7, 'length': 1.0, 'start_time': 0., 'velocity': 80},\n",
        "]\n",
        "Dm = [\n",
        "     {'pitch': 62,   'length': 1.0, 'start_time': 0., 'velocity': 80},\n",
        "     {'pitch': 62+3, 'length': 1.0, 'start_time': 0., 'velocity': 80},\n",
        "     {'pitch': 62+7, 'length': 1.0, 'start_time': 0., 'velocity': 80},\n",
        "]\n",
        "Em = [\n",
        "     {'pitch': 64,   'length': 1.0, 'start_time': 0., 'velocity': 80},\n",
        "     {'pitch': 64+3, 'length': 1.0, 'start_time': 0., 'velocity': 80},\n",
        "     {'pitch': 64+7, 'length': 1.0, 'start_time': 0., 'velocity': 80},\n",
        "]\n",
        "F = [\n",
        "     {'pitch': 65   - 12, 'length': 1.0, 'start_time': 0., 'velocity': 80},\n",
        "     {'pitch': 65+4 - 12, 'length': 1.0, 'start_time': 0., 'velocity': 80},\n",
        "     {'pitch': 65+7 - 12, 'length': 1.0, 'start_time': 0., 'velocity': 80},\n",
        "]\n",
        "G = [\n",
        "     {'pitch': 67   - 12, 'length': 1.0, 'start_time': 0., 'velocity': 80},\n",
        "     {'pitch': 67+4 - 12, 'length': 1.0, 'start_time': 0., 'velocity': 80},\n",
        "     {'pitch': 67+7 - 12, 'length': 1.0, 'start_time': 0., 'velocity': 80},\n",
        "]\n",
        "Am = [\n",
        "     {'pitch': 69   - 12, 'length': 1.0, 'start_time': 0., 'velocity': 80},\n",
        "     {'pitch': 69+3 - 12, 'length': 1.0, 'start_time': 0., 'velocity': 80},\n",
        "     {'pitch': 69+7 - 12, 'length': 1.0, 'start_time': 0., 'velocity': 80},\n",
        "]\n",
        "# Bdim = []\n",
        "chord_group = [\n",
        "    [C, Em, Am],  # 0: Tonic           \n",
        "    [F, Dm],  # 1: SubD           \n",
        "    [G],  # 2: Dom           \n",
        "]"
      ],
      "metadata": {
        "id": "y1zRlBUfH-Ja"
      },
      "execution_count": 22,
      "outputs": []
    },
    {
      "cell_type": "code",
      "source": [
        "import numpy\n",
        "a = ['a', 'b', 'c']\n",
        "p = [0.7, 0.2, 0.1]\n",
        "print(numpy.random.choice(a, 1, p=p))"
      ],
      "metadata": {
        "colab": {
          "base_uri": "https://localhost:8080/"
        },
        "id": "eszHuzdSIuXy",
        "outputId": "d3f94ea9-d32a-49bc-dc3d-e1d9dda1cd19"
      },
      "execution_count": 23,
      "outputs": [
        {
          "output_type": "stream",
          "name": "stdout",
          "text": [
            "['a']\n"
          ]
        }
      ]
    },
    {
      "cell_type": "code",
      "source": [
        "# 0: Tonic Group (1, 3, 6)\n",
        "# 1: SubDominant Group (2, 4)\n",
        "# 2: Dominant Group (5, *7)\n",
        "mm = [\n",
        "  [0.25, 0.25, 0.50,], # 0\n",
        "  [0.30, 0.20, 0.50,], # 1\n",
        "  [0.70, 0.00, 0.30,], # 2\n",
        "]\n",
        "start = 0. # Tonic "
      ],
      "metadata": {
        "id": "jRa3ZjxzBmTB"
      },
      "execution_count": 24,
      "outputs": []
    },
    {
      "cell_type": "code",
      "source": [
        "import numpy\n",
        "num_of_chords = 20\n",
        "state_progression = [0]\n",
        "for _ in range(num_of_chords):\n",
        "    current_state = state_progression[-1]\n",
        "    probs = mm[current_state]\n",
        "    next_state = numpy.random.choice([0, 1, 2], \n",
        "                                     1, \n",
        "                                     p=probs)[0]\n",
        "    state_progression.append(next_state)\n",
        "state_progression"
      ],
      "metadata": {
        "colab": {
          "base_uri": "https://localhost:8080/"
        },
        "id": "JQW0qOj4IG4e",
        "outputId": "db863bb2-b526-4cfb-b378-5369060bec0f"
      },
      "execution_count": 25,
      "outputs": [
        {
          "output_type": "execute_result",
          "data": {
            "text/plain": [
              "[0, 0, 0, 1, 2, 0, 0, 2, 2, 0, 1, 0, 1, 1, 0, 2, 0, 1, 0, 0, 0]"
            ]
          },
          "metadata": {},
          "execution_count": 25
        }
      ]
    },
    {
      "cell_type": "code",
      "source": [
        "a = ['a', 'b', 'c']\n",
        "for i in a:\n",
        "  print(i)"
      ],
      "metadata": {
        "colab": {
          "base_uri": "https://localhost:8080/"
        },
        "id": "JihnlQwpT-ed",
        "outputId": "47e651b3-1f42-4d3b-ada8-51cc3cbab755"
      },
      "execution_count": 26,
      "outputs": [
        {
          "output_type": "stream",
          "name": "stdout",
          "text": [
            "a\n",
            "b\n",
            "c\n"
          ]
        }
      ]
    },
    {
      "cell_type": "code",
      "source": [
        "for i in range(len(a)):\n",
        "  j = a[i]\n",
        "  print(i, j)"
      ],
      "metadata": {
        "colab": {
          "base_uri": "https://localhost:8080/"
        },
        "id": "wLQtYoqHUJAI",
        "outputId": "e028ed95-5fa7-4bf4-fc91-6a26dcf021da"
      },
      "execution_count": 27,
      "outputs": [
        {
          "output_type": "stream",
          "name": "stdout",
          "text": [
            "0 a\n",
            "1 b\n",
            "2 c\n"
          ]
        }
      ]
    },
    {
      "cell_type": "code",
      "source": [
        "a = ['a', 'b', 'c']\n",
        "for i, j in enumerate(a):\n",
        "  print(i, j)"
      ],
      "metadata": {
        "colab": {
          "base_uri": "https://localhost:8080/"
        },
        "id": "jrvW8qlhUV5B",
        "outputId": "6ca70535-8cba-430e-c50e-ba50ad75418c"
      },
      "execution_count": 28,
      "outputs": [
        {
          "output_type": "stream",
          "name": "stdout",
          "text": [
            "0 a\n",
            "1 b\n",
            "2 c\n"
          ]
        }
      ]
    },
    {
      "cell_type": "code",
      "source": [
        "import random\n",
        "chord_group = [\n",
        "    [C, Em, Am],  # 0: Tonic           \n",
        "    [F, Dm],  # 1: SubD           \n",
        "    [G],  # 2: Dom           \n",
        "]\n",
        "chord_progression = []\n",
        "# [0, 2, 0, 1, 2, 0, 2, 2, 0, 1, 0, 2, 0, 0, 1, 2, 0, 0, 0, 2, 0]\n",
        "# for i, state in enumerate(state_progression):\n",
        "for i in range(len(state_progression)):\n",
        "  state = state_progression[i]\n",
        "\n",
        "  chord_candidate = chord_group[state]\n",
        "  chord_pick = random.choice(chord_candidate)\n",
        "  start_time = i * 4.0\n",
        "  for chord_note in chord_pick:\n",
        "    note_copy = chord_note.copy()\n",
        "    note_copy['start_time'] = start_time\n",
        "    note_copy['length'] = 4.0\n",
        "    chord_progression.append(note_copy)\n",
        "print(chord_progression)\n",
        "  \n",
        "write_midi(chord_progression, 120, 'chord_prog.mid')"
      ],
      "metadata": {
        "colab": {
          "base_uri": "https://localhost:8080/"
        },
        "id": "FFav4bYtLelK",
        "outputId": "f6b5eda2-7022-4e75-cc5c-152a103e11dc"
      },
      "execution_count": 29,
      "outputs": [
        {
          "output_type": "stream",
          "name": "stdout",
          "text": [
            "[{'pitch': 64, 'length': 4.0, 'start_time': 0.0, 'velocity': 80}, {'pitch': 67, 'length': 4.0, 'start_time': 0.0, 'velocity': 80}, {'pitch': 71, 'length': 4.0, 'start_time': 0.0, 'velocity': 80}, {'pitch': 64, 'length': 4.0, 'start_time': 4.0, 'velocity': 80}, {'pitch': 67, 'length': 4.0, 'start_time': 4.0, 'velocity': 80}, {'pitch': 71, 'length': 4.0, 'start_time': 4.0, 'velocity': 80}, {'pitch': 57, 'length': 4.0, 'start_time': 8.0, 'velocity': 80}, {'pitch': 60, 'length': 4.0, 'start_time': 8.0, 'velocity': 80}, {'pitch': 64, 'length': 4.0, 'start_time': 8.0, 'velocity': 80}, {'pitch': 62, 'length': 4.0, 'start_time': 12.0, 'velocity': 80}, {'pitch': 65, 'length': 4.0, 'start_time': 12.0, 'velocity': 80}, {'pitch': 69, 'length': 4.0, 'start_time': 12.0, 'velocity': 80}, {'pitch': 55, 'length': 4.0, 'start_time': 16.0, 'velocity': 80}, {'pitch': 59, 'length': 4.0, 'start_time': 16.0, 'velocity': 80}, {'pitch': 62, 'length': 4.0, 'start_time': 16.0, 'velocity': 80}, {'pitch': 64, 'length': 4.0, 'start_time': 20.0, 'velocity': 80}, {'pitch': 67, 'length': 4.0, 'start_time': 20.0, 'velocity': 80}, {'pitch': 71, 'length': 4.0, 'start_time': 20.0, 'velocity': 80}, {'pitch': 64, 'length': 4.0, 'start_time': 24.0, 'velocity': 80}, {'pitch': 67, 'length': 4.0, 'start_time': 24.0, 'velocity': 80}, {'pitch': 71, 'length': 4.0, 'start_time': 24.0, 'velocity': 80}, {'pitch': 55, 'length': 4.0, 'start_time': 28.0, 'velocity': 80}, {'pitch': 59, 'length': 4.0, 'start_time': 28.0, 'velocity': 80}, {'pitch': 62, 'length': 4.0, 'start_time': 28.0, 'velocity': 80}, {'pitch': 55, 'length': 4.0, 'start_time': 32.0, 'velocity': 80}, {'pitch': 59, 'length': 4.0, 'start_time': 32.0, 'velocity': 80}, {'pitch': 62, 'length': 4.0, 'start_time': 32.0, 'velocity': 80}, {'pitch': 64, 'length': 4.0, 'start_time': 36.0, 'velocity': 80}, {'pitch': 67, 'length': 4.0, 'start_time': 36.0, 'velocity': 80}, {'pitch': 71, 'length': 4.0, 'start_time': 36.0, 'velocity': 80}, {'pitch': 53, 'length': 4.0, 'start_time': 40.0, 'velocity': 80}, {'pitch': 57, 'length': 4.0, 'start_time': 40.0, 'velocity': 80}, {'pitch': 60, 'length': 4.0, 'start_time': 40.0, 'velocity': 80}, {'pitch': 57, 'length': 4.0, 'start_time': 44.0, 'velocity': 80}, {'pitch': 60, 'length': 4.0, 'start_time': 44.0, 'velocity': 80}, {'pitch': 64, 'length': 4.0, 'start_time': 44.0, 'velocity': 80}, {'pitch': 53, 'length': 4.0, 'start_time': 48.0, 'velocity': 80}, {'pitch': 57, 'length': 4.0, 'start_time': 48.0, 'velocity': 80}, {'pitch': 60, 'length': 4.0, 'start_time': 48.0, 'velocity': 80}, {'pitch': 62, 'length': 4.0, 'start_time': 52.0, 'velocity': 80}, {'pitch': 65, 'length': 4.0, 'start_time': 52.0, 'velocity': 80}, {'pitch': 69, 'length': 4.0, 'start_time': 52.0, 'velocity': 80}, {'pitch': 64, 'length': 4.0, 'start_time': 56.0, 'velocity': 80}, {'pitch': 67, 'length': 4.0, 'start_time': 56.0, 'velocity': 80}, {'pitch': 71, 'length': 4.0, 'start_time': 56.0, 'velocity': 80}, {'pitch': 55, 'length': 4.0, 'start_time': 60.0, 'velocity': 80}, {'pitch': 59, 'length': 4.0, 'start_time': 60.0, 'velocity': 80}, {'pitch': 62, 'length': 4.0, 'start_time': 60.0, 'velocity': 80}, {'pitch': 57, 'length': 4.0, 'start_time': 64.0, 'velocity': 80}, {'pitch': 60, 'length': 4.0, 'start_time': 64.0, 'velocity': 80}, {'pitch': 64, 'length': 4.0, 'start_time': 64.0, 'velocity': 80}, {'pitch': 53, 'length': 4.0, 'start_time': 68.0, 'velocity': 80}, {'pitch': 57, 'length': 4.0, 'start_time': 68.0, 'velocity': 80}, {'pitch': 60, 'length': 4.0, 'start_time': 68.0, 'velocity': 80}, {'pitch': 57, 'length': 4.0, 'start_time': 72.0, 'velocity': 80}, {'pitch': 60, 'length': 4.0, 'start_time': 72.0, 'velocity': 80}, {'pitch': 64, 'length': 4.0, 'start_time': 72.0, 'velocity': 80}, {'pitch': 60, 'length': 4.0, 'start_time': 76.0, 'velocity': 80}, {'pitch': 64, 'length': 4.0, 'start_time': 76.0, 'velocity': 80}, {'pitch': 67, 'length': 4.0, 'start_time': 76.0, 'velocity': 80}, {'pitch': 57, 'length': 4.0, 'start_time': 80.0, 'velocity': 80}, {'pitch': 60, 'length': 4.0, 'start_time': 80.0, 'velocity': 80}, {'pitch': 64, 'length': 4.0, 'start_time': 80.0, 'velocity': 80}]\n"
          ]
        }
      ]
    },
    {
      "cell_type": "code",
      "source": [
        "# 코드 구성음을 마음대로 펼치는 알고리즘을 구현해봅시다.\n",
        "# 음역대는 C3(60)~F4(77)\n",
        "chord_prog = [C, Am, F, G]\n",
        "write_midi(\n",
        "    [{'pitch': 60, 'start_time':0, 'length': 4., 'velocity': 100}],\n",
        "    100,\n",
        "    'C.mid'    \n",
        ")"
      ],
      "metadata": {
        "id": "-WN3CaKRRnWe"
      },
      "execution_count": 31,
      "outputs": []
    },
    {
      "cell_type": "code",
      "source": [
        "# Chord_prog 안에 있는 4개의 코드(안에있는 노트정보도)가 차례로 출력되게 for문을 짜보세요. (2줄)\n",
        "for i in chord_prog:\n",
        "    print(i)"
      ],
      "metadata": {
        "colab": {
          "base_uri": "https://localhost:8080/"
        },
        "id": "BmCxhrVN9OIK",
        "outputId": "5a8394b3-12bb-4359-8eed-827ef78ba3ce"
      },
      "execution_count": 34,
      "outputs": [
        {
          "output_type": "stream",
          "name": "stdout",
          "text": [
            "[{'pitch': 60, 'length': 1.0, 'start_time': 0.0, 'velocity': 80}, {'pitch': 64, 'length': 1.0, 'start_time': 0.0, 'velocity': 80}, {'pitch': 67, 'length': 1.0, 'start_time': 0.0, 'velocity': 80}]\n",
            "[{'pitch': 57, 'length': 1.0, 'start_time': 0.0, 'velocity': 80}, {'pitch': 60, 'length': 1.0, 'start_time': 0.0, 'velocity': 80}, {'pitch': 64, 'length': 1.0, 'start_time': 0.0, 'velocity': 80}]\n",
            "[{'pitch': 53, 'length': 1.0, 'start_time': 0.0, 'velocity': 80}, {'pitch': 57, 'length': 1.0, 'start_time': 0.0, 'velocity': 80}, {'pitch': 60, 'length': 1.0, 'start_time': 0.0, 'velocity': 80}]\n",
            "[{'pitch': 55, 'length': 1.0, 'start_time': 0.0, 'velocity': 80}, {'pitch': 59, 'length': 1.0, 'start_time': 0.0, 'velocity': 80}, {'pitch': 62, 'length': 1.0, 'start_time': 0.0, 'velocity': 80}]\n"
          ]
        }
      ]
    },
    {
      "cell_type": "code",
      "source": [
        "# 0부터 127까지의 pitch midi number 중 모든 C(0~)를 찾아서 리스트에 저장해보세요. (4줄정도 필요)\n",
        "my_list = [] # == my_list = list()\n",
        "# C-2 = 0 \n",
        "# C-1 = 12\n",
        "# C0 = 24\n",
        "# C1 = 36 ......  \n",
        "for i in range(128):\n",
        "    if i % 12 == 0:\n",
        "        my_list.append(i)\n",
        "\n",
        "my_list = []\n",
        "for i in range(0, 128, 12):\n",
        "    my_list.append(i)"
      ],
      "metadata": {
        "colab": {
          "base_uri": "https://localhost:8080/"
        },
        "id": "WMVtJjBDA3T-",
        "outputId": "d959a717-228d-4d95-be85-7894c8f5ddbe"
      },
      "execution_count": 35,
      "outputs": [
        {
          "output_type": "execute_result",
          "data": {
            "text/plain": [
              "[0, 12, 24, 36, 48, 60, 72, 84, 96, 108, 120]"
            ]
          },
          "metadata": {},
          "execution_count": 35
        }
      ]
    },
    {
      "cell_type": "code",
      "source": [
        "c_maj_scale = [0, 2, 4, 5, 7, 9, 11]\n",
        "c_maj_pitch_candidate = [\n",
        "    [], # c\n",
        "    [], # d\n",
        "    [], # e\n",
        "    [], # f\n",
        "    [], # g\n",
        "    [], # a\n",
        "    []  # b\n",
        "]\n",
        "# 각 스케일음의 59~F4(77) 범위내 모든 옥타브 pitch를 찾아서 위의 c_maj_scale_all_oct 안에 넣어주세요.\n",
        "# ** pitch 탐색 범위는 추후 조정될 수 있습니다.\n",
        "# ** 7번 코드를 복붙할 수도 있지만 for문을 사용해서 효과적으로 작동하도록 해보세요.\n",
        "\n",
        "for i in range(7):\n",
        "    for p in range(59, 77+1):\n",
        "        if p%12 == c_maj_scale[i]: \n",
        "            c_maj_pitch_candidate[i].append(p)\n",
        "c_maj_pitch_candidate\n",
        "\n",
        "# # C\n",
        "# for p in range(59, 77+1):\n",
        "#    if p%12 == 0: \n",
        "#        c_maj_pitch_candidate[0].append(p)\n",
        "# # D\n",
        "# for p in range(59, 77+1):\n",
        "#    if p%12 == 2: \n",
        "#        c_maj_pitch_candidate[1].append(p)\n",
        "\n",
        "# # C\n",
        "# for p in range(60, 77+1, 12):\n",
        "#     c_maj_pitch_candidate[0].append(p)\n",
        "# # D\n",
        "# for p in range(62, 77+1, 12):\n",
        "#     c_maj_pitch_candidate[1].append(p)\n",
        "\n",
        "# ...\n",
        "# # B\n",
        "# for p in range(71, 77+1, 12):\n",
        "#     c_maj_pitch_candidate[1].append(p)\n",
        "\n"
      ],
      "metadata": {
        "colab": {
          "base_uri": "https://localhost:8080/"
        },
        "id": "l3qcBn9tFhXb",
        "outputId": "071ac129-e82e-4256-f4ac-515a976f07f0"
      },
      "execution_count": 37,
      "outputs": [
        {
          "output_type": "execute_result",
          "data": {
            "text/plain": [
              "[[60, 72], [62, 74], [64, 76], [65, 77], [67], [69], [59, 71]]"
            ]
          },
          "metadata": {},
          "execution_count": 37
        }
      ]
    },
    {
      "cell_type": "code",
      "source": [
        "voicing_candidate_C = [\n",
        "    c_maj_pitch_candidate[0],  # [0] 도의 보이싱 후보 음들\n",
        "    c_maj_pitch_candidate[2],  # [1] 미의 보이싱 후보 음들\n",
        "    c_maj_pitch_candidate[4],  # [2] 솔의 보이싱 후보 음들\n",
        "]\n",
        "voicing_candidate_C\n",
        "# 위에 코드 기능이 이해되시는 분은 C, Dm, Em, F, G, Am에 대해서 모두 만들어주세요.\n",
        "voicing_candidate_Dm = [\n",
        "    c_maj_pitch_candidate[1],  # 레의 보이싱 후보 음들\n",
        "    c_maj_pitch_candidate[3],  # 파의 보이싱 후보 음들\n",
        "    c_maj_pitch_candidate[5],  # 라의 보이싱 후보 음들\n",
        "]\n",
        "voicing_candidate_Em = [\n",
        "    c_maj_pitch_candidate[2],  # 미의 보이싱 후보 음들\n",
        "    c_maj_pitch_candidate[4],  # 솔의 보이싱 후보 음들\n",
        "    c_maj_pitch_candidate[6],  # 시의 보이싱 후보 음들\n",
        "]\n",
        "voicing_candidate_F = [\n",
        "    c_maj_pitch_candidate[3],  # 파의 보이싱 후보 음들\n",
        "    c_maj_pitch_candidate[5],  # 라의 보이싱 후보 음들\n",
        "    c_maj_pitch_candidate[0],  # 도의 보이싱 후보 음들\n",
        "]\n",
        "voicing_candidate_G = [\n",
        "    c_maj_pitch_candidate[4],  # 솔의 보이싱 후보 음들\n",
        "    c_maj_pitch_candidate[6],  # 시의 보이싱 후보 음들\n",
        "    c_maj_pitch_candidate[1],  # 레의 보이싱 후보 음들\n",
        "]\n",
        "voicing_candidate_Am = [\n",
        "    c_maj_pitch_candidate[5],  # 라의 보이싱 후보 음들\n",
        "    c_maj_pitch_candidate[0],  # 도의 보이싱 후보 음들\n",
        "    c_maj_pitch_candidate[2],  # 미의 보이싱 후보 음들\n",
        "]\n",
        "print(voicing_candidate_C)\n",
        "print(voicing_candidate_Dm)\n",
        "print(voicing_candidate_Em)\n",
        "print(voicing_candidate_F)\n",
        "print(voicing_candidate_G)\n",
        "print(voicing_candidate_Am)\n"
      ],
      "metadata": {
        "colab": {
          "base_uri": "https://localhost:8080/"
        },
        "id": "ZoJMq0OYTV_T",
        "outputId": "52356e7c-6395-47c1-bb92-fab849470494"
      },
      "execution_count": 42,
      "outputs": [
        {
          "output_type": "stream",
          "name": "stdout",
          "text": [
            "[[60, 72], [64, 76], [67]]\n",
            "[[62, 74], [65, 77], [69]]\n",
            "[[64, 76], [67], [59, 71]]\n",
            "[[65, 77], [69], [60, 72]]\n",
            "[[67], [59, 71], [62, 74]]\n",
            "[[69], [60, 72], [64, 76]]\n"
          ]
        }
      ]
    },
    {
      "cell_type": "code",
      "source": [
        "cmaj_scale_diatonic_chords = [\n",
        "    None, \n",
        "    C,  # [1] I  : C\n",
        "    Dm, # [2] II : Dm\n",
        "    Em, # [3] III: Em\n",
        "    F,  # [4] IV : F\n",
        "    G,  # [5] V  : G\n",
        "    Am  # [6] VI : Am\n",
        "]\n",
        "cmaj_scale_diatonic_chords_vc = [\n",
        "    None,\n",
        "    voicing_candidate_C, # [1] I  : C\n",
        "    voicing_candidate_Dm,# [2] II : Dm\n",
        "    voicing_candidate_Em,# [3] III: Em\n",
        "    voicing_candidate_F, # [4] IV : F\n",
        "    voicing_candidate_G, # [5] V  : G\n",
        "    voicing_candidate_Am,# [6] VI : Am\n",
        "]\n",
        "chord_prog_num = [1, 6, 4, 5]  # C-Am-F-G\n",
        "# chord_prog_num의 \b각 코드의 보이싱 후보음들 중에서 랜덤으로 선택해서 최종 음을 선택하게 코드를 구성하시오.\n",
        "# 예) \n",
        "# C에서 voicing_candidate_C[0] 은 도의 보이싱 후보 음들\n",
        "# C에서 voicing_candidate_C[1] 은 미의 보이싱 후보 음들\n",
        "# C에서 voicing_candidate_C[2] 은 솔의 보이싱 후보 음들\n",
        "# random.choice(voicing_candidate_C[0])을 하면 도의 후보음들 중에서 랜덤으로 하나를 선택함\n",
        "# 코드 노트를 추가하는 방법은 새로운 딕셔너리를 생성해서 그안에 pitch, length, start_time, velocity를 \n",
        "# 부여하고 최종결과물 리스트에 append 한다. pitch는 랜덤으로 선택한 위의 음을 부여한다.\n",
        "for i, c in enumerate(chord_prog_num):\n",
        "    start_time = i * 4.0\n",
        "    for candidate in cmaj_scale_diatonic_chords_vc[c]:\n",
        "        print(start_time, random.choice(candidate))\n",
        "    \n"
      ],
      "metadata": {
        "colab": {
          "base_uri": "https://localhost:8080/"
        },
        "id": "TbU0mZ-mbuop",
        "outputId": "30677cd2-997e-4f28-cd76-25a20566acab"
      },
      "execution_count": 53,
      "outputs": [
        {
          "output_type": "stream",
          "name": "stdout",
          "text": [
            "0.0 60\n",
            "0.0 64\n",
            "0.0 67\n",
            "4.0 69\n",
            "4.0 60\n",
            "4.0 76\n",
            "8.0 65\n",
            "8.0 69\n",
            "8.0 72\n",
            "12.0 67\n",
            "12.0 59\n",
            "12.0 62\n"
          ]
        }
      ]
    },
    {
      "cell_type": "code",
      "source": [
        ""
      ],
      "metadata": {
        "id": "5UTjrXfLieXC"
      },
      "execution_count": 44,
      "outputs": []
    }
  ]
}