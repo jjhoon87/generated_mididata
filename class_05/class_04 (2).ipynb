{
  "nbformat": 4,
  "nbformat_minor": 0,
  "metadata": {
    "colab": {
      "name": "class_04.ipynb",
      "provenance": [],
      "collapsed_sections": []
    },
    "kernelspec": {
      "name": "python3",
      "display_name": "Python 3"
    },
    "language_info": {
      "name": "python"
    }
  },
  "cells": [
    {
      "cell_type": "code",
      "execution_count": 44,
      "metadata": {
        "colab": {
          "base_uri": "https://localhost:8080/"
        },
        "id": "1Jmx0Zpnl7kU",
        "outputId": "77de2591-2d15-4db0-9acc-292ffcdcb4f6"
      },
      "outputs": [
        {
          "name": "stdout",
          "output_type": "stream",
          "text": [
            "1\n"
          ]
        }
      ],
      "source": [
        "a = int(input())"
      ]
    },
    {
      "cell_type": "code",
      "source": [
        "print(a)"
      ],
      "metadata": {
        "colab": {
          "base_uri": "https://localhost:8080/"
        },
        "id": "kIbsJ_5OnGmq",
        "outputId": "ed967fc9-1ef2-4c8d-c3d4-d7fd50fb3818"
      },
      "execution_count": 45,
      "outputs": [
        {
          "output_type": "stream",
          "name": "stdout",
          "text": [
            "1\n"
          ]
        }
      ]
    },
    {
      "cell_type": "code",
      "source": [
        "if a == 10:\n",
        "  print('같음')\n",
        "else:\n",
        "  print('다름')"
      ],
      "metadata": {
        "colab": {
          "base_uri": "https://localhost:8080/"
        },
        "id": "ChNx-KJZnJoE",
        "outputId": "b600c58f-5aa7-418d-a488-6576df0813fe"
      },
      "execution_count": 46,
      "outputs": [
        {
          "output_type": "stream",
          "name": "stdout",
          "text": [
            "다름\n"
          ]
        }
      ]
    },
    {
      "cell_type": "code",
      "source": [
        "print(10 % 3)\n",
        "print(9 % 3)\n",
        "print(7 % 2)"
      ],
      "metadata": {
        "colab": {
          "base_uri": "https://localhost:8080/"
        },
        "id": "qSsnqwywnZfF",
        "outputId": "123174b8-76d7-4557-b2da-78a62ab2db85"
      },
      "execution_count": 47,
      "outputs": [
        {
          "output_type": "stream",
          "name": "stdout",
          "text": [
            "1\n",
            "0\n",
            "1\n"
          ]
        }
      ]
    },
    {
      "cell_type": "code",
      "source": [
        "print('*' * 1)\n",
        "print('*' * 2)\n",
        "print('*' * 3)\n",
        "print('*' * 4)\n",
        "print('*' * 5)"
      ],
      "metadata": {
        "colab": {
          "base_uri": "https://localhost:8080/"
        },
        "id": "-W73NkXfpNMM",
        "outputId": "d642cc6e-9536-445e-f70b-af16d016a076"
      },
      "execution_count": 48,
      "outputs": [
        {
          "output_type": "stream",
          "name": "stdout",
          "text": [
            "*\n",
            "**\n",
            "***\n",
            "****\n",
            "*****\n"
          ]
        }
      ]
    },
    {
      "cell_type": "code",
      "source": [
        "for i in range(3):\n",
        "  print(i)"
      ],
      "metadata": {
        "colab": {
          "base_uri": "https://localhost:8080/"
        },
        "id": "788Z2RPOqv7t",
        "outputId": "bf1d3f03-b145-4304-ee09-c2e86af4b7e9"
      },
      "execution_count": 49,
      "outputs": [
        {
          "output_type": "stream",
          "name": "stdout",
          "text": [
            "0\n",
            "1\n",
            "2\n"
          ]
        }
      ]
    },
    {
      "cell_type": "code",
      "source": [
        "for i in [0, 1, 2]:\n",
        "  print(i)"
      ],
      "metadata": {
        "colab": {
          "base_uri": "https://localhost:8080/"
        },
        "id": "8Q6mmQivrLbO",
        "outputId": "69c28e2a-1ba4-4924-d23e-215a17427276"
      },
      "execution_count": 50,
      "outputs": [
        {
          "output_type": "stream",
          "name": "stdout",
          "text": [
            "0\n",
            "1\n",
            "2\n"
          ]
        }
      ]
    },
    {
      "cell_type": "code",
      "source": [
        "list(range(3))"
      ],
      "metadata": {
        "colab": {
          "base_uri": "https://localhost:8080/"
        },
        "id": "lIvNLhdgruaf",
        "outputId": "5f6870e7-814c-4e8f-e4cb-d087ef80cb21"
      },
      "execution_count": 51,
      "outputs": [
        {
          "output_type": "execute_result",
          "data": {
            "text/plain": [
              "[0, 1, 2]"
            ]
          },
          "metadata": {},
          "execution_count": 51
        }
      ]
    },
    {
      "cell_type": "code",
      "source": [
        "for i in range(5): \n",
        "  print('*' * (i+1))\n",
        "# 수도코드\n",
        "# for문 : 5번 반복 (i=1~5)\n",
        "#   *를 i개 만큼을 출력."
      ],
      "metadata": {
        "colab": {
          "base_uri": "https://localhost:8080/"
        },
        "id": "IzKVgM2Or66D",
        "outputId": "078804a5-9e44-4c28-89b3-d8d5b24ee9cc"
      },
      "execution_count": 52,
      "outputs": [
        {
          "output_type": "stream",
          "name": "stdout",
          "text": [
            "*\n",
            "**\n",
            "***\n",
            "****\n",
            "*****\n"
          ]
        }
      ]
    },
    {
      "cell_type": "code",
      "source": [
        "for i in range(3, 100, 3):\n",
        "  print(i)"
      ],
      "metadata": {
        "id": "sBJccaqyuB0p",
        "colab": {
          "base_uri": "https://localhost:8080/"
        },
        "outputId": "f006c681-9d5c-4ed1-e3c8-0e1a1dec8ab4"
      },
      "execution_count": 53,
      "outputs": [
        {
          "output_type": "stream",
          "name": "stdout",
          "text": [
            "3\n",
            "6\n",
            "9\n",
            "12\n",
            "15\n",
            "18\n",
            "21\n",
            "24\n",
            "27\n",
            "30\n",
            "33\n",
            "36\n",
            "39\n",
            "42\n",
            "45\n",
            "48\n",
            "51\n",
            "54\n",
            "57\n",
            "60\n",
            "63\n",
            "66\n",
            "69\n",
            "72\n",
            "75\n",
            "78\n",
            "81\n",
            "84\n",
            "87\n",
            "90\n",
            "93\n",
            "96\n",
            "99\n"
          ]
        }
      ]
    },
    {
      "cell_type": "code",
      "source": [
        "print('*' * 3)\n",
        "print('*' * 6)\n",
        "print('*' * 8)\n",
        "print('*' * 12)\n",
        "print('*' * 15)\n",
        "print('*' * 18)\n",
        "print('*' * 21)"
      ],
      "metadata": {
        "colab": {
          "base_uri": "https://localhost:8080/"
        },
        "id": "14Gn5XIOus6P",
        "outputId": "f17bb620-c222-4446-ed94-1b1c41553df2"
      },
      "execution_count": 54,
      "outputs": [
        {
          "output_type": "stream",
          "name": "stdout",
          "text": [
            "***\n",
            "******\n",
            "********\n",
            "************\n",
            "***************\n",
            "******************\n",
            "*********************\n"
          ]
        }
      ]
    },
    {
      "cell_type": "code",
      "source": [
        "for i in range(100): \n",
        "  if i % 3 == 0 and i > 0:\n",
        "    print('*' * i)"
      ],
      "metadata": {
        "colab": {
          "base_uri": "https://localhost:8080/"
        },
        "id": "k_zQ1K7pwQsy",
        "outputId": "feee01a7-0c06-4f50-a467-384c2ce4c4d7"
      },
      "execution_count": 55,
      "outputs": [
        {
          "output_type": "stream",
          "name": "stdout",
          "text": [
            "***\n",
            "******\n",
            "*********\n",
            "************\n",
            "***************\n",
            "******************\n",
            "*********************\n",
            "************************\n",
            "***************************\n",
            "******************************\n",
            "*********************************\n",
            "************************************\n",
            "***************************************\n",
            "******************************************\n",
            "*********************************************\n",
            "************************************************\n",
            "***************************************************\n",
            "******************************************************\n",
            "*********************************************************\n",
            "************************************************************\n",
            "***************************************************************\n",
            "******************************************************************\n",
            "*********************************************************************\n",
            "************************************************************************\n",
            "***************************************************************************\n",
            "******************************************************************************\n",
            "*********************************************************************************\n",
            "************************************************************************************\n",
            "***************************************************************************************\n",
            "******************************************************************************************\n",
            "*********************************************************************************************\n",
            "************************************************************************************************\n",
            "***************************************************************************************************\n"
          ]
        }
      ]
    },
    {
      "cell_type": "code",
      "source": [
        "for i in range(5):\n",
        "  print('*' * (5-i))"
      ],
      "metadata": {
        "colab": {
          "base_uri": "https://localhost:8080/"
        },
        "id": "wPy7THaKxvmA",
        "outputId": "4abd9e9e-7172-4c32-8080-e9606b9cd824"
      },
      "execution_count": 56,
      "outputs": [
        {
          "output_type": "stream",
          "name": "stdout",
          "text": [
            "*****\n",
            "****\n",
            "***\n",
            "**\n",
            "*\n"
          ]
        }
      ]
    },
    {
      "cell_type": "code",
      "source": [
        "print('for문 1.')\n",
        "for i in range(5):\n",
        "  print(i)\n",
        "\n",
        "# ----------------------------------------------------------------------------\n",
        "\n",
        "print('for문 2.') \n",
        "for i in range(0, 5):\n",
        "  print(i)\n",
        "\n",
        "print('for문 3.') \n",
        "for i in range(0, 5, 1):\n",
        "  print(i)\n",
        "\n",
        "print('for문 4.') \n",
        "for i in [0, 1, 2, 3, 4]:\n",
        "  print(i)\n",
        "\n",
        "print('for문 5.')\n",
        "for i, n in enumerate(range(5)):\n",
        "  print(n)\n",
        "\n",
        "print('for문 5.')\n",
        "for i, n in enumerate([0, 1, 2, 3, 4]):\n",
        "  print(n)\n",
        "\n",
        "\n",
        "print('while문 1.')\n",
        "i = 0\n",
        "while i < 5:\n",
        "  i += 1\n",
        "  print(i)"
      ],
      "metadata": {
        "colab": {
          "base_uri": "https://localhost:8080/"
        },
        "id": "zHX4OPBi1uy9",
        "outputId": "c030d9c4-388d-46ff-b918-ee8b975608f4"
      },
      "execution_count": 57,
      "outputs": [
        {
          "output_type": "stream",
          "name": "stdout",
          "text": [
            "for문 1.\n",
            "0\n",
            "1\n",
            "2\n",
            "3\n",
            "4\n",
            "for문 2.\n",
            "0\n",
            "1\n",
            "2\n",
            "3\n",
            "4\n",
            "for문 3.\n",
            "0\n",
            "1\n",
            "2\n",
            "3\n",
            "4\n",
            "for문 4.\n",
            "0\n",
            "1\n",
            "2\n",
            "3\n",
            "4\n",
            "for문 5.\n",
            "0\n",
            "1\n",
            "2\n",
            "3\n",
            "4\n",
            "for문 5.\n",
            "0\n",
            "1\n",
            "2\n",
            "3\n",
            "4\n",
            "while문 1.\n",
            "1\n",
            "2\n",
            "3\n",
            "4\n",
            "5\n"
          ]
        }
      ]
    },
    {
      "cell_type": "code",
      "source": [
        "for start_time in range(0, 16, 4):\n",
        "  print(start_time)\n",
        "  i = int(start_time / 4)\n",
        "\n",
        "\n",
        "for i, a in enumerate(range(5)):\n",
        "  start_time = i * 4.0\n",
        "  print(a)"
      ],
      "metadata": {
        "colab": {
          "base_uri": "https://localhost:8080/"
        },
        "id": "Z9b0QR6dPuoW",
        "outputId": "a797ab70-b430-4f8c-97f6-e6a2af1cf648"
      },
      "execution_count": 58,
      "outputs": [
        {
          "output_type": "stream",
          "name": "stdout",
          "text": [
            "0\n",
            "4\n",
            "8\n",
            "12\n",
            "0\n",
            "1\n",
            "2\n",
            "3\n",
            "4\n"
          ]
        }
      ]
    },
    {
      "cell_type": "code",
      "source": [
        "# my_piano_pitch_list = [0, 1, 2, 3, 4, 5, 6, 7, 8, ......., 127]\n",
        "\n",
        "# my_piano_pitch_list = []\n",
        "# for i in range(128):\n",
        "#   my_piano_pitch_list.append(i)\n",
        "# print(my_piano_pitch_list)\n",
        "\n",
        "my_piano_pitch_list = list(range(128))\n",
        "print(my_piano_pitch_list)"
      ],
      "metadata": {
        "colab": {
          "base_uri": "https://localhost:8080/"
        },
        "id": "xZFVAo58GyQK",
        "outputId": "c34c22d0-9b6e-4c8f-e6eb-55c274a292f2"
      },
      "execution_count": 59,
      "outputs": [
        {
          "output_type": "stream",
          "name": "stdout",
          "text": [
            "[0, 1, 2, 3, 4, 5, 6, 7, 8, 9, 10, 11, 12, 13, 14, 15, 16, 17, 18, 19, 20, 21, 22, 23, 24, 25, 26, 27, 28, 29, 30, 31, 32, 33, 34, 35, 36, 37, 38, 39, 40, 41, 42, 43, 44, 45, 46, 47, 48, 49, 50, 51, 52, 53, 54, 55, 56, 57, 58, 59, 60, 61, 62, 63, 64, 65, 66, 67, 68, 69, 70, 71, 72, 73, 74, 75, 76, 77, 78, 79, 80, 81, 82, 83, 84, 85, 86, 87, 88, 89, 90, 91, 92, 93, 94, 95, 96, 97, 98, 99, 100, 101, 102, 103, 104, 105, 106, 107, 108, 109, 110, 111, 112, 113, 114, 115, 116, 117, 118, 119, 120, 121, 122, 123, 124, 125, 126, 127]\n"
          ]
        }
      ]
    },
    {
      "cell_type": "code",
      "source": [
        "for word in ['Apple', 'Car', 'iPhone']:\n",
        "  print(word)"
      ],
      "metadata": {
        "colab": {
          "base_uri": "https://localhost:8080/"
        },
        "id": "s2A94HIuER8h",
        "outputId": "538c9ea3-a39f-4c23-e689-68f93190d58e"
      },
      "execution_count": 60,
      "outputs": [
        {
          "output_type": "stream",
          "name": "stdout",
          "text": [
            "Apple\n",
            "Car\n",
            "iPhone\n"
          ]
        }
      ]
    },
    {
      "cell_type": "code",
      "source": [
        "for i, word in enumerate(['Apple', 'Car', 'iPhone']):\n",
        "  print(i, word)"
      ],
      "metadata": {
        "colab": {
          "base_uri": "https://localhost:8080/"
        },
        "id": "b9AxmH5XE-y5",
        "outputId": "f4e95508-0a3b-4a26-a43f-cf8588bcd219"
      },
      "execution_count": 61,
      "outputs": [
        {
          "output_type": "stream",
          "name": "stdout",
          "text": [
            "0 Apple\n",
            "1 Car\n",
            "2 iPhone\n"
          ]
        }
      ]
    },
    {
      "cell_type": "code",
      "source": [
        "my_list = ['Apple', 'Car', 'iPhone']\n",
        "for i, word in enumerate(my_list):\n",
        "  if word == 'Car':\n",
        "    # my_list[i] = 'Android'\n",
        "    word = 'Android'\n",
        "  print(i, my_list[i])"
      ],
      "metadata": {
        "colab": {
          "base_uri": "https://localhost:8080/"
        },
        "id": "IMKRas7sFWnU",
        "outputId": "fbd9105b-840a-47bb-a62d-d935e1bd87fb"
      },
      "execution_count": 62,
      "outputs": [
        {
          "output_type": "stream",
          "name": "stdout",
          "text": [
            "0 Apple\n",
            "1 Car\n",
            "2 iPhone\n"
          ]
        }
      ]
    },
    {
      "cell_type": "code",
      "source": [
        "for i in range(0, 10, 2):\n",
        "  print(i)\n",
        "\n",
        "for i in range(5):\n",
        "  print(i*2)"
      ],
      "metadata": {
        "colab": {
          "base_uri": "https://localhost:8080/"
        },
        "id": "zV0yVEaMD0Vt",
        "outputId": "bdc2073b-45cf-4380-e30a-3d452c93a8a8"
      },
      "execution_count": 63,
      "outputs": [
        {
          "output_type": "stream",
          "name": "stdout",
          "text": [
            "0\n",
            "2\n",
            "4\n",
            "6\n",
            "8\n",
            "0\n",
            "2\n",
            "4\n",
            "6\n",
            "8\n"
          ]
        }
      ]
    },
    {
      "cell_type": "code",
      "source": [
        "import numpy\n",
        "for i in numpy.arange(0, 5, 0.5):\n",
        "  print(i)"
      ],
      "metadata": {
        "colab": {
          "base_uri": "https://localhost:8080/"
        },
        "id": "ubZ2EcQnC7xe",
        "outputId": "2c90224a-19d3-4110-fbae-cd2d99321e8b"
      },
      "execution_count": 64,
      "outputs": [
        {
          "output_type": "stream",
          "name": "stdout",
          "text": [
            "0.0\n",
            "0.5\n",
            "1.0\n",
            "1.5\n",
            "2.0\n",
            "2.5\n",
            "3.0\n",
            "3.5\n",
            "4.0\n",
            "4.5\n"
          ]
        }
      ]
    },
    {
      "cell_type": "code",
      "source": [
        ""
      ],
      "metadata": {
        "id": "EI_iR3zb_j-U"
      },
      "execution_count": 64,
      "outputs": []
    },
    {
      "cell_type": "code",
      "source": [
        "[]  # 리스트 인덱스 위치에 접근할때 (순서중요)\n",
        "{}  # 딕셔너리 (순서x, 이름표)\n",
        "()  # 함수에 값 전달"
      ],
      "metadata": {
        "colab": {
          "base_uri": "https://localhost:8080/"
        },
        "id": "AxUhFkzYBnzG",
        "outputId": "ecaa673b-8819-4924-9d6c-5b51dba5852e"
      },
      "execution_count": 65,
      "outputs": [
        {
          "output_type": "execute_result",
          "data": {
            "text/plain": [
              "()"
            ]
          },
          "metadata": {},
          "execution_count": 65
        }
      ]
    },
    {
      "cell_type": "code",
      "source": [
        "def nothing(a, b, c):\n",
        "  print('a', a)\n",
        "  print('b', b)\n",
        "  print('c', c)"
      ],
      "metadata": {
        "id": "TrgVqzFiW4f0"
      },
      "execution_count": 66,
      "outputs": []
    },
    {
      "cell_type": "code",
      "source": [
        "import random\n",
        "def ralral():\n",
        "  print(random.randint(1, 6))\n",
        "\n",
        "for ral in range(10):\n",
        "  ralral()"
      ],
      "metadata": {
        "colab": {
          "base_uri": "https://localhost:8080/"
        },
        "id": "LIpxmtmIXOsg",
        "outputId": "04b4dd53-69ac-40b5-ddd0-64dd5f54d6ac"
      },
      "execution_count": 67,
      "outputs": [
        {
          "output_type": "stream",
          "name": "stdout",
          "text": [
            "1\n",
            "3\n",
            "6\n",
            "6\n",
            "1\n",
            "4\n",
            "2\n",
            "1\n",
            "5\n",
            "6\n"
          ]
        }
      ]
    },
    {
      "cell_type": "code",
      "source": [
        "print((1 + 10) * 2)"
      ],
      "metadata": {
        "id": "QUW-tnRdbP0Q",
        "colab": {
          "base_uri": "https://localhost:8080/"
        },
        "outputId": "e690bee7-55c1-400f-a136-8711bad6c0b9"
      },
      "execution_count": 68,
      "outputs": [
        {
          "output_type": "stream",
          "name": "stdout",
          "text": [
            "22\n"
          ]
        }
      ]
    },
    {
      "cell_type": "code",
      "source": [
        "some_list = []  # 정의.선언.\n",
        "some_list.append(10)  # 씀"
      ],
      "metadata": {
        "id": "9DuDV6KJdXph"
      },
      "execution_count": 69,
      "outputs": []
    },
    {
      "cell_type": "code",
      "source": [
        "def something2(n1, n2):  # 정의,만듬,  n은 내가 정한 변수명\n",
        "  for i in range(n1):\n",
        "    print(random.randint(1, n2))\n",
        "  \n",
        "something2(10, 20)  # 콜!, 씀."
      ],
      "metadata": {
        "colab": {
          "base_uri": "https://localhost:8080/"
        },
        "id": "TnYvPyweXil8",
        "outputId": "32f6ca92-56ed-4948-a403-fe562a8bff61"
      },
      "execution_count": 70,
      "outputs": [
        {
          "output_type": "stream",
          "name": "stdout",
          "text": [
            "7\n",
            "18\n",
            "17\n",
            "12\n",
            "17\n",
            "5\n",
            "12\n",
            "17\n",
            "14\n",
            "7\n"
          ]
        }
      ]
    },
    {
      "cell_type": "code",
      "source": [
        "def something3(n):\n",
        "    return 2*n\n",
        "print(something3(1000))"
      ],
      "metadata": {
        "colab": {
          "base_uri": "https://localhost:8080/"
        },
        "id": "32ylifmHNFSC",
        "outputId": "2ed66b66-9577-4d9d-b576-caeaabc7d8e1"
      },
      "execution_count": 86,
      "outputs": [
        {
          "output_type": "stream",
          "name": "stdout",
          "text": [
            "None\n"
          ]
        }
      ]
    },
    {
      "cell_type": "code",
      "source": [
        "my_string = '나는스트링이야'\n",
        "print(my_string)"
      ],
      "metadata": {
        "id": "CKdVY7PPX97W",
        "colab": {
          "base_uri": "https://localhost:8080/"
        },
        "outputId": "5f992ddd-0192-4769-83c7-5c527f60c8bb"
      },
      "execution_count": 71,
      "outputs": [
        {
          "output_type": "stream",
          "name": "stdout",
          "text": [
            "나는스트링이야\n"
          ]
        }
      ]
    },
    {
      "cell_type": "code",
      "source": [
        "print(my_string[0], my_string[1], my_string[2], my_string[3], my_string[4], my_string[5], my_string[6], )"
      ],
      "metadata": {
        "colab": {
          "base_uri": "https://localhost:8080/"
        },
        "id": "0YkURs_HyP_K",
        "outputId": "6e67d01e-1358-4020-ec78-98ffb79e5bf4"
      },
      "execution_count": 73,
      "outputs": [
        {
          "output_type": "stream",
          "name": "stdout",
          "text": [
            "나 는 스 트 링 이 야\n"
          ]
        }
      ]
    },
    {
      "cell_type": "code",
      "source": [
        "my_string2 = '?'\n",
        "my_string3 = my_string + my_string2\n",
        "print(my_string + my_string2)\n",
        "print(my_string3)"
      ],
      "metadata": {
        "colab": {
          "base_uri": "https://localhost:8080/"
        },
        "id": "11YDngdWyVsw",
        "outputId": "06714c4b-501a-423c-e173-2c01598208bf"
      },
      "execution_count": 75,
      "outputs": [
        {
          "output_type": "stream",
          "name": "stdout",
          "text": [
            "나는스트링이야?\n",
            "나는스트링이야?\n"
          ]
        }
      ]
    },
    {
      "cell_type": "code",
      "source": [
        "# 문장입력\n",
        "# for 반복 i=문장끝에서부터 0까지  \n",
        "#   # 한글자씩 새로운 스트링뒤에 붙여넣음\n",
        "\n",
        "# <사용하는 문법>\n",
        "# input()\n",
        "# for 문\n",
        "# '문자열1' + '문자열2'\n",
        "# <써도되고 안써도 되고> \n",
        "# range(...) \n",
        "# len(...)\n",
        "# '문자열'[i]"
      ],
      "metadata": {
        "id": "9Il_VgaUzH9K"
      },
      "execution_count": null,
      "outputs": []
    },
    {
      "cell_type": "code",
      "source": [
        "my_string = input()\n",
        "\n",
        "# solution 1. (근본, 불편?)\n",
        "empty_string = ''\n",
        "for i in range(len(my_string)):\n",
        "    # empty_string += my_string[len(my_string)-1-i]\n",
        "    empty_string = empty_string + my_string[len(my_string)-1-i]\n",
        "print('solution 1.', empty_string)\n",
        "\n",
        "# solution 2. (응용)\n",
        "empty_string = ''\n",
        "for i in range(len(my_string)-1, -1, -1):\n",
        "    empty_string += my_string[i]\n",
        "print('solution 2.', empty_string)\n",
        "\n",
        "# solution 3. (편안)\n",
        "empty_string = ''\n",
        "for i in range(len(my_string)):\n",
        "    empty_string = my_string[i] + empty_string\n",
        "print('solution 3.', empty_string)\n",
        "\n",
        "# solution 4. (편안)\n",
        "empty_string = ''\n",
        "for char in my_string:\n",
        "    empty_string = char + empty_string\n",
        "print('solution 4.', empty_string)\n",
        "\n",
        "# soltuion 5. (기발)\n",
        "empty_string = ''\n",
        "for i in range(len(my_string)):\n",
        "    empty_string += my_string[-(i+1)]\n",
        "print('solution 5.', empty_string)"
      ],
      "metadata": {
        "colab": {
          "base_uri": "https://localhost:8080/"
        },
        "id": "UXTXmuZj6fSS",
        "outputId": "f87ed07b-94ea-4a7e-89af-c76ac9425117"
      },
      "execution_count": 83,
      "outputs": [
        {
          "output_type": "stream",
          "name": "stdout",
          "text": [
            "거꾸로\n",
            "solution 1. 로꾸거\n",
            "solution 2. 로꾸거\n",
            "solution 3. 로꾸거\n",
            "solution 4. 로꾸거\n",
            "solution 5. 로꾸거\n"
          ]
        }
      ]
    },
    {
      "cell_type": "code",
      "source": [
        "def circle(x, pi):\n",
        "    return x * x * pi, 2*pi*x\n",
        "\n",
        "result = circle(10, 3.14)\n",
        "\n",
        "print('원의 넓이:', result[0])\n",
        "print('원의 둘레:', result[1])"
      ],
      "metadata": {
        "id": "fdQczaaibNwT"
      },
      "execution_count": null,
      "outputs": []
    },
    {
      "cell_type": "code",
      "source": [
        "def circle(x, pi):\n",
        "    return x*x*pi, 2*pi*x\n",
        "\n",
        "area, distance = circle(10, 3.14)\n",
        "\n",
        "print('원의 넓이:', area)\n",
        "print('원의 둘레:', distance)"
      ],
      "metadata": {
        "colab": {
          "base_uri": "https://localhost:8080/"
        },
        "id": "JtGgVltiL1yz",
        "outputId": "c4304528-5c51-4665-dc22-da48428fee27"
      },
      "execution_count": 93,
      "outputs": [
        {
          "output_type": "stream",
          "name": "stdout",
          "text": [
            "(314.0, 628.0)\n",
            "원의 넓이: 314.0\n",
            "원의 둘레: 628.0\n"
          ]
        }
      ]
    },
    {
      "cell_type": "code",
      "source": [
        "math_point_list = [90, 70, 95, 55, 95]  # 리스트의 길이는 마음대로 변동 가능\n",
        "A = 999\n",
        "print('Before', A)\n",
        "def average_point(point_list):\n",
        "    print('average_point ing...', A)\n",
        "    total = 0.\n",
        "    for i in range(len(point_list)):\n",
        "        total += point_list[i]\n",
        "    return total / len(point_list)\n",
        "\n",
        "print('수학 점수 평균', average_point(math_point_list))\n",
        "print('After', A)"
      ],
      "metadata": {
        "colab": {
          "base_uri": "https://localhost:8080/"
        },
        "id": "rasSjkRaUtQj",
        "outputId": "3ba615a9-9580-40c5-8f0d-bcc44ac8a242"
      },
      "execution_count": 113,
      "outputs": [
        {
          "output_type": "stream",
          "name": "stdout",
          "text": [
            "Before 999\n",
            "average_point ing... 100\n",
            "수학 점수 평균 81.0\n",
            "After 999\n"
          ]
        }
      ]
    },
    {
      "cell_type": "code",
      "source": [
        "i = int(input())\n",
        "def a(a, b):\n",
        "    return b * a * a\n",
        "print(a(i, 3.14))"
      ],
      "metadata": {
        "colab": {
          "base_uri": "https://localhost:8080/"
        },
        "id": "cBcz6oowdJuH",
        "outputId": "68feda48-d80f-4d01-b7d5-ebb8220c72ec"
      },
      "execution_count": 97,
      "outputs": [
        {
          "output_type": "stream",
          "name": "stdout",
          "text": [
            "3\n",
            "28.259999999999998\n"
          ]
        }
      ]
    },
    {
      "cell_type": "code",
      "source": [
        "print(3.14 * 3 * 3)"
      ],
      "metadata": {
        "colab": {
          "base_uri": "https://localhost:8080/"
        },
        "id": "uuN979F9f5Il",
        "outputId": "387a0c60-f951-41c5-a118-c7745fe5abff"
      },
      "execution_count": 107,
      "outputs": [
        {
          "output_type": "stream",
          "name": "stdout",
          "text": [
            "28.259999999999998\n"
          ]
        }
      ]
    },
    {
      "cell_type": "code",
      "source": [
        "print(91/2)"
      ],
      "metadata": {
        "colab": {
          "base_uri": "https://localhost:8080/"
        },
        "id": "-H0hMioWdNpO",
        "outputId": "fb1e0940-c0cf-48c0-dc1a-e92ff8043ce9"
      },
      "execution_count": 105,
      "outputs": [
        {
          "output_type": "stream",
          "name": "stdout",
          "text": [
            "45.5\n"
          ]
        }
      ]
    },
    {
      "cell_type": "code",
      "source": [
        ""
      ],
      "metadata": {
        "id": "pT_8mFEbfCUj"
      },
      "execution_count": null,
      "outputs": []
    }
  ]
}