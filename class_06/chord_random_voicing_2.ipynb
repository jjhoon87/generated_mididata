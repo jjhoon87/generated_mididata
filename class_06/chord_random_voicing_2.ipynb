{
  "nbformat": 4,
  "nbformat_minor": 0,
  "metadata": {
    "colab": {
      "name": "class_03.ipynb",
      "provenance": [],
      "collapsed_sections": []
    },
    "kernelspec": {
      "name": "python3",
      "display_name": "Python 3"
    },
    "language_info": {
      "name": "python"
    }
  },
  "cells": [
    {
      "cell_type": "markdown",
      "source": [
        "ex# 새 섹션"
      ],
      "metadata": {
        "id": "fgXj6rfQJBVq"
      }
    },
    {
      "cell_type": "code",
      "execution_count": 2,
      "metadata": {
        "colab": {
          "base_uri": "https://localhost:8080/"
        },
        "id": "685pyq6BI-2M",
        "outputId": "1b891dd2-6758-4faf-9c9a-64d096730865"
      },
      "outputs": [
        {
          "output_type": "stream",
          "name": "stdout",
          "text": [
            "[]\n"
          ]
        }
      ],
      "source": [
        "ex_list = []\n",
        "print(ex_list)"
      ]
    },
    {
      "cell_type": "code",
      "source": [
        "ex_list.append(1)\n",
        "print(ex_list)"
      ],
      "metadata": {
        "colab": {
          "base_uri": "https://localhost:8080/"
        },
        "id": "hh4PaokQKIjb",
        "outputId": "90721889-a214-4690-ba36-b50c40a9effc"
      },
      "execution_count": 3,
      "outputs": [
        {
          "output_type": "stream",
          "name": "stdout",
          "text": [
            "[1]\n"
          ]
        }
      ]
    },
    {
      "cell_type": "code",
      "source": [
        "ex_list.append(2)\n",
        "ex_list.append(3)\n",
        "ex_list.append(4)\n",
        "ex_list.append(5)\n",
        "ex_list.append(6)\n",
        "print(ex_list)"
      ],
      "metadata": {
        "colab": {
          "base_uri": "https://localhost:8080/"
        },
        "id": "YReDZ4ZhKNL-",
        "outputId": "d0b7f090-e374-4162-e935-bac00dc1a2fa"
      },
      "execution_count": 4,
      "outputs": [
        {
          "output_type": "stream",
          "name": "stdout",
          "text": [
            "[1, 2, 3, 4, 5, 6]\n"
          ]
        }
      ]
    },
    {
      "cell_type": "code",
      "source": [
        "ex_list.append('Apple')\n",
        "print(ex_list)"
      ],
      "metadata": {
        "colab": {
          "base_uri": "https://localhost:8080/"
        },
        "id": "XV3uGzA2KpTH",
        "outputId": "5aaf6dc3-3ab7-4405-bb50-808e4494da34"
      },
      "execution_count": 5,
      "outputs": [
        {
          "output_type": "stream",
          "name": "stdout",
          "text": [
            "[1, 2, 3, 4, 5, 6, 'Apple']\n"
          ]
        }
      ]
    },
    {
      "cell_type": "code",
      "source": [
        "ex_list.append([])\n",
        "print(ex_list)"
      ],
      "metadata": {
        "colab": {
          "base_uri": "https://localhost:8080/"
        },
        "id": "pZQRn0M_LdE_",
        "outputId": "dbbe0af2-56a9-428e-ad86-b2e5d44e00b7"
      },
      "execution_count": 6,
      "outputs": [
        {
          "output_type": "stream",
          "name": "stdout",
          "text": [
            "[1, 2, 3, 4, 5, 6, 'Apple', []]\n"
          ]
        }
      ]
    },
    {
      "cell_type": "code",
      "source": [
        "len(ex_list)"
      ],
      "metadata": {
        "colab": {
          "base_uri": "https://localhost:8080/"
        },
        "id": "FDfwMhKULtjG",
        "outputId": "4e01ce8d-f648-4c9a-ac2d-b38246f3b154"
      },
      "execution_count": 7,
      "outputs": [
        {
          "output_type": "execute_result",
          "data": {
            "text/plain": [
              "8"
            ]
          },
          "metadata": {},
          "execution_count": 7
        }
      ]
    },
    {
      "cell_type": "code",
      "source": [
        "ex_list[0]"
      ],
      "metadata": {
        "colab": {
          "base_uri": "https://localhost:8080/"
        },
        "id": "1LMmNXoiL6Vm",
        "outputId": "8c229644-8f33-43d0-e835-690fb72b2a0a"
      },
      "execution_count": 8,
      "outputs": [
        {
          "output_type": "execute_result",
          "data": {
            "text/plain": [
              "1"
            ]
          },
          "metadata": {},
          "execution_count": 8
        }
      ]
    },
    {
      "cell_type": "code",
      "source": [
        "ex_list[5]"
      ],
      "metadata": {
        "colab": {
          "base_uri": "https://localhost:8080/"
        },
        "id": "KsTAeQ0LMUPD",
        "outputId": "de2631be-a763-4b22-9d98-8327f1475d9f"
      },
      "execution_count": 9,
      "outputs": [
        {
          "output_type": "execute_result",
          "data": {
            "text/plain": [
              "6"
            ]
          },
          "metadata": {},
          "execution_count": 9
        }
      ]
    },
    {
      "cell_type": "code",
      "source": [
        "ex_list[7]"
      ],
      "metadata": {
        "colab": {
          "base_uri": "https://localhost:8080/"
        },
        "id": "pOaJ4Sw4MeQQ",
        "outputId": "23ebb2cb-4214-4015-8865-4346f9520563"
      },
      "execution_count": 10,
      "outputs": [
        {
          "output_type": "execute_result",
          "data": {
            "text/plain": [
              "[]"
            ]
          },
          "metadata": {},
          "execution_count": 10
        }
      ]
    },
    {
      "cell_type": "code",
      "source": [
        "ex_list[7].append(0.9994747)\n",
        "ex_list[7].append(100.7777)\n",
        "ex_list\n"
      ],
      "metadata": {
        "colab": {
          "base_uri": "https://localhost:8080/"
        },
        "id": "SUD9P34oMjNE",
        "outputId": "42ae6abd-45d0-4eab-c2cf-c8ab9445a4b2"
      },
      "execution_count": 11,
      "outputs": [
        {
          "output_type": "execute_result",
          "data": {
            "text/plain": [
              "[1, 2, 3, 4, 5, 6, 'Apple', [0.9994747, 100.7777]]"
            ]
          },
          "metadata": {},
          "execution_count": 11
        }
      ]
    },
    {
      "cell_type": "code",
      "source": [
        "ex_dict = {}\n",
        "ex_dict['첫번째'] = 1\n",
        "print(ex_dict)"
      ],
      "metadata": {
        "colab": {
          "base_uri": "https://localhost:8080/"
        },
        "id": "5g_-pLRDM_eW",
        "outputId": "402628d0-7a75-42be-827c-3d46664dd539"
      },
      "execution_count": 12,
      "outputs": [
        {
          "output_type": "stream",
          "name": "stdout",
          "text": [
            "{'첫번째': 1}\n"
          ]
        }
      ]
    },
    {
      "cell_type": "code",
      "source": [
        "ex_dict['딸깍'] = '마우스'\n",
        "ex_dict"
      ],
      "metadata": {
        "colab": {
          "base_uri": "https://localhost:8080/"
        },
        "id": "eZVpk9Z2NnNM",
        "outputId": "7230564b-67fe-4c0e-cee8-e54226ee55a0"
      },
      "execution_count": 13,
      "outputs": [
        {
          "output_type": "execute_result",
          "data": {
            "text/plain": [
              "{'딸깍': '마우스', '첫번째': 1}"
            ]
          },
          "metadata": {},
          "execution_count": 13
        }
      ]
    },
    {
      "cell_type": "code",
      "source": [
        "# 도\n",
        "music_note_01 = {}\n",
        "music_note_01['pitch'] = 60 \n",
        "music_note_01['length'] = 1.\n",
        "music_note_01['velocity'] = 100\n",
        "music_note_01['start_time'] = 0.\n",
        "# 레\n",
        "music_note_02 = {}\n",
        "music_note_02['pitch'] = 62 \n",
        "music_note_02['length'] = 1.\n",
        "music_note_02['velocity'] = 100\n",
        "music_note_02['start_time'] = 1.\n",
        "# 미\n",
        "music_note_03 = {}\n",
        "music_note_03['pitch'] = 64 \n",
        "music_note_03['length'] = 1.\n",
        "music_note_03['velocity'] = 100\n",
        "music_note_03['start_time'] = 2.\n",
        "note_list = [music_note_01, music_note_02, music_note_03]\n",
        "# ------------------------------------------------\n",
        "note_list = [\n",
        "    {'pitch': 60, 'length':1., 'velocity':100, 'start_time': 0.,}, # 도\n",
        "    {'pitch': 62, 'length':1., 'velocity':100, 'start_time': 1.,}, # 레\n",
        "    {'pitch': 64, 'length':1., 'velocity':100, 'start_time': 2.,}, # 미\n",
        "]\n"
      ],
      "metadata": {
        "id": "lim8uO8GN0Po"
      },
      "execution_count": 14,
      "outputs": []
    },
    {
      "cell_type": "code",
      "source": [
        "!pip install midiutil"
      ],
      "metadata": {
        "colab": {
          "base_uri": "https://localhost:8080/"
        },
        "id": "HiZ6SMjDj9ID",
        "outputId": "df6cf348-bda5-4478-c6bf-43ed698db54e"
      },
      "execution_count": 15,
      "outputs": [
        {
          "output_type": "stream",
          "name": "stdout",
          "text": [
            "Looking in indexes: https://pypi.org/simple, https://us-python.pkg.dev/colab-wheels/public/simple/\n",
            "Collecting midiutil\n",
            "  Downloading MIDIUtil-1.2.1.tar.gz (1.0 MB)\n",
            "\u001b[K     |████████████████████████████████| 1.0 MB 5.2 MB/s \n",
            "\u001b[?25hBuilding wheels for collected packages: midiutil\n",
            "  Building wheel for midiutil (setup.py) ... \u001b[?25l\u001b[?25hdone\n",
            "  Created wheel for midiutil: filename=MIDIUtil-1.2.1-py3-none-any.whl size=54566 sha256=b99bfdc3d3fe1b34acbb1f930351e83f4ef3769836f3eb4248aa0718dec97f0d\n",
            "  Stored in directory: /root/.cache/pip/wheels/e3/97/cd/a677b61a76d575f373e2e10302f1d9106507fea6dd1320df03\n",
            "Successfully built midiutil\n",
            "Installing collected packages: midiutil\n",
            "Successfully installed midiutil-1.2.1\n"
          ]
        }
      ]
    },
    {
      "cell_type": "code",
      "source": [
        "import midiutil\n",
        "def write_midi(seq, bpm, path):\n",
        "    mf = midiutil.MIDIFile(1, file_format=1)\n",
        "    track = 0\n",
        "    channel = 0\n",
        "    mf.addTempo(track, 0, bpm)\n",
        "    # for i, n in enumerate(seq):\n",
        "    for i in range(len(seq)):\n",
        "        n = seq[i]\n",
        "        mf.addNote(\n",
        "            track,\n",
        "            channel,\n",
        "            int(n['pitch']),\n",
        "            n['start_time'],\n",
        "            n['length'],\n",
        "            int(n['velocity'])\n",
        "        )\n",
        "    with open(path, 'wb') as outf:\n",
        "        mf.writeFile(outf)"
      ],
      "metadata": {
        "id": "g2PvuknTPEah"
      },
      "execution_count": 16,
      "outputs": []
    },
    {
      "cell_type": "code",
      "source": [
        "track_1 = []\n",
        "track_2 = []\n",
        "\n",
        "note_1 = {}\n",
        "note_1['pitch'] = 60\n",
        "note_1['start_time'] = 0.\n",
        "note_1['length'] = 4.0\n",
        "note_1['velocity'] = 100\n",
        "track_1.append(note_1)\n",
        "\n",
        "note_2 = {}\n",
        "note_2['pitch'] = 72\n",
        "note_2['start_time'] = 4.\n",
        "note_2['length'] = 4.0\n",
        "note_2['velocity'] = 100\n",
        "track_2.append(note_2)\n",
        "\n",
        "\n",
        "mf = midiutil.MIDIFile(2)\n",
        "# for i, n in enumerate(seq):\n",
        "mf.addNote(\n",
        "    0,\n",
        "    0,\n",
        "    int(note_1['pitch']),\n",
        "    note_1['start_time'],\n",
        "    note_1['length'],\n",
        "    int(note_1['velocity'])\n",
        ")\n",
        "mf.addNote(\n",
        "    1,\n",
        "    0,\n",
        "    int(note_2['pitch']),\n",
        "    note_2['start_time'],\n",
        "    note_2['length'],\n",
        "    int(note_2['velocity'])\n",
        ")\n",
        "with open('multi_track_test.mid', 'wb') as outf:\n",
        "    mf.writeFile(outf)\n"
      ],
      "metadata": {
        "id": "9PBuUiIpb5dc"
      },
      "execution_count": 17,
      "outputs": []
    },
    {
      "cell_type": "code",
      "source": [
        "write_midi(seq=note_list, bpm=90, path='output.mid')"
      ],
      "metadata": {
        "id": "c9bC2NJ3jsr5"
      },
      "execution_count": 18,
      "outputs": []
    },
    {
      "cell_type": "code",
      "source": [
        "# C - G - Am - Em\n",
        "\n",
        "C = [\n",
        "     {'pitch': 60, 'length': 4.0, 'start_time': 0., 'velocity': 80},\n",
        "     {'pitch': 64, 'length': 4.0, 'start_time': 0., 'velocity': 80},\n",
        "     {'pitch': 67, 'length': 4.0, 'start_time': 0., 'velocity': 80},\n",
        "]\n",
        "G = []\n",
        "Am = []\n",
        "Em = []\n",
        "chord_list = C + G + Am + Em"
      ],
      "metadata": {
        "id": "wGyZDwM_xI12"
      },
      "execution_count": 19,
      "outputs": []
    },
    {
      "cell_type": "code",
      "source": [
        "ex_list = [1,2,3]\n",
        "ex_list2 = [4,5,6]\n",
        "\n",
        "print(ex_list + ex_list2)\n"
      ],
      "metadata": {
        "colab": {
          "base_uri": "https://localhost:8080/"
        },
        "id": "wBWLAnRKx3ew",
        "outputId": "a837263c-386a-4e7d-d8dc-32139d8428e7"
      },
      "execution_count": 20,
      "outputs": [
        {
          "output_type": "stream",
          "name": "stdout",
          "text": [
            "[1, 2, 3, 4, 5, 6]\n"
          ]
        }
      ]
    },
    {
      "cell_type": "code",
      "source": [
        "ex_list3 = [1, 2, 3, 4]\n",
        "print(ex_list3[3])\n",
        "ex_list3[3] = 100\n",
        "C4 = {\n",
        "    'pitch': 60\n",
        "}\n",
        "C4['pitch'] = 72\n",
        "print(C4)"
      ],
      "metadata": {
        "colab": {
          "base_uri": "https://localhost:8080/"
        },
        "id": "vq3dN68ezn1M",
        "outputId": "1598c59a-b702-420e-82e2-24a0871658a0"
      },
      "execution_count": 21,
      "outputs": [
        {
          "output_type": "stream",
          "name": "stdout",
          "text": [
            "4\n",
            "{'pitch': 72}\n"
          ]
        }
      ]
    },
    {
      "cell_type": "code",
      "source": [
        "dim_1_list = [1, 2, 3, 4] # 1차원리스트"
      ],
      "metadata": {
        "id": "E8SzWt3v7874"
      },
      "execution_count": 22,
      "outputs": []
    },
    {
      "cell_type": "code",
      "source": [
        "#.  1 2 3\n",
        "#.  4 5 6\n",
        "#.  7 8 9\n",
        "mat_01 = [\n",
        "  [1, 2, 3],\n",
        "  [4, 5, 6],\n",
        "  [7, 8, 9],\n",
        "]\n",
        "for m in mat_01:\n",
        "  print(m)\n",
        "print(mat_01[1][2])\n",
        "mat_01[1][2] = -6\n",
        "\n",
        "for m in mat_01:\n",
        "  print(m)"
      ],
      "metadata": {
        "colab": {
          "base_uri": "https://localhost:8080/"
        },
        "id": "KtgMTNSD78Dp",
        "outputId": "3908cc2d-7d1f-4535-a770-0725e62cce33"
      },
      "execution_count": 23,
      "outputs": [
        {
          "output_type": "stream",
          "name": "stdout",
          "text": [
            "[1, 2, 3]\n",
            "[4, 5, 6]\n",
            "[7, 8, 9]\n",
            "6\n",
            "[1, 2, 3]\n",
            "[4, 5, -6]\n",
            "[7, 8, 9]\n"
          ]
        }
      ]
    },
    {
      "cell_type": "markdown",
      "source": [
        ""
      ],
      "metadata": {
        "id": "SC9duS6noJD7"
      }
    },
    {
      "cell_type": "code",
      "source": [
        "C = [\n",
        "     {'pitch': 60,   'length': 1.0, 'start_time': 0., 'velocity': 80},\n",
        "     {'pitch': 60+4, 'length': 1.0, 'start_time': 0., 'velocity': 80},\n",
        "     {'pitch': 60+7, 'length': 1.0, 'start_time': 0., 'velocity': 80},\n",
        "]\n",
        "Dm = [\n",
        "     {'pitch': 62,   'length': 1.0, 'start_time': 0., 'velocity': 80},\n",
        "     {'pitch': 62+3, 'length': 1.0, 'start_time': 0., 'velocity': 80},\n",
        "     {'pitch': 62+7, 'length': 1.0, 'start_time': 0., 'velocity': 80},\n",
        "]\n",
        "Em = [\n",
        "     {'pitch': 64,   'length': 1.0, 'start_time': 0., 'velocity': 80},\n",
        "     {'pitch': 64+3, 'length': 1.0, 'start_time': 0., 'velocity': 80},\n",
        "     {'pitch': 64+7, 'length': 1.0, 'start_time': 0., 'velocity': 80},\n",
        "]\n",
        "F = [\n",
        "     {'pitch': 65   - 12, 'length': 1.0, 'start_time': 0., 'velocity': 80},\n",
        "     {'pitch': 65+4 - 12, 'length': 1.0, 'start_time': 0., 'velocity': 80},\n",
        "     {'pitch': 65+7 - 12, 'length': 1.0, 'start_time': 0., 'velocity': 80},\n",
        "]\n",
        "G = [\n",
        "     {'pitch': 67   - 12, 'length': 1.0, 'start_time': 0., 'velocity': 80},\n",
        "     {'pitch': 67+4 - 12, 'length': 1.0, 'start_time': 0., 'velocity': 80},\n",
        "     {'pitch': 67+7 - 12, 'length': 1.0, 'start_time': 0., 'velocity': 80},\n",
        "]\n",
        "Am = [\n",
        "     {'pitch': 69   - 12, 'length': 1.0, 'start_time': 0., 'velocity': 80},\n",
        "     {'pitch': 69+3 - 12, 'length': 1.0, 'start_time': 0., 'velocity': 80},\n",
        "     {'pitch': 69+7 - 12, 'length': 1.0, 'start_time': 0., 'velocity': 80},\n",
        "]\n",
        "# Bdim = []\n",
        "chord_group = [\n",
        "    [C, Em, Am],  # 0: Tonic           \n",
        "    [F, Dm],  # 1: SubD           \n",
        "    [G],  # 2: Dom           \n",
        "]"
      ],
      "metadata": {
        "id": "y1zRlBUfH-Ja"
      },
      "execution_count": 24,
      "outputs": []
    },
    {
      "cell_type": "code",
      "source": [
        "import numpy\n",
        "a = ['a', 'b', 'c']\n",
        "p = [0.7, 0.2, 0.1]\n",
        "print(numpy.random.choice(a, 1, p=p))"
      ],
      "metadata": {
        "colab": {
          "base_uri": "https://localhost:8080/"
        },
        "id": "eszHuzdSIuXy",
        "outputId": "b9811493-5fc5-4b82-ed69-37e501bfb8d2"
      },
      "execution_count": 25,
      "outputs": [
        {
          "output_type": "stream",
          "name": "stdout",
          "text": [
            "['a']\n"
          ]
        }
      ]
    },
    {
      "cell_type": "code",
      "source": [
        "# 0: Tonic Group (1, 3, 6)\n",
        "# 1: SubDominant Group (2, 4)\n",
        "# 2: Dominant Group (5, *7)\n",
        "mm = [\n",
        "  [0.25, 0.25, 0.50,], # 0 : 토닉\n",
        "  [0.30, 0.20, 0.50,], # 1 : 섭도\n",
        "  [0.70, 0.00, 0.30,], # 2 : 도미\n",
        "]\n",
        "start = 0. # Tonic "
      ],
      "metadata": {
        "id": "jRa3ZjxzBmTB"
      },
      "execution_count": 26,
      "outputs": []
    },
    {
      "cell_type": "code",
      "source": [
        "import numpy\n",
        "num_of_chords = 20\n",
        "state_progression = [0]\n",
        "for _ in range(num_of_chords):\n",
        "    current_state = state_progression[-1]\n",
        "    probs = mm[current_state]\n",
        "    next_state = numpy.random.choice([0, 1, 2], \n",
        "                                     1, \n",
        "                                     p=probs)[0]\n",
        "    state_progression.append(next_state)\n",
        "state_progression"
      ],
      "metadata": {
        "colab": {
          "base_uri": "https://localhost:8080/"
        },
        "id": "JQW0qOj4IG4e",
        "outputId": "5c29e3f8-0488-48ad-aee4-8194b0f5c3ab"
      },
      "execution_count": 27,
      "outputs": [
        {
          "output_type": "execute_result",
          "data": {
            "text/plain": [
              "[0, 2, 0, 1, 0, 2, 0, 2, 0, 2, 0, 2, 0, 2, 0, 0, 1, 2, 0, 0, 1]"
            ]
          },
          "metadata": {},
          "execution_count": 27
        }
      ]
    },
    {
      "cell_type": "code",
      "source": [
        "def generate_chord_group_progression(step, start_state):\n",
        "    mm = [\n",
        "        [0.25, 0.25, 0.50,], # 0 : 토닉\n",
        "        [0.30, 0.20, 0.50,], # 1 : 섭도\n",
        "        [0.70, 0.00, 0.30,], # 2 : 도미\n",
        "    ]\n",
        "    state_progression = [start_state]\n",
        "    for _ in range(step):\n",
        "        current_state = state_progression[-1]\n",
        "        probs = mm[current_state]\n",
        "        next_state = numpy.random.choice([0, 1, 2], \n",
        "                                        1, \n",
        "                                        p=probs)[0]\n",
        "        state_progression.append(next_state)\n",
        "    return state_progression"
      ],
      "metadata": {
        "id": "d5XLZb5WD8wP"
      },
      "execution_count": 28,
      "outputs": []
    },
    {
      "cell_type": "markdown",
      "source": [
        ""
      ],
      "metadata": {
        "id": "jkHaheC9FNtr"
      }
    },
    {
      "cell_type": "code",
      "source": [
        "generate_chord_group_progression(10, 0)"
      ],
      "metadata": {
        "colab": {
          "base_uri": "https://localhost:8080/"
        },
        "id": "C3YjeneLFG3z",
        "outputId": "e35f1efe-e864-4ffb-d77a-64b087ff15d0"
      },
      "execution_count": 29,
      "outputs": [
        {
          "output_type": "execute_result",
          "data": {
            "text/plain": [
              "[0, 2, 0, 2, 0, 2, 0, 2, 2, 2, 2]"
            ]
          },
          "metadata": {},
          "execution_count": 29
        }
      ]
    },
    {
      "cell_type": "code",
      "source": [
        "test_list = [4, 6, 8, 4, 5]\n",
        "print(test_list[-1])\n",
        "print(test_list[len(test_list) - 1])"
      ],
      "metadata": {
        "colab": {
          "base_uri": "https://localhost:8080/"
        },
        "id": "Y6tWka2FiMR0",
        "outputId": "5758a877-32f2-4963-8e65-7e19848579f2"
      },
      "execution_count": 30,
      "outputs": [
        {
          "output_type": "stream",
          "name": "stdout",
          "text": [
            "5\n",
            "5\n"
          ]
        }
      ]
    },
    {
      "cell_type": "code",
      "source": [
        "a = ['a', 'b', 'c']\n",
        "for i in a:\n",
        "  print(i)"
      ],
      "metadata": {
        "colab": {
          "base_uri": "https://localhost:8080/"
        },
        "id": "JihnlQwpT-ed",
        "outputId": "805446a4-929a-4b59-9bb9-899a403b2f0d"
      },
      "execution_count": 31,
      "outputs": [
        {
          "output_type": "stream",
          "name": "stdout",
          "text": [
            "a\n",
            "b\n",
            "c\n"
          ]
        }
      ]
    },
    {
      "cell_type": "code",
      "source": [
        "for i in range(len(a)):\n",
        "  j = a[i]\n",
        "  print(i, j)"
      ],
      "metadata": {
        "colab": {
          "base_uri": "https://localhost:8080/"
        },
        "id": "wLQtYoqHUJAI",
        "outputId": "b158cbd3-bfd1-4c61-a0f4-e45352cce346"
      },
      "execution_count": 32,
      "outputs": [
        {
          "output_type": "stream",
          "name": "stdout",
          "text": [
            "0 a\n",
            "1 b\n",
            "2 c\n"
          ]
        }
      ]
    },
    {
      "cell_type": "code",
      "source": [
        "a = ['a', 'b', 'c']\n",
        "for i, j in enumerate(a):\n",
        "  print(i, j)"
      ],
      "metadata": {
        "colab": {
          "base_uri": "https://localhost:8080/"
        },
        "id": "jrvW8qlhUV5B",
        "outputId": "27a19c12-ae9e-44bb-beb2-17af79ac188e"
      },
      "execution_count": 33,
      "outputs": [
        {
          "output_type": "stream",
          "name": "stdout",
          "text": [
            "0 a\n",
            "1 b\n",
            "2 c\n"
          ]
        }
      ]
    },
    {
      "cell_type": "code",
      "source": [
        "import random\n",
        "chord_group = [\n",
        "    [C, Em, Am],  # 0: Tonic           \n",
        "    [F, Dm],  # 1: SubD           \n",
        "    [G],  # 2: Dom           \n",
        "]\n",
        "chord_progression = []\n",
        "# [0, 2, 0, 1, 2, 0, 2, 2, 0, 1, 0, 2, 0, 0, 1, 2, 0, 0, 0, 2, 0]\n",
        "# for i, state in enumerate(state_progression):\n",
        "for i in range(len(state_progression)):\n",
        "  state = state_progression[i]\n",
        "  chord_candidate = chord_group[state]\n",
        "  chord_pick = random.choice(chord_candidate)  # random.choice(리스트) 리스트안에서 아이템 1개를 랜덤으로 뽑는다.\n",
        "  start_time = i * 4.0\n",
        "  for chord_note in chord_pick:\n",
        "    note_copy = chord_note.copy()\n",
        "    note_copy['start_time'] = start_time\n",
        "    note_copy['length'] = 4.0\n",
        "    chord_progression.append(note_copy)\n",
        "print(chord_progression)\n",
        "  \n",
        "write_midi(chord_progression, 120, 'chord_prog.mid')"
      ],
      "metadata": {
        "colab": {
          "base_uri": "https://localhost:8080/"
        },
        "id": "FFav4bYtLelK",
        "outputId": "4f94da15-85de-4cf4-b7a3-b5859660a8f2"
      },
      "execution_count": 34,
      "outputs": [
        {
          "output_type": "stream",
          "name": "stdout",
          "text": [
            "[{'pitch': 64, 'length': 4.0, 'start_time': 0.0, 'velocity': 80}, {'pitch': 67, 'length': 4.0, 'start_time': 0.0, 'velocity': 80}, {'pitch': 71, 'length': 4.0, 'start_time': 0.0, 'velocity': 80}, {'pitch': 55, 'length': 4.0, 'start_time': 4.0, 'velocity': 80}, {'pitch': 59, 'length': 4.0, 'start_time': 4.0, 'velocity': 80}, {'pitch': 62, 'length': 4.0, 'start_time': 4.0, 'velocity': 80}, {'pitch': 64, 'length': 4.0, 'start_time': 8.0, 'velocity': 80}, {'pitch': 67, 'length': 4.0, 'start_time': 8.0, 'velocity': 80}, {'pitch': 71, 'length': 4.0, 'start_time': 8.0, 'velocity': 80}, {'pitch': 53, 'length': 4.0, 'start_time': 12.0, 'velocity': 80}, {'pitch': 57, 'length': 4.0, 'start_time': 12.0, 'velocity': 80}, {'pitch': 60, 'length': 4.0, 'start_time': 12.0, 'velocity': 80}, {'pitch': 60, 'length': 4.0, 'start_time': 16.0, 'velocity': 80}, {'pitch': 64, 'length': 4.0, 'start_time': 16.0, 'velocity': 80}, {'pitch': 67, 'length': 4.0, 'start_time': 16.0, 'velocity': 80}, {'pitch': 55, 'length': 4.0, 'start_time': 20.0, 'velocity': 80}, {'pitch': 59, 'length': 4.0, 'start_time': 20.0, 'velocity': 80}, {'pitch': 62, 'length': 4.0, 'start_time': 20.0, 'velocity': 80}, {'pitch': 60, 'length': 4.0, 'start_time': 24.0, 'velocity': 80}, {'pitch': 64, 'length': 4.0, 'start_time': 24.0, 'velocity': 80}, {'pitch': 67, 'length': 4.0, 'start_time': 24.0, 'velocity': 80}, {'pitch': 55, 'length': 4.0, 'start_time': 28.0, 'velocity': 80}, {'pitch': 59, 'length': 4.0, 'start_time': 28.0, 'velocity': 80}, {'pitch': 62, 'length': 4.0, 'start_time': 28.0, 'velocity': 80}, {'pitch': 64, 'length': 4.0, 'start_time': 32.0, 'velocity': 80}, {'pitch': 67, 'length': 4.0, 'start_time': 32.0, 'velocity': 80}, {'pitch': 71, 'length': 4.0, 'start_time': 32.0, 'velocity': 80}, {'pitch': 55, 'length': 4.0, 'start_time': 36.0, 'velocity': 80}, {'pitch': 59, 'length': 4.0, 'start_time': 36.0, 'velocity': 80}, {'pitch': 62, 'length': 4.0, 'start_time': 36.0, 'velocity': 80}, {'pitch': 60, 'length': 4.0, 'start_time': 40.0, 'velocity': 80}, {'pitch': 64, 'length': 4.0, 'start_time': 40.0, 'velocity': 80}, {'pitch': 67, 'length': 4.0, 'start_time': 40.0, 'velocity': 80}, {'pitch': 55, 'length': 4.0, 'start_time': 44.0, 'velocity': 80}, {'pitch': 59, 'length': 4.0, 'start_time': 44.0, 'velocity': 80}, {'pitch': 62, 'length': 4.0, 'start_time': 44.0, 'velocity': 80}, {'pitch': 57, 'length': 4.0, 'start_time': 48.0, 'velocity': 80}, {'pitch': 60, 'length': 4.0, 'start_time': 48.0, 'velocity': 80}, {'pitch': 64, 'length': 4.0, 'start_time': 48.0, 'velocity': 80}, {'pitch': 55, 'length': 4.0, 'start_time': 52.0, 'velocity': 80}, {'pitch': 59, 'length': 4.0, 'start_time': 52.0, 'velocity': 80}, {'pitch': 62, 'length': 4.0, 'start_time': 52.0, 'velocity': 80}, {'pitch': 64, 'length': 4.0, 'start_time': 56.0, 'velocity': 80}, {'pitch': 67, 'length': 4.0, 'start_time': 56.0, 'velocity': 80}, {'pitch': 71, 'length': 4.0, 'start_time': 56.0, 'velocity': 80}, {'pitch': 57, 'length': 4.0, 'start_time': 60.0, 'velocity': 80}, {'pitch': 60, 'length': 4.0, 'start_time': 60.0, 'velocity': 80}, {'pitch': 64, 'length': 4.0, 'start_time': 60.0, 'velocity': 80}, {'pitch': 62, 'length': 4.0, 'start_time': 64.0, 'velocity': 80}, {'pitch': 65, 'length': 4.0, 'start_time': 64.0, 'velocity': 80}, {'pitch': 69, 'length': 4.0, 'start_time': 64.0, 'velocity': 80}, {'pitch': 55, 'length': 4.0, 'start_time': 68.0, 'velocity': 80}, {'pitch': 59, 'length': 4.0, 'start_time': 68.0, 'velocity': 80}, {'pitch': 62, 'length': 4.0, 'start_time': 68.0, 'velocity': 80}, {'pitch': 60, 'length': 4.0, 'start_time': 72.0, 'velocity': 80}, {'pitch': 64, 'length': 4.0, 'start_time': 72.0, 'velocity': 80}, {'pitch': 67, 'length': 4.0, 'start_time': 72.0, 'velocity': 80}, {'pitch': 57, 'length': 4.0, 'start_time': 76.0, 'velocity': 80}, {'pitch': 60, 'length': 4.0, 'start_time': 76.0, 'velocity': 80}, {'pitch': 64, 'length': 4.0, 'start_time': 76.0, 'velocity': 80}, {'pitch': 62, 'length': 4.0, 'start_time': 80.0, 'velocity': 80}, {'pitch': 65, 'length': 4.0, 'start_time': 80.0, 'velocity': 80}, {'pitch': 69, 'length': 4.0, 'start_time': 80.0, 'velocity': 80}]\n"
          ]
        }
      ]
    },
    {
      "cell_type": "code",
      "source": [
        "def convert_group_num_to_chord_num(group_progression):\n",
        "    # group_progression = [0, 2, 0, 1, 2, 0, 2, 2, 0, 1, 0, 2, 0, 0, 1, 2, 0, 0, 0, 2, 0]\n",
        "    chord_group = [\n",
        "        [1, 3, 6],  # 0: Tonic           \n",
        "        [4, 2],  # 1: SubD           \n",
        "        [5],  # 2: Dom           \n",
        "    ]\n",
        "    chord_progression = []\n",
        "    for i in range(len(group_progression)):\n",
        "        state = group_progression[i]\n",
        "        chord_candidate = chord_group[state]\n",
        "        chord_pick = random.choice(chord_candidate)  # random.choice(리스트) 리스트안에서 아이템 1개를 랜덤으로 뽑는다.\n",
        "        chord_progression.append(chord_pick)\n",
        "    return chord_progression"
      ],
      "metadata": {
        "id": "P_27bA71Fo6c"
      },
      "execution_count": 35,
      "outputs": []
    },
    {
      "cell_type": "code",
      "source": [
        "test_input = [0, 2, 0, 1, 2, 0, 2, 2, 0, 1, 0, 2, 0, 0, 1, 2, 0, 0, 0, 2, 0]\n",
        "convert_group_num_to_chord_num(test_input)"
      ],
      "metadata": {
        "colab": {
          "base_uri": "https://localhost:8080/"
        },
        "id": "Oi0QGH9MG1Go",
        "outputId": "b5d9142b-ef0c-4128-bd95-a7bb52724d6c"
      },
      "execution_count": 36,
      "outputs": [
        {
          "output_type": "execute_result",
          "data": {
            "text/plain": [
              "[1, 5, 3, 4, 5, 1, 5, 5, 1, 4, 1, 5, 6, 1, 4, 5, 3, 1, 1, 5, 1]"
            ]
          },
          "metadata": {},
          "execution_count": 36
        }
      ]
    },
    {
      "cell_type": "code",
      "source": [
        "# 코드 구성음을 마음대로 펼치는 알고리즘을 구현해봅시다.\n",
        "# 음역대는 C3(60)~F4(77)\n",
        "chord_prog = [C, Am, F, G]\n",
        "write_midi(\n",
        "    [{'pitch': 60, 'start_time':0, 'length': 4., 'velocity': 100}],\n",
        "    100,\n",
        "    'C.mid'    \n",
        ")"
      ],
      "metadata": {
        "id": "-WN3CaKRRnWe"
      },
      "execution_count": 37,
      "outputs": []
    },
    {
      "cell_type": "code",
      "source": [
        "# Chord_prog 안에 있는 4개의 코드(안에있는 노트정보도)가 차례로 출력되게 for문을 짜보세요. (2줄)\n",
        "for i in chord_prog:\n",
        "    print(i)"
      ],
      "metadata": {
        "colab": {
          "base_uri": "https://localhost:8080/"
        },
        "id": "BmCxhrVN9OIK",
        "outputId": "e514919f-65cd-4525-8ff3-4f1b9e15e777"
      },
      "execution_count": 38,
      "outputs": [
        {
          "output_type": "stream",
          "name": "stdout",
          "text": [
            "[{'pitch': 60, 'length': 1.0, 'start_time': 0.0, 'velocity': 80}, {'pitch': 64, 'length': 1.0, 'start_time': 0.0, 'velocity': 80}, {'pitch': 67, 'length': 1.0, 'start_time': 0.0, 'velocity': 80}]\n",
            "[{'pitch': 57, 'length': 1.0, 'start_time': 0.0, 'velocity': 80}, {'pitch': 60, 'length': 1.0, 'start_time': 0.0, 'velocity': 80}, {'pitch': 64, 'length': 1.0, 'start_time': 0.0, 'velocity': 80}]\n",
            "[{'pitch': 53, 'length': 1.0, 'start_time': 0.0, 'velocity': 80}, {'pitch': 57, 'length': 1.0, 'start_time': 0.0, 'velocity': 80}, {'pitch': 60, 'length': 1.0, 'start_time': 0.0, 'velocity': 80}]\n",
            "[{'pitch': 55, 'length': 1.0, 'start_time': 0.0, 'velocity': 80}, {'pitch': 59, 'length': 1.0, 'start_time': 0.0, 'velocity': 80}, {'pitch': 62, 'length': 1.0, 'start_time': 0.0, 'velocity': 80}]\n"
          ]
        }
      ]
    },
    {
      "cell_type": "code",
      "source": [
        "# 0부터 127까지의 pitch midi number 중 모든 C(0~)를 찾아서 리스트에 저장해보세요. (4줄정도 필요)\n",
        "my_list = [] # == my_list = list()\n",
        "# C-2 = 0 \n",
        "# C-1 = 12\n",
        "# C0 = 24\n",
        "# C1 = 36 ......  \n",
        "for i in range(128):\n",
        "    if i % 12 == 0:\n",
        "        my_list.append(i)\n",
        "\n",
        "my_list = []\n",
        "for i in range(0, 128, 12):\n",
        "    my_list.append(i)"
      ],
      "metadata": {
        "id": "WMVtJjBDA3T-"
      },
      "execution_count": 39,
      "outputs": []
    },
    {
      "cell_type": "code",
      "source": [
        "c_maj_scale = [0, 2, 4, 5, 7, 9, 11]\n",
        "c_maj_pitch_candidate = [\n",
        "    [], # c\n",
        "    [], # d\n",
        "    [], # e\n",
        "    [], # f\n",
        "    [], # g\n",
        "    [], # a\n",
        "    []  # b\n",
        "]\n",
        "# 각 스케일음의 59~F4(77) 범위내 모든 옥타브 pitch를 찾아서 위의 c_maj_scale_all_oct 안에 넣어주세요.\n",
        "# ** pitch 탐색 범위는 추후 조정될 수 있습니다.\n",
        "# ** 7번 코드를 복붙할 수도 있지만 for문을 사용해서 효과적으로 작동하도록 해보세요.\n",
        "\n",
        "for i in range(7):\n",
        "    for p in range(59, 77+1):\n",
        "        if p%12 == c_maj_scale[i]: \n",
        "            c_maj_pitch_candidate[i].append(p)\n",
        "c_maj_pitch_candidate\n",
        "\n",
        "# # C\n",
        "# for p in range(59, 77+1):\n",
        "#    if p%12 == 0: \n",
        "#        c_maj_pitch_candidate[0].append(p)\n",
        "# # D\n",
        "# for p in range(59, 77+1):\n",
        "#    if p%12 == 2: \n",
        "#        c_maj_pitch_candidate[1].append(p)\n",
        "\n",
        "# # C\n",
        "# for p in range(60, 77+1, 12):\n",
        "#     c_maj_pitch_candidate[0].append(p)\n",
        "# # D\n",
        "# for p in range(62, 77+1, 12):\n",
        "#     c_maj_pitch_candidate[1].append(p)\n",
        "\n",
        "# ...\n",
        "# # B\n",
        "# for p in range(71, 77+1, 12):\n",
        "#     c_maj_pitch_candidate[1].append(p)\n",
        "\n"
      ],
      "metadata": {
        "colab": {
          "base_uri": "https://localhost:8080/"
        },
        "id": "l3qcBn9tFhXb",
        "outputId": "58c562f7-bac4-43ac-f743-b4f80fae52db"
      },
      "execution_count": 40,
      "outputs": [
        {
          "output_type": "execute_result",
          "data": {
            "text/plain": [
              "[[60, 72], [62, 74], [64, 76], [65, 77], [67], [69], [59, 71]]"
            ]
          },
          "metadata": {},
          "execution_count": 40
        }
      ]
    },
    {
      "cell_type": "code",
      "source": [
        "voicing_candidate_C = [\n",
        "    c_maj_pitch_candidate[0],  # [0] 도의 보이싱 후보 음들\n",
        "    c_maj_pitch_candidate[2],  # [1] 미의 보이싱 후보 음들\n",
        "    c_maj_pitch_candidate[4],  # [2] 솔의 보이싱 후보 음들\n",
        "]\n",
        "voicing_candidate_C\n",
        "# 위에 코드 기능이 이해되시는 분은 C, Dm, Em, F, G, Am에 대해서 모두 만들어주세요.\n",
        "voicing_candidate_Dm = [\n",
        "    c_maj_pitch_candidate[1],  # 레의 보이싱 후보 음들\n",
        "    c_maj_pitch_candidate[3],  # 파의 보이싱 후보 음들\n",
        "    c_maj_pitch_candidate[5],  # 라의 보이싱 후보 음들\n",
        "]\n",
        "voicing_candidate_Em = [\n",
        "    c_maj_pitch_candidate[2],  # 미의 보이싱 후보 음들\n",
        "    c_maj_pitch_candidate[4],  # 솔의 보이싱 후보 음들\n",
        "    c_maj_pitch_candidate[6],  # 시의 보이싱 후보 음들\n",
        "]\n",
        "voicing_candidate_F = [\n",
        "    c_maj_pitch_candidate[3],  # 파의 보이싱 후보 음들\n",
        "    c_maj_pitch_candidate[5],  # 라의 보이싱 후보 음들\n",
        "    c_maj_pitch_candidate[0],  # 도의 보이싱 후보 음들\n",
        "]\n",
        "voicing_candidate_G = [\n",
        "    c_maj_pitch_candidate[4],  # 솔의 보이싱 후보 음들\n",
        "    c_maj_pitch_candidate[6],  # 시의 보이싱 후보 음들\n",
        "    c_maj_pitch_candidate[1],  # 레의 보이싱 후보 음들\n",
        "]\n",
        "voicing_candidate_Am = [\n",
        "    c_maj_pitch_candidate[5],  # 라의 보이싱 후보 음들\n",
        "    c_maj_pitch_candidate[0],  # 도의 보이싱 후보 음들\n",
        "    c_maj_pitch_candidate[2],  # 미의 보이싱 후보 음들\n",
        "]\n",
        "print(voicing_candidate_C)\n",
        "print(voicing_candidate_Dm)\n",
        "print(voicing_candidate_Em)\n",
        "print(voicing_candidate_F)\n",
        "print(voicing_candidate_G)\n",
        "print(voicing_candidate_Am)\n"
      ],
      "metadata": {
        "colab": {
          "base_uri": "https://localhost:8080/"
        },
        "id": "ZoJMq0OYTV_T",
        "outputId": "3613da73-a294-4e44-96e6-c32d7aea3834"
      },
      "execution_count": 41,
      "outputs": [
        {
          "output_type": "stream",
          "name": "stdout",
          "text": [
            "[[60, 72], [64, 76], [67]]\n",
            "[[62, 74], [65, 77], [69]]\n",
            "[[64, 76], [67], [59, 71]]\n",
            "[[65, 77], [69], [60, 72]]\n",
            "[[67], [59, 71], [62, 74]]\n",
            "[[69], [60, 72], [64, 76]]\n"
          ]
        }
      ]
    },
    {
      "cell_type": "code",
      "source": [
        "cmaj_scale_diatonic_chords = [\n",
        "    None, \n",
        "    C,  # [1] I  : C\n",
        "    Dm, # [2] II : Dm\n",
        "    Em, # [3] III: Em\n",
        "    F,  # [4] IV : F\n",
        "    G,  # [5] V  : G\n",
        "    Am  # [6] VI : Am\n",
        "]\n",
        "cmaj_scale_diatonic_chords_vc = [\n",
        "    None,\n",
        "    voicing_candidate_C, # [1] I  : C\n",
        "    voicing_candidate_Dm,# [2] II : Dm\n",
        "    voicing_candidate_Em,# [3] III: Em\n",
        "    voicing_candidate_F, # [4] IV : F\n",
        "    voicing_candidate_G, # [5] V  : G\n",
        "    voicing_candidate_Am,# [6] VI : Am\n",
        "]\n",
        "cmaj_scale_diatonic_chords_vc[1][0][0]\n",
        "\n",
        "chord_prog_num = [1, 6, 4, 5]  # C-Am-F-G\n",
        "# chord_prog_num의 \b각 코드의 보이싱 후보음들 중에서 랜덤으로 선택해서 최종 음을 선택하게 코드를 구성하시오.\n",
        "# 예) \n",
        "# C에서 voicing_candidate_C[0] 은 도의 보이싱 후보 음들\n",
        "# C에서 voicing_candidate_C[1] 은 미의 보이싱 후보 음들\n",
        "# C에서 voicing_candidate_C[2] 은 솔의 보이싱 후보 음들\n",
        "# random.choice(voicing_candidate_C[0])을 하면 도의 후보음들 중에서 랜덤으로 하나를 선택함\n",
        "# 코드 노트를 추가하는 방법은 새로운 딕셔너리를 생성해서 그안에 pitch, length, start_time, velocity를 \n",
        "# 부여하고 최종결과물 리스트에 append 한다. pitch는 랜덤으로 선택한 위의 음을 부여한다.\n",
        "\n",
        "# cmaj_scale_diatonic_chords_vc: Cmaj 스케일의 3화음의 \n",
        "chord_prog_number = [1, 6, 4, 5]\n",
        "voicing_result = []\n",
        "# for i, chord_num in enumerate(chord_prog_number):\n",
        "for i in range(len(chord_prog_number)):\n",
        "    chord_num = chord_prog_number[i]\n",
        "    start_time = i * 4.0 # 4/4박자 기준 1마디는 4.0 \n",
        "    voicing_candidate_group = cmaj_scale_diatonic_chords_vc[chord_num] \n",
        "    for j in range(len(voicing_candidate_group)):\n",
        "        voicing_candidate = voicing_candidate_group[j]\n",
        "        new_note = {}\n",
        "        new_note['pitch'] = random.choice(voicing_candidate)\n",
        "        new_note['length'] = 4.0\n",
        "        new_note['start_time'] = start_time # + random.uniform(-1/16., 1/16.) #   1/16 = 64분음표 길이\n",
        "        new_note['velocity'] = 70 + random.uniform(-10, 10)\n",
        "        voicing_result.append(new_note)\n",
        "write_midi(voicing_result, 120, 'voicing_test.mid')"
      ],
      "metadata": {
        "id": "TbU0mZ-mbuop"
      },
      "execution_count": 42,
      "outputs": []
    },
    {
      "cell_type": "code",
      "source": [
        "def generate_pitch_candidate(scale_list, min_pitch, max_pitch):\n",
        "    pitch_candidate = [[] for _ in range(7)]\n",
        "    for i in range(7):\n",
        "        for p in range(min_pitch, max_pitch+1):\n",
        "            if p%12 == scale_list[i]: \n",
        "                pitch_candidate[i].append(p)\n",
        "    return pitch_candidate"
      ],
      "metadata": {
        "id": "o80Mk7KeJeRF"
      },
      "execution_count": 43,
      "outputs": []
    },
    {
      "cell_type": "code",
      "source": [
        "pitch_candidate = generate_pitch_candidate([0, 2, 4, 5, 7, 9, 11], 55, 80)"
      ],
      "metadata": {
        "id": "8Cup-iYzKVJH"
      },
      "execution_count": 44,
      "outputs": []
    },
    {
      "cell_type": "code",
      "source": [
        "voicig_candidate_group = []\n",
        "for i in range(7):\n",
        "    voicig_candidate_group.append([])\n",
        "    for j in range(3):\n",
        "        voicig_candidate_group[-1].append(pitch_candidate[(i + (j*2)) % 7])\n",
        "voicig_candidate_group"
      ],
      "metadata": {
        "colab": {
          "base_uri": "https://localhost:8080/"
        },
        "id": "zBl_0DJLMQBW",
        "outputId": "22abae33-9174-4ba9-c357-9307c4d08e68"
      },
      "execution_count": 45,
      "outputs": [
        {
          "output_type": "execute_result",
          "data": {
            "text/plain": [
              "[[[60, 72], [64, 76], [55, 67, 79]],\n",
              " [[62, 74], [65, 77], [57, 69]],\n",
              " [[64, 76], [55, 67, 79], [59, 71]],\n",
              " [[65, 77], [57, 69], [60, 72]],\n",
              " [[55, 67, 79], [59, 71], [62, 74]],\n",
              " [[57, 69], [60, 72], [64, 76]],\n",
              " [[59, 71], [62, 74], [65, 77]]]"
            ]
          },
          "metadata": {},
          "execution_count": 45
        }
      ]
    },
    {
      "cell_type": "code",
      "source": [
        "def voicing_chord_progression(chord_num_progression, pitch_candidate, seventh, length):\n",
        "    voicig_candidate_group = [None,]\n",
        "    if seventh == True:\n",
        "        n = 4\n",
        "    else:\n",
        "        n = 3\n",
        "    for i in range(7):\n",
        "        voicig_candidate_group.append([])\n",
        "        for j in range(n):\n",
        "            voicig_candidate_group[-1].append(pitch_candidate[(i + (j*2)) % 7])\n",
        "    voicing_result = []\n",
        "    for i in range(len(chord_num_progression)):\n",
        "        chord_num = chord_num_progression[i]\n",
        "        start_time = i * length # 4/4박자 기준 1마디는 4.0 \n",
        "        voicing_candidate_group = voicig_candidate_group[chord_num] \n",
        "        for j in range(len(voicing_candidate_group)):\n",
        "            voicing_candidate = voicing_candidate_group[j]\n",
        "            new_note = {}\n",
        "            new_note['pitch'] = random.choice(voicing_candidate)\n",
        "            new_note['length'] = length\n",
        "            new_note['start_time'] = start_time # + random.uniform(-1/16., 1/16.) #   1/16 = 64분음표 길이\n",
        "            new_note['velocity'] = 70 \n",
        "            voicing_result.append(new_note)\n",
        "    return voicing_result "
      ],
      "metadata": {
        "id": "XBHCiJb3V7Kt"
      },
      "execution_count": 46,
      "outputs": []
    },
    {
      "cell_type": "code",
      "source": [
        "from google.colab import drive\n",
        "drive.mount('/content/drive')"
      ],
      "metadata": {
        "colab": {
          "base_uri": "https://localhost:8080/"
        },
        "id": "6iZEX84KWTjN",
        "outputId": "b1617088-ede6-4a1a-cf4c-ecb1d67b72ff"
      },
      "execution_count": 47,
      "outputs": [
        {
          "output_type": "stream",
          "name": "stdout",
          "text": [
            "Mounted at /content/drive\n"
          ]
        }
      ]
    },
    {
      "cell_type": "code",
      "source": [
        "import os\n",
        "\n",
        "# Step 1. 코드그룹 진행 생성\n",
        "chord_group_prog = generate_chord_group_progression(10, 0)\n",
        "# Step 2. 코드그룹 숫자 -> 코드숫자로 변환\n",
        "chord_num_prog = convert_group_num_to_chord_num(chord_group_prog)\n",
        "# Step 3. 보이싱에 사용 가능한 노트집합 생성\n",
        "p_candidate = generate_pitch_candidate([0, 2, 4, 5, 7, 9, 11], 50, 80)\n",
        "# Step 4. 랜덤 코드 보이싱 \n",
        "voicing_result = voicing_chord_progression(chord_num_prog, p_candidate, True, 2.0)\n",
        "# step 5. 미디파일로 결과 저장\n",
        "\n",
        "\n",
        "# 구글드라이브안에 폴더는 직접 만들어주셔야 합니다.\n",
        "dest_path = os.path.join('drive', 'MyDrive', '데이터', 'chord_voicing3.mid')\n",
        "write_midi(voicing_result, 120, dest_path)"
      ],
      "metadata": {
        "id": "v6Dh5ZltNC9o"
      },
      "execution_count": 49,
      "outputs": []
    },
    {
      "cell_type": "markdown",
      "source": [
        ""
      ],
      "metadata": {
        "id": "4jI1EpHMXpSA"
      }
    },
    {
      "cell_type": "code",
      "source": [
        "# for문을 이용해서 N개의 랜덤코드보이싱 미디파일이 생성되게 만들어주세요\n",
        "# 생성한 미디파일을 한번에 받기위해 각자 구글드라이브를 마운트한후 특정 폴더 안에 모이게 해주세요"
      ],
      "metadata": {
        "id": "k3_mAYVqOSOp"
      },
      "execution_count": 50,
      "outputs": []
    },
    {
      "cell_type": "markdown",
      "source": [
        ""
      ],
      "metadata": {
        "id": "prhRjm5CUqJv"
      }
    },
    {
      "cell_type": "code",
      "source": [
        "for i in range(10):\n",
        "    # Step 1. 코드그룹 진행 생성\n",
        "    chord_group_prog = generate_chord_group_progression(7, random.randint(0, 2))\n",
        "    # Step 2. 코드그룹 숫자 -> 코드숫자로 변환\n",
        "    chord_num_prog = convert_group_num_to_chord_num(chord_group_prog)\n",
        "    # Step 3. 보이싱에 사용 가능한 노트집합 생성\n",
        "    p_candidate = generate_pitch_candidate([0, 2, 4, 5, 7, 9, 11], 50, 80)\n",
        "    # Step 4. 랜덤 코드 보이싱 \n",
        "    voicing_result = voicing_chord_progression(chord_num_prog, p_candidate, True, 2.0)\n",
        "    # step 5. 미디파일로 결과 저장\n",
        "    dest_path = os.path.join('drive', 'MyDrive', '데이터', \n",
        "                             'chord_voicing_' + str(i).zfill(3) + '.mid')\n",
        "    write_midi(voicing_result, 120, dest_path)"
      ],
      "metadata": {
        "id": "SpF3mdaXixAI"
      },
      "execution_count": 51,
      "outputs": []
    },
    {
      "cell_type": "code",
      "source": [
        ""
      ],
      "metadata": {
        "id": "Ndv4YeU5kLo3"
      },
      "execution_count": null,
      "outputs": []
    }
  ]
}