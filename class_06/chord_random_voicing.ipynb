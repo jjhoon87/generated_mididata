{
  "nbformat": 4,
  "nbformat_minor": 0,
  "metadata": {
    "colab": {
      "name": "class_03.ipynb",
      "provenance": [],
      "collapsed_sections": []
    },
    "kernelspec": {
      "name": "python3",
      "display_name": "Python 3"
    },
    "language_info": {
      "name": "python"
    }
  },
  "cells": [
    {
      "cell_type": "markdown",
      "source": [
        "ex# 새 섹션"
      ],
      "metadata": {
        "id": "fgXj6rfQJBVq"
      }
    },
    {
      "cell_type": "code",
      "execution_count": 49,
      "metadata": {
        "colab": {
          "base_uri": "https://localhost:8080/"
        },
        "id": "685pyq6BI-2M",
        "outputId": "02ed84ad-9c42-43ef-a9f0-68b50f8c5557"
      },
      "outputs": [
        {
          "output_type": "stream",
          "name": "stdout",
          "text": [
            "[]\n"
          ]
        }
      ],
      "source": [
        "ex_list = []\n",
        "print(ex_list)"
      ]
    },
    {
      "cell_type": "code",
      "source": [
        "ex_list.append(1)\n",
        "print(ex_list)"
      ],
      "metadata": {
        "colab": {
          "base_uri": "https://localhost:8080/"
        },
        "id": "hh4PaokQKIjb",
        "outputId": "01ec7c1a-9bb4-4ea7-ba70-f3e82932615b"
      },
      "execution_count": 50,
      "outputs": [
        {
          "output_type": "stream",
          "name": "stdout",
          "text": [
            "[1]\n"
          ]
        }
      ]
    },
    {
      "cell_type": "code",
      "source": [
        "ex_list.append(2)\n",
        "ex_list.append(3)\n",
        "ex_list.append(4)\n",
        "ex_list.append(5)\n",
        "ex_list.append(6)\n",
        "print(ex_list)"
      ],
      "metadata": {
        "colab": {
          "base_uri": "https://localhost:8080/"
        },
        "id": "YReDZ4ZhKNL-",
        "outputId": "9069cb46-7d62-4a69-f182-688cf484898b"
      },
      "execution_count": 51,
      "outputs": [
        {
          "output_type": "stream",
          "name": "stdout",
          "text": [
            "[1, 2, 3, 4, 5, 6]\n"
          ]
        }
      ]
    },
    {
      "cell_type": "code",
      "source": [
        "ex_list.append('Apple')\n",
        "print(ex_list)"
      ],
      "metadata": {
        "colab": {
          "base_uri": "https://localhost:8080/"
        },
        "id": "XV3uGzA2KpTH",
        "outputId": "af240f69-3315-444d-9e39-605259ce02fb"
      },
      "execution_count": 52,
      "outputs": [
        {
          "output_type": "stream",
          "name": "stdout",
          "text": [
            "[1, 2, 3, 4, 5, 6, 'Apple']\n"
          ]
        }
      ]
    },
    {
      "cell_type": "code",
      "source": [
        "ex_list.append([])\n",
        "print(ex_list)"
      ],
      "metadata": {
        "colab": {
          "base_uri": "https://localhost:8080/"
        },
        "id": "pZQRn0M_LdE_",
        "outputId": "a4f71f48-9ff8-4fca-a1f7-30d1f4659510"
      },
      "execution_count": 53,
      "outputs": [
        {
          "output_type": "stream",
          "name": "stdout",
          "text": [
            "[1, 2, 3, 4, 5, 6, 'Apple', []]\n"
          ]
        }
      ]
    },
    {
      "cell_type": "code",
      "source": [
        "len(ex_list)"
      ],
      "metadata": {
        "colab": {
          "base_uri": "https://localhost:8080/"
        },
        "id": "FDfwMhKULtjG",
        "outputId": "05984497-6302-4083-eda1-a0549e4fb98e"
      },
      "execution_count": 54,
      "outputs": [
        {
          "output_type": "execute_result",
          "data": {
            "text/plain": [
              "8"
            ]
          },
          "metadata": {},
          "execution_count": 54
        }
      ]
    },
    {
      "cell_type": "code",
      "source": [
        "ex_list[0]"
      ],
      "metadata": {
        "colab": {
          "base_uri": "https://localhost:8080/"
        },
        "id": "1LMmNXoiL6Vm",
        "outputId": "802ee3d6-4637-40d0-8dda-bedeb3aea3e2"
      },
      "execution_count": 55,
      "outputs": [
        {
          "output_type": "execute_result",
          "data": {
            "text/plain": [
              "1"
            ]
          },
          "metadata": {},
          "execution_count": 55
        }
      ]
    },
    {
      "cell_type": "code",
      "source": [
        "ex_list[5]"
      ],
      "metadata": {
        "colab": {
          "base_uri": "https://localhost:8080/"
        },
        "id": "KsTAeQ0LMUPD",
        "outputId": "a363f8f1-0986-46e4-da84-de2426e7cc05"
      },
      "execution_count": 56,
      "outputs": [
        {
          "output_type": "execute_result",
          "data": {
            "text/plain": [
              "6"
            ]
          },
          "metadata": {},
          "execution_count": 56
        }
      ]
    },
    {
      "cell_type": "code",
      "source": [
        "ex_list[7]"
      ],
      "metadata": {
        "colab": {
          "base_uri": "https://localhost:8080/"
        },
        "id": "pOaJ4Sw4MeQQ",
        "outputId": "fa3ce08c-dc56-4bd2-ae49-390e7cce8ca0"
      },
      "execution_count": 57,
      "outputs": [
        {
          "output_type": "execute_result",
          "data": {
            "text/plain": [
              "[]"
            ]
          },
          "metadata": {},
          "execution_count": 57
        }
      ]
    },
    {
      "cell_type": "code",
      "source": [
        "ex_list[7].append(0.9994747)\n",
        "ex_list[7].append(100.7777)\n",
        "ex_list\n"
      ],
      "metadata": {
        "colab": {
          "base_uri": "https://localhost:8080/"
        },
        "id": "SUD9P34oMjNE",
        "outputId": "133f367f-8c80-4f5c-bbb4-4704f741946c"
      },
      "execution_count": 58,
      "outputs": [
        {
          "output_type": "execute_result",
          "data": {
            "text/plain": [
              "[1, 2, 3, 4, 5, 6, 'Apple', [0.9994747, 100.7777]]"
            ]
          },
          "metadata": {},
          "execution_count": 58
        }
      ]
    },
    {
      "cell_type": "code",
      "source": [
        "ex_dict = {}\n",
        "ex_dict['첫번째'] = 1\n",
        "print(ex_dict)"
      ],
      "metadata": {
        "colab": {
          "base_uri": "https://localhost:8080/"
        },
        "id": "5g_-pLRDM_eW",
        "outputId": "26acdb97-f0cb-4850-f129-4d9ff4164d58"
      },
      "execution_count": 59,
      "outputs": [
        {
          "output_type": "stream",
          "name": "stdout",
          "text": [
            "{'첫번째': 1}\n"
          ]
        }
      ]
    },
    {
      "cell_type": "code",
      "source": [
        "ex_dict['딸깍'] = '마우스'\n",
        "ex_dict"
      ],
      "metadata": {
        "colab": {
          "base_uri": "https://localhost:8080/"
        },
        "id": "eZVpk9Z2NnNM",
        "outputId": "ee6908cb-9977-46f6-e247-78e5883d70e4"
      },
      "execution_count": 60,
      "outputs": [
        {
          "output_type": "execute_result",
          "data": {
            "text/plain": [
              "{'딸깍': '마우스', '첫번째': 1}"
            ]
          },
          "metadata": {},
          "execution_count": 60
        }
      ]
    },
    {
      "cell_type": "code",
      "source": [
        "# 도\n",
        "music_note_01 = {}\n",
        "music_note_01['pitch'] = 60 \n",
        "music_note_01['length'] = 1.\n",
        "music_note_01['velocity'] = 100\n",
        "music_note_01['start_time'] = 0.\n",
        "# 레\n",
        "music_note_02 = {}\n",
        "music_note_02['pitch'] = 62 \n",
        "music_note_02['length'] = 1.\n",
        "music_note_02['velocity'] = 100\n",
        "music_note_02['start_time'] = 1.\n",
        "# 미\n",
        "music_note_03 = {}\n",
        "music_note_03['pitch'] = 64 \n",
        "music_note_03['length'] = 1.\n",
        "music_note_03['velocity'] = 100\n",
        "music_note_03['start_time'] = 2.\n",
        "note_list = [music_note_01, music_note_02, music_note_03]\n",
        "# ------------------------------------------------\n",
        "note_list = [\n",
        "    {'pitch': 60, 'length':1., 'velocity':100, 'start_time': 0.,}, # 도\n",
        "    {'pitch': 62, 'length':1., 'velocity':100, 'start_time': 1.,}, # 레\n",
        "    {'pitch': 64, 'length':1., 'velocity':100, 'start_time': 2.,}, # 미\n",
        "]\n"
      ],
      "metadata": {
        "id": "lim8uO8GN0Po"
      },
      "execution_count": 61,
      "outputs": []
    },
    {
      "cell_type": "code",
      "source": [
        "!pip install midiutil"
      ],
      "metadata": {
        "colab": {
          "base_uri": "https://localhost:8080/"
        },
        "id": "HiZ6SMjDj9ID",
        "outputId": "f93aaa90-c753-47c7-b2c0-ed516a4709b4"
      },
      "execution_count": 62,
      "outputs": [
        {
          "output_type": "stream",
          "name": "stdout",
          "text": [
            "Looking in indexes: https://pypi.org/simple, https://us-python.pkg.dev/colab-wheels/public/simple/\n",
            "Requirement already satisfied: midiutil in /usr/local/lib/python3.7/dist-packages (1.2.1)\n"
          ]
        }
      ]
    },
    {
      "cell_type": "code",
      "source": [
        "import midiutil\n",
        "def write_midi(seq, bpm, path):\n",
        "    mf = midiutil.MIDIFile(1, file_format=1)\n",
        "    track = 0\n",
        "    channel = 0\n",
        "    mf.addTempo(track, 0, bpm)\n",
        "    # for i, n in enumerate(seq):\n",
        "    for i in range(len(seq)):\n",
        "        n = seq[i]\n",
        "        mf.addNote(\n",
        "            track,\n",
        "            channel,\n",
        "            int(n['pitch']),\n",
        "            n['start_time'],\n",
        "            n['length'],\n",
        "            int(n['velocity'])\n",
        "        )\n",
        "    with open(path, 'wb') as outf:\n",
        "        mf.writeFile(outf)"
      ],
      "metadata": {
        "id": "g2PvuknTPEah"
      },
      "execution_count": 63,
      "outputs": []
    },
    {
      "cell_type": "code",
      "source": [
        "track_1 = []\n",
        "track_2 = []\n",
        "\n",
        "note_1 = {}\n",
        "note_1['pitch'] = 60\n",
        "note_1['start_time'] = 0.\n",
        "note_1['length'] = 4.0\n",
        "note_1['velocity'] = 100\n",
        "track_1.append(note_1)\n",
        "\n",
        "note_2 = {}\n",
        "note_2['pitch'] = 72\n",
        "note_2['start_time'] = 4.\n",
        "note_2['length'] = 4.0\n",
        "note_2['velocity'] = 100\n",
        "track_2.append(note_2)\n",
        "\n",
        "\n",
        "mf = midiutil.MIDIFile(2)\n",
        "# for i, n in enumerate(seq):\n",
        "mf.addNote(\n",
        "    0,\n",
        "    0,\n",
        "    int(note_1['pitch']),\n",
        "    note_1['start_time'],\n",
        "    note_1['length'],\n",
        "    int(note_1['velocity'])\n",
        ")\n",
        "mf.addNote(\n",
        "    1,\n",
        "    0,\n",
        "    int(note_2['pitch']),\n",
        "    note_2['start_time'],\n",
        "    note_2['length'],\n",
        "    int(note_2['velocity'])\n",
        ")\n",
        "with open('multi_track_test.mid', 'wb') as outf:\n",
        "    mf.writeFile(outf)\n"
      ],
      "metadata": {
        "id": "9PBuUiIpb5dc"
      },
      "execution_count": 85,
      "outputs": []
    },
    {
      "cell_type": "code",
      "source": [
        "write_midi(seq=note_list, bpm=90, path='output.mid')"
      ],
      "metadata": {
        "id": "c9bC2NJ3jsr5"
      },
      "execution_count": 64,
      "outputs": []
    },
    {
      "cell_type": "code",
      "source": [
        "# C - G - Am - Em\n",
        "\n",
        "C = [\n",
        "     {'pitch': 60, 'length': 4.0, 'start_time': 0., 'velocity': 80},\n",
        "     {'pitch': 64, 'length': 4.0, 'start_time': 0., 'velocity': 80},\n",
        "     {'pitch': 67, 'length': 4.0, 'start_time': 0., 'velocity': 80},\n",
        "]\n",
        "G = []\n",
        "Am = []\n",
        "Em = []\n",
        "chord_list = C + G + Am + Em"
      ],
      "metadata": {
        "id": "wGyZDwM_xI12"
      },
      "execution_count": 65,
      "outputs": []
    },
    {
      "cell_type": "code",
      "source": [
        "ex_list = [1,2,3]\n",
        "ex_list2 = [4,5,6]\n",
        "\n",
        "print(ex_list + ex_list2)\n"
      ],
      "metadata": {
        "colab": {
          "base_uri": "https://localhost:8080/"
        },
        "id": "wBWLAnRKx3ew",
        "outputId": "08bbf419-53ff-49dd-dcd9-aba2d7176099"
      },
      "execution_count": 66,
      "outputs": [
        {
          "output_type": "stream",
          "name": "stdout",
          "text": [
            "[1, 2, 3, 4, 5, 6]\n"
          ]
        }
      ]
    },
    {
      "cell_type": "code",
      "source": [
        "ex_list3 = [1, 2, 3, 4]\n",
        "print(ex_list3[3])\n",
        "ex_list3[3] = 100\n",
        "C4 = {\n",
        "    'pitch': 60\n",
        "}\n",
        "C4['pitch'] = 72\n",
        "print(C4)"
      ],
      "metadata": {
        "colab": {
          "base_uri": "https://localhost:8080/"
        },
        "id": "vq3dN68ezn1M",
        "outputId": "bd75bb12-818e-4e56-d481-7908cd34f000"
      },
      "execution_count": 67,
      "outputs": [
        {
          "output_type": "stream",
          "name": "stdout",
          "text": [
            "4\n",
            "{'pitch': 72}\n"
          ]
        }
      ]
    },
    {
      "cell_type": "code",
      "source": [
        "dim_1_list = [1, 2, 3, 4] # 1차원리스트"
      ],
      "metadata": {
        "id": "E8SzWt3v7874"
      },
      "execution_count": 68,
      "outputs": []
    },
    {
      "cell_type": "code",
      "source": [
        "#.  1 2 3\n",
        "#.  4 5 6\n",
        "#.  7 8 9\n",
        "mat_01 = [\n",
        "  [1, 2, 3],\n",
        "  [4, 5, 6],\n",
        "  [7, 8, 9],\n",
        "]\n",
        "for m in mat_01:\n",
        "  print(m)\n",
        "print(mat_01[1][2])\n",
        "mat_01[1][2] = -6\n",
        "\n",
        "for m in mat_01:\n",
        "  print(m)"
      ],
      "metadata": {
        "colab": {
          "base_uri": "https://localhost:8080/"
        },
        "id": "KtgMTNSD78Dp",
        "outputId": "93b5662e-da7c-4dae-ec05-cd90446680af"
      },
      "execution_count": 69,
      "outputs": [
        {
          "output_type": "stream",
          "name": "stdout",
          "text": [
            "[1, 2, 3]\n",
            "[4, 5, 6]\n",
            "[7, 8, 9]\n",
            "6\n",
            "[1, 2, 3]\n",
            "[4, 5, -6]\n",
            "[7, 8, 9]\n"
          ]
        }
      ]
    },
    {
      "cell_type": "markdown",
      "source": [
        ""
      ],
      "metadata": {
        "id": "SC9duS6noJD7"
      }
    },
    {
      "cell_type": "code",
      "source": [
        "C = [\n",
        "     {'pitch': 60,   'length': 1.0, 'start_time': 0., 'velocity': 80},\n",
        "     {'pitch': 60+4, 'length': 1.0, 'start_time': 0., 'velocity': 80},\n",
        "     {'pitch': 60+7, 'length': 1.0, 'start_time': 0., 'velocity': 80},\n",
        "]\n",
        "Dm = [\n",
        "     {'pitch': 62,   'length': 1.0, 'start_time': 0., 'velocity': 80},\n",
        "     {'pitch': 62+3, 'length': 1.0, 'start_time': 0., 'velocity': 80},\n",
        "     {'pitch': 62+7, 'length': 1.0, 'start_time': 0., 'velocity': 80},\n",
        "]\n",
        "Em = [\n",
        "     {'pitch': 64,   'length': 1.0, 'start_time': 0., 'velocity': 80},\n",
        "     {'pitch': 64+3, 'length': 1.0, 'start_time': 0., 'velocity': 80},\n",
        "     {'pitch': 64+7, 'length': 1.0, 'start_time': 0., 'velocity': 80},\n",
        "]\n",
        "F = [\n",
        "     {'pitch': 65   - 12, 'length': 1.0, 'start_time': 0., 'velocity': 80},\n",
        "     {'pitch': 65+4 - 12, 'length': 1.0, 'start_time': 0., 'velocity': 80},\n",
        "     {'pitch': 65+7 - 12, 'length': 1.0, 'start_time': 0., 'velocity': 80},\n",
        "]\n",
        "G = [\n",
        "     {'pitch': 67   - 12, 'length': 1.0, 'start_time': 0., 'velocity': 80},\n",
        "     {'pitch': 67+4 - 12, 'length': 1.0, 'start_time': 0., 'velocity': 80},\n",
        "     {'pitch': 67+7 - 12, 'length': 1.0, 'start_time': 0., 'velocity': 80},\n",
        "]\n",
        "Am = [\n",
        "     {'pitch': 69   - 12, 'length': 1.0, 'start_time': 0., 'velocity': 80},\n",
        "     {'pitch': 69+3 - 12, 'length': 1.0, 'start_time': 0., 'velocity': 80},\n",
        "     {'pitch': 69+7 - 12, 'length': 1.0, 'start_time': 0., 'velocity': 80},\n",
        "]\n",
        "# Bdim = []\n",
        "chord_group = [\n",
        "    [C, Em, Am],  # 0: Tonic           \n",
        "    [F, Dm],  # 1: SubD           \n",
        "    [G],  # 2: Dom           \n",
        "]"
      ],
      "metadata": {
        "id": "y1zRlBUfH-Ja"
      },
      "execution_count": 70,
      "outputs": []
    },
    {
      "cell_type": "code",
      "source": [
        "import numpy\n",
        "a = ['a', 'b', 'c']\n",
        "p = [0.7, 0.2, 0.1]\n",
        "print(numpy.random.choice(a, 1, p=p))"
      ],
      "metadata": {
        "colab": {
          "base_uri": "https://localhost:8080/"
        },
        "id": "eszHuzdSIuXy",
        "outputId": "2aa60033-adf3-4d4d-c731-9a0f981f7e7f"
      },
      "execution_count": 71,
      "outputs": [
        {
          "output_type": "stream",
          "name": "stdout",
          "text": [
            "['a']\n"
          ]
        }
      ]
    },
    {
      "cell_type": "code",
      "source": [
        "# 0: Tonic Group (1, 3, 6)\n",
        "# 1: SubDominant Group (2, 4)\n",
        "# 2: Dominant Group (5, *7)\n",
        "mm = [\n",
        "  [0.25, 0.25, 0.50,], # 0 : 토닉\n",
        "  [0.30, 0.20, 0.50,], # 1 : 섭도\n",
        "  [0.70, 0.00, 0.30,], # 2 : 도미\n",
        "]\n",
        "start = 0. # Tonic "
      ],
      "metadata": {
        "id": "jRa3ZjxzBmTB"
      },
      "execution_count": 72,
      "outputs": []
    },
    {
      "cell_type": "code",
      "source": [
        "import numpy\n",
        "num_of_chords = 20\n",
        "state_progression = [0]\n",
        "for _ in range(num_of_chords):\n",
        "    current_state = state_progression[-1]\n",
        "    probs = mm[current_state]\n",
        "    next_state = numpy.random.choice([0, 1, 2], \n",
        "                                     1, \n",
        "                                     p=probs)[0]\n",
        "    state_progression.append(next_state)\n",
        "state_progression"
      ],
      "metadata": {
        "colab": {
          "base_uri": "https://localhost:8080/"
        },
        "id": "JQW0qOj4IG4e",
        "outputId": "f1a10334-7957-4c71-f39d-1a2cbd578ea4"
      },
      "execution_count": 73,
      "outputs": [
        {
          "output_type": "execute_result",
          "data": {
            "text/plain": [
              "[0, 0, 0, 0, 2, 2, 2, 0, 1, 2, 0, 0, 1, 1, 2, 0, 1, 1, 0, 0, 0]"
            ]
          },
          "metadata": {},
          "execution_count": 73
        }
      ]
    },
    {
      "cell_type": "code",
      "source": [
        "def generate_chord_group_progression(step, start_state):\n",
        "    mm = [\n",
        "        [0.25, 0.25, 0.50,], # 0 : 토닉\n",
        "        [0.30, 0.20, 0.50,], # 1 : 섭도\n",
        "        [0.70, 0.00, 0.30,], # 2 : 도미\n",
        "    ]\n",
        "    state_progression = [start_state]\n",
        "    for _ in range(step):\n",
        "        current_state = state_progression[-1]\n",
        "        probs = mm[current_state]\n",
        "        next_state = numpy.random.choice([0, 1, 2], \n",
        "                                        1, \n",
        "                                        p=probs)[0]\n",
        "        state_progression.append(next_state)\n",
        "    return state_progression"
      ],
      "metadata": {
        "id": "d5XLZb5WD8wP"
      },
      "execution_count": 94,
      "outputs": []
    },
    {
      "cell_type": "markdown",
      "source": [
        ""
      ],
      "metadata": {
        "id": "jkHaheC9FNtr"
      }
    },
    {
      "cell_type": "code",
      "source": [
        "generate_chord_group_progression(10, 0)"
      ],
      "metadata": {
        "colab": {
          "base_uri": "https://localhost:8080/"
        },
        "id": "C3YjeneLFG3z",
        "outputId": "9994bdf5-9883-4a91-af9d-e42e2c2795f1"
      },
      "execution_count": 95,
      "outputs": [
        {
          "output_type": "execute_result",
          "data": {
            "text/plain": [
              "[0, 2, 0, 2, 0, 1, 0, 0, 2, 0, 1]"
            ]
          },
          "metadata": {},
          "execution_count": 95
        }
      ]
    },
    {
      "cell_type": "code",
      "source": [
        "test_list = [4, 6, 8, 4, 5]\n",
        "print(test_list[-1])\n",
        "print(test_list[len(test_list) - 1])"
      ],
      "metadata": {
        "colab": {
          "base_uri": "https://localhost:8080/"
        },
        "id": "Y6tWka2FiMR0",
        "outputId": "4eb9bca0-af70-4cc4-d994-9b11faf3e911"
      },
      "execution_count": 93,
      "outputs": [
        {
          "output_type": "stream",
          "name": "stdout",
          "text": [
            "5\n",
            "5\n",
            "5\n"
          ]
        }
      ]
    },
    {
      "cell_type": "code",
      "source": [
        "a = ['a', 'b', 'c']\n",
        "for i in a:\n",
        "  print(i)"
      ],
      "metadata": {
        "colab": {
          "base_uri": "https://localhost:8080/"
        },
        "id": "JihnlQwpT-ed",
        "outputId": "cca3632e-54bc-4507-fcb1-41350776d128"
      },
      "execution_count": 74,
      "outputs": [
        {
          "output_type": "stream",
          "name": "stdout",
          "text": [
            "a\n",
            "b\n",
            "c\n"
          ]
        }
      ]
    },
    {
      "cell_type": "code",
      "source": [
        "for i in range(len(a)):\n",
        "  j = a[i]\n",
        "  print(i, j)"
      ],
      "metadata": {
        "colab": {
          "base_uri": "https://localhost:8080/"
        },
        "id": "wLQtYoqHUJAI",
        "outputId": "58ec82dc-1392-4ee6-e4a9-bcadc723e7ab"
      },
      "execution_count": 75,
      "outputs": [
        {
          "output_type": "stream",
          "name": "stdout",
          "text": [
            "0 a\n",
            "1 b\n",
            "2 c\n"
          ]
        }
      ]
    },
    {
      "cell_type": "code",
      "source": [
        "a = ['a', 'b', 'c']\n",
        "for i, j in enumerate(a):\n",
        "  print(i, j)"
      ],
      "metadata": {
        "colab": {
          "base_uri": "https://localhost:8080/"
        },
        "id": "jrvW8qlhUV5B",
        "outputId": "724ffc10-3c4f-47ae-aae4-d8b46f41630b"
      },
      "execution_count": 76,
      "outputs": [
        {
          "output_type": "stream",
          "name": "stdout",
          "text": [
            "0 a\n",
            "1 b\n",
            "2 c\n"
          ]
        }
      ]
    },
    {
      "cell_type": "code",
      "source": [
        "import random\n",
        "chord_group = [\n",
        "    [C, Em, Am],  # 0: Tonic           \n",
        "    [F, Dm],  # 1: SubD           \n",
        "    [G],  # 2: Dom           \n",
        "]\n",
        "chord_progression = []\n",
        "# [0, 2, 0, 1, 2, 0, 2, 2, 0, 1, 0, 2, 0, 0, 1, 2, 0, 0, 0, 2, 0]\n",
        "# for i, state in enumerate(state_progression):\n",
        "for i in range(len(state_progression)):\n",
        "  state = state_progression[i]\n",
        "  chord_candidate = chord_group[state]\n",
        "  chord_pick = random.choice(chord_candidate)  # random.choice(리스트) 리스트안에서 아이템 1개를 랜덤으로 뽑는다.\n",
        "  start_time = i * 4.0\n",
        "  for chord_note in chord_pick:\n",
        "    note_copy = chord_note.copy()\n",
        "    note_copy['start_time'] = start_time\n",
        "    note_copy['length'] = 4.0\n",
        "    chord_progression.append(note_copy)\n",
        "print(chord_progression)\n",
        "  \n",
        "write_midi(chord_progression, 120, 'chord_prog.mid')"
      ],
      "metadata": {
        "colab": {
          "base_uri": "https://localhost:8080/"
        },
        "id": "FFav4bYtLelK",
        "outputId": "c5e21347-4b12-4cae-e34e-8f7067d77720"
      },
      "execution_count": 77,
      "outputs": [
        {
          "output_type": "stream",
          "name": "stdout",
          "text": [
            "[{'pitch': 64, 'length': 4.0, 'start_time': 0.0, 'velocity': 80}, {'pitch': 67, 'length': 4.0, 'start_time': 0.0, 'velocity': 80}, {'pitch': 71, 'length': 4.0, 'start_time': 0.0, 'velocity': 80}, {'pitch': 57, 'length': 4.0, 'start_time': 4.0, 'velocity': 80}, {'pitch': 60, 'length': 4.0, 'start_time': 4.0, 'velocity': 80}, {'pitch': 64, 'length': 4.0, 'start_time': 4.0, 'velocity': 80}, {'pitch': 57, 'length': 4.0, 'start_time': 8.0, 'velocity': 80}, {'pitch': 60, 'length': 4.0, 'start_time': 8.0, 'velocity': 80}, {'pitch': 64, 'length': 4.0, 'start_time': 8.0, 'velocity': 80}, {'pitch': 64, 'length': 4.0, 'start_time': 12.0, 'velocity': 80}, {'pitch': 67, 'length': 4.0, 'start_time': 12.0, 'velocity': 80}, {'pitch': 71, 'length': 4.0, 'start_time': 12.0, 'velocity': 80}, {'pitch': 55, 'length': 4.0, 'start_time': 16.0, 'velocity': 80}, {'pitch': 59, 'length': 4.0, 'start_time': 16.0, 'velocity': 80}, {'pitch': 62, 'length': 4.0, 'start_time': 16.0, 'velocity': 80}, {'pitch': 55, 'length': 4.0, 'start_time': 20.0, 'velocity': 80}, {'pitch': 59, 'length': 4.0, 'start_time': 20.0, 'velocity': 80}, {'pitch': 62, 'length': 4.0, 'start_time': 20.0, 'velocity': 80}, {'pitch': 55, 'length': 4.0, 'start_time': 24.0, 'velocity': 80}, {'pitch': 59, 'length': 4.0, 'start_time': 24.0, 'velocity': 80}, {'pitch': 62, 'length': 4.0, 'start_time': 24.0, 'velocity': 80}, {'pitch': 64, 'length': 4.0, 'start_time': 28.0, 'velocity': 80}, {'pitch': 67, 'length': 4.0, 'start_time': 28.0, 'velocity': 80}, {'pitch': 71, 'length': 4.0, 'start_time': 28.0, 'velocity': 80}, {'pitch': 62, 'length': 4.0, 'start_time': 32.0, 'velocity': 80}, {'pitch': 65, 'length': 4.0, 'start_time': 32.0, 'velocity': 80}, {'pitch': 69, 'length': 4.0, 'start_time': 32.0, 'velocity': 80}, {'pitch': 55, 'length': 4.0, 'start_time': 36.0, 'velocity': 80}, {'pitch': 59, 'length': 4.0, 'start_time': 36.0, 'velocity': 80}, {'pitch': 62, 'length': 4.0, 'start_time': 36.0, 'velocity': 80}, {'pitch': 60, 'length': 4.0, 'start_time': 40.0, 'velocity': 80}, {'pitch': 64, 'length': 4.0, 'start_time': 40.0, 'velocity': 80}, {'pitch': 67, 'length': 4.0, 'start_time': 40.0, 'velocity': 80}, {'pitch': 60, 'length': 4.0, 'start_time': 44.0, 'velocity': 80}, {'pitch': 64, 'length': 4.0, 'start_time': 44.0, 'velocity': 80}, {'pitch': 67, 'length': 4.0, 'start_time': 44.0, 'velocity': 80}, {'pitch': 53, 'length': 4.0, 'start_time': 48.0, 'velocity': 80}, {'pitch': 57, 'length': 4.0, 'start_time': 48.0, 'velocity': 80}, {'pitch': 60, 'length': 4.0, 'start_time': 48.0, 'velocity': 80}, {'pitch': 53, 'length': 4.0, 'start_time': 52.0, 'velocity': 80}, {'pitch': 57, 'length': 4.0, 'start_time': 52.0, 'velocity': 80}, {'pitch': 60, 'length': 4.0, 'start_time': 52.0, 'velocity': 80}, {'pitch': 55, 'length': 4.0, 'start_time': 56.0, 'velocity': 80}, {'pitch': 59, 'length': 4.0, 'start_time': 56.0, 'velocity': 80}, {'pitch': 62, 'length': 4.0, 'start_time': 56.0, 'velocity': 80}, {'pitch': 64, 'length': 4.0, 'start_time': 60.0, 'velocity': 80}, {'pitch': 67, 'length': 4.0, 'start_time': 60.0, 'velocity': 80}, {'pitch': 71, 'length': 4.0, 'start_time': 60.0, 'velocity': 80}, {'pitch': 53, 'length': 4.0, 'start_time': 64.0, 'velocity': 80}, {'pitch': 57, 'length': 4.0, 'start_time': 64.0, 'velocity': 80}, {'pitch': 60, 'length': 4.0, 'start_time': 64.0, 'velocity': 80}, {'pitch': 53, 'length': 4.0, 'start_time': 68.0, 'velocity': 80}, {'pitch': 57, 'length': 4.0, 'start_time': 68.0, 'velocity': 80}, {'pitch': 60, 'length': 4.0, 'start_time': 68.0, 'velocity': 80}, {'pitch': 60, 'length': 4.0, 'start_time': 72.0, 'velocity': 80}, {'pitch': 64, 'length': 4.0, 'start_time': 72.0, 'velocity': 80}, {'pitch': 67, 'length': 4.0, 'start_time': 72.0, 'velocity': 80}, {'pitch': 64, 'length': 4.0, 'start_time': 76.0, 'velocity': 80}, {'pitch': 67, 'length': 4.0, 'start_time': 76.0, 'velocity': 80}, {'pitch': 71, 'length': 4.0, 'start_time': 76.0, 'velocity': 80}, {'pitch': 60, 'length': 4.0, 'start_time': 80.0, 'velocity': 80}, {'pitch': 64, 'length': 4.0, 'start_time': 80.0, 'velocity': 80}, {'pitch': 67, 'length': 4.0, 'start_time': 80.0, 'velocity': 80}]\n"
          ]
        }
      ]
    },
    {
      "cell_type": "code",
      "source": [
        "def convert_group_num_to_chord_num(group_progression):\n",
        "    # group_progression = [0, 2, 0, 1, 2, 0, 2, 2, 0, 1, 0, 2, 0, 0, 1, 2, 0, 0, 0, 2, 0]\n",
        "    chord_group = [\n",
        "        [1, 3, 6],  # 0: Tonic           \n",
        "        [4, 2],  # 1: SubD           \n",
        "        [5],  # 2: Dom           \n",
        "    ]\n",
        "    chord_progression = []\n",
        "    for i in range(len(group_progression)):\n",
        "        state = group_progression[i]\n",
        "        chord_candidate = chord_group[state]\n",
        "        chord_pick = random.choice(chord_candidate)  # random.choice(리스트) 리스트안에서 아이템 1개를 랜덤으로 뽑는다.\n",
        "        chord_progression.append(chord_pick)\n",
        "    return chord_progression"
      ],
      "metadata": {
        "id": "P_27bA71Fo6c"
      },
      "execution_count": 96,
      "outputs": []
    },
    {
      "cell_type": "code",
      "source": [
        "test_input = [0, 2, 0, 1, 2, 0, 2, 2, 0, 1, 0, 2, 0, 0, 1, 2, 0, 0, 0, 2, 0]\n",
        "convert_group_num_to_chord_num(test_input)"
      ],
      "metadata": {
        "colab": {
          "base_uri": "https://localhost:8080/"
        },
        "id": "Oi0QGH9MG1Go",
        "outputId": "63b6527d-9761-45a6-cad5-190af085d5a3"
      },
      "execution_count": 97,
      "outputs": [
        {
          "output_type": "execute_result",
          "data": {
            "text/plain": [
              "[1, 5, 3, 2, 5, 3, 5, 5, 1, 2, 3, 5, 6, 3, 4, 5, 3, 3, 1, 5, 6]"
            ]
          },
          "metadata": {},
          "execution_count": 97
        }
      ]
    },
    {
      "cell_type": "code",
      "source": [
        "# 코드 구성음을 마음대로 펼치는 알고리즘을 구현해봅시다.\n",
        "# 음역대는 C3(60)~F4(77)\n",
        "chord_prog = [C, Am, F, G]\n",
        "write_midi(\n",
        "    [{'pitch': 60, 'start_time':0, 'length': 4., 'velocity': 100}],\n",
        "    100,\n",
        "    'C.mid'    \n",
        ")"
      ],
      "metadata": {
        "id": "-WN3CaKRRnWe"
      },
      "execution_count": 78,
      "outputs": []
    },
    {
      "cell_type": "code",
      "source": [
        "# Chord_prog 안에 있는 4개의 코드(안에있는 노트정보도)가 차례로 출력되게 for문을 짜보세요. (2줄)\n",
        "for i in chord_prog:\n",
        "    print(i)"
      ],
      "metadata": {
        "colab": {
          "base_uri": "https://localhost:8080/"
        },
        "id": "BmCxhrVN9OIK",
        "outputId": "a65c5a50-fb9c-4893-fcf9-2677f3add213"
      },
      "execution_count": 79,
      "outputs": [
        {
          "output_type": "stream",
          "name": "stdout",
          "text": [
            "[{'pitch': 60, 'length': 1.0, 'start_time': 0.0, 'velocity': 80}, {'pitch': 64, 'length': 1.0, 'start_time': 0.0, 'velocity': 80}, {'pitch': 67, 'length': 1.0, 'start_time': 0.0, 'velocity': 80}]\n",
            "[{'pitch': 57, 'length': 1.0, 'start_time': 0.0, 'velocity': 80}, {'pitch': 60, 'length': 1.0, 'start_time': 0.0, 'velocity': 80}, {'pitch': 64, 'length': 1.0, 'start_time': 0.0, 'velocity': 80}]\n",
            "[{'pitch': 53, 'length': 1.0, 'start_time': 0.0, 'velocity': 80}, {'pitch': 57, 'length': 1.0, 'start_time': 0.0, 'velocity': 80}, {'pitch': 60, 'length': 1.0, 'start_time': 0.0, 'velocity': 80}]\n",
            "[{'pitch': 55, 'length': 1.0, 'start_time': 0.0, 'velocity': 80}, {'pitch': 59, 'length': 1.0, 'start_time': 0.0, 'velocity': 80}, {'pitch': 62, 'length': 1.0, 'start_time': 0.0, 'velocity': 80}]\n"
          ]
        }
      ]
    },
    {
      "cell_type": "code",
      "source": [
        "# 0부터 127까지의 pitch midi number 중 모든 C(0~)를 찾아서 리스트에 저장해보세요. (4줄정도 필요)\n",
        "my_list = [] # == my_list = list()\n",
        "# C-2 = 0 \n",
        "# C-1 = 12\n",
        "# C0 = 24\n",
        "# C1 = 36 ......  \n",
        "for i in range(128):\n",
        "    if i % 12 == 0:\n",
        "        my_list.append(i)\n",
        "\n",
        "my_list = []\n",
        "for i in range(0, 128, 12):\n",
        "    my_list.append(i)"
      ],
      "metadata": {
        "id": "WMVtJjBDA3T-"
      },
      "execution_count": 80,
      "outputs": []
    },
    {
      "cell_type": "code",
      "source": [
        "c_maj_scale = [0, 2, 4, 5, 7, 9, 11]\n",
        "c_maj_pitch_candidate = [\n",
        "    [], # c\n",
        "    [], # d\n",
        "    [], # e\n",
        "    [], # f\n",
        "    [], # g\n",
        "    [], # a\n",
        "    []  # b\n",
        "]\n",
        "# 각 스케일음의 59~F4(77) 범위내 모든 옥타브 pitch를 찾아서 위의 c_maj_scale_all_oct 안에 넣어주세요.\n",
        "# ** pitch 탐색 범위는 추후 조정될 수 있습니다.\n",
        "# ** 7번 코드를 복붙할 수도 있지만 for문을 사용해서 효과적으로 작동하도록 해보세요.\n",
        "\n",
        "for i in range(7):\n",
        "    for p in range(59, 77+1):\n",
        "        if p%12 == c_maj_scale[i]: \n",
        "            c_maj_pitch_candidate[i].append(p)\n",
        "c_maj_pitch_candidate\n",
        "\n",
        "# # C\n",
        "# for p in range(59, 77+1):\n",
        "#    if p%12 == 0: \n",
        "#        c_maj_pitch_candidate[0].append(p)\n",
        "# # D\n",
        "# for p in range(59, 77+1):\n",
        "#    if p%12 == 2: \n",
        "#        c_maj_pitch_candidate[1].append(p)\n",
        "\n",
        "# # C\n",
        "# for p in range(60, 77+1, 12):\n",
        "#     c_maj_pitch_candidate[0].append(p)\n",
        "# # D\n",
        "# for p in range(62, 77+1, 12):\n",
        "#     c_maj_pitch_candidate[1].append(p)\n",
        "\n",
        "# ...\n",
        "# # B\n",
        "# for p in range(71, 77+1, 12):\n",
        "#     c_maj_pitch_candidate[1].append(p)\n",
        "\n"
      ],
      "metadata": {
        "colab": {
          "base_uri": "https://localhost:8080/"
        },
        "id": "l3qcBn9tFhXb",
        "outputId": "a801173b-dc67-4f26-b0f0-d1d41bbb675b"
      },
      "execution_count": 81,
      "outputs": [
        {
          "output_type": "execute_result",
          "data": {
            "text/plain": [
              "[[60, 72], [62, 74], [64, 76], [65, 77], [67], [69], [59, 71]]"
            ]
          },
          "metadata": {},
          "execution_count": 81
        }
      ]
    },
    {
      "cell_type": "code",
      "source": [
        "voicing_candidate_C = [\n",
        "    c_maj_pitch_candidate[0],  # [0] 도의 보이싱 후보 음들\n",
        "    c_maj_pitch_candidate[2],  # [1] 미의 보이싱 후보 음들\n",
        "    c_maj_pitch_candidate[4],  # [2] 솔의 보이싱 후보 음들\n",
        "]\n",
        "voicing_candidate_C\n",
        "# 위에 코드 기능이 이해되시는 분은 C, Dm, Em, F, G, Am에 대해서 모두 만들어주세요.\n",
        "voicing_candidate_Dm = [\n",
        "    c_maj_pitch_candidate[1],  # 레의 보이싱 후보 음들\n",
        "    c_maj_pitch_candidate[3],  # 파의 보이싱 후보 음들\n",
        "    c_maj_pitch_candidate[5],  # 라의 보이싱 후보 음들\n",
        "]\n",
        "voicing_candidate_Em = [\n",
        "    c_maj_pitch_candidate[2],  # 미의 보이싱 후보 음들\n",
        "    c_maj_pitch_candidate[4],  # 솔의 보이싱 후보 음들\n",
        "    c_maj_pitch_candidate[6],  # 시의 보이싱 후보 음들\n",
        "]\n",
        "voicing_candidate_F = [\n",
        "    c_maj_pitch_candidate[3],  # 파의 보이싱 후보 음들\n",
        "    c_maj_pitch_candidate[5],  # 라의 보이싱 후보 음들\n",
        "    c_maj_pitch_candidate[0],  # 도의 보이싱 후보 음들\n",
        "]\n",
        "voicing_candidate_G = [\n",
        "    c_maj_pitch_candidate[4],  # 솔의 보이싱 후보 음들\n",
        "    c_maj_pitch_candidate[6],  # 시의 보이싱 후보 음들\n",
        "    c_maj_pitch_candidate[1],  # 레의 보이싱 후보 음들\n",
        "]\n",
        "voicing_candidate_Am = [\n",
        "    c_maj_pitch_candidate[5],  # 라의 보이싱 후보 음들\n",
        "    c_maj_pitch_candidate[0],  # 도의 보이싱 후보 음들\n",
        "    c_maj_pitch_candidate[2],  # 미의 보이싱 후보 음들\n",
        "]\n",
        "print(voicing_candidate_C)\n",
        "print(voicing_candidate_Dm)\n",
        "print(voicing_candidate_Em)\n",
        "print(voicing_candidate_F)\n",
        "print(voicing_candidate_G)\n",
        "print(voicing_candidate_Am)\n"
      ],
      "metadata": {
        "colab": {
          "base_uri": "https://localhost:8080/"
        },
        "id": "ZoJMq0OYTV_T",
        "outputId": "7fb187de-72c6-410c-96e4-d9617b391d5e"
      },
      "execution_count": 82,
      "outputs": [
        {
          "output_type": "stream",
          "name": "stdout",
          "text": [
            "[[60, 72], [64, 76], [67]]\n",
            "[[62, 74], [65, 77], [69]]\n",
            "[[64, 76], [67], [59, 71]]\n",
            "[[65, 77], [69], [60, 72]]\n",
            "[[67], [59, 71], [62, 74]]\n",
            "[[69], [60, 72], [64, 76]]\n"
          ]
        }
      ]
    },
    {
      "cell_type": "code",
      "source": [
        "cmaj_scale_diatonic_chords = [\n",
        "    None, \n",
        "    C,  # [1] I  : C\n",
        "    Dm, # [2] II : Dm\n",
        "    Em, # [3] III: Em\n",
        "    F,  # [4] IV : F\n",
        "    G,  # [5] V  : G\n",
        "    Am  # [6] VI : Am\n",
        "]\n",
        "cmaj_scale_diatonic_chords_vc = [\n",
        "    None,\n",
        "    voicing_candidate_C, # [1] I  : C\n",
        "    voicing_candidate_Dm,# [2] II : Dm\n",
        "    voicing_candidate_Em,# [3] III: Em\n",
        "    voicing_candidate_F, # [4] IV : F\n",
        "    voicing_candidate_G, # [5] V  : G\n",
        "    voicing_candidate_Am,# [6] VI : Am\n",
        "]\n",
        "cmaj_scale_diatonic_chords_vc[1][0][0]\n",
        "\n",
        "chord_prog_num = [1, 6, 4, 5]  # C-Am-F-G\n",
        "# chord_prog_num의 \b각 코드의 보이싱 후보음들 중에서 랜덤으로 선택해서 최종 음을 선택하게 코드를 구성하시오.\n",
        "# 예) \n",
        "# C에서 voicing_candidate_C[0] 은 도의 보이싱 후보 음들\n",
        "# C에서 voicing_candidate_C[1] 은 미의 보이싱 후보 음들\n",
        "# C에서 voicing_candidate_C[2] 은 솔의 보이싱 후보 음들\n",
        "# random.choice(voicing_candidate_C[0])을 하면 도의 후보음들 중에서 랜덤으로 하나를 선택함\n",
        "# 코드 노트를 추가하는 방법은 새로운 딕셔너리를 생성해서 그안에 pitch, length, start_time, velocity를 \n",
        "# 부여하고 최종결과물 리스트에 append 한다. pitch는 랜덤으로 선택한 위의 음을 부여한다.\n",
        "\n",
        "# cmaj_scale_diatonic_chords_vc: Cmaj 스케일의 3화음의 \n",
        "chord_prog_number = [1, 6, 4, 5]\n",
        "voicing_result = []\n",
        "# for i, chord_num in enumerate(chord_prog_number):\n",
        "for i in range(len(chord_prog_number)):\n",
        "    chord_num = chord_prog_number[i]\n",
        "    start_time = i * 4.0 # 4/4박자 기준 1마디는 4.0 \n",
        "    voicing_candidate_group = cmaj_scale_diatonic_chords_vc[chord_num] \n",
        "    for j in range(len(voicing_candidate_group)):\n",
        "        voicing_candidate = voicing_candidate_group[j]\n",
        "        new_note = {}\n",
        "        new_note['pitch'] = random.choice(voicing_candidate)\n",
        "        new_note['length'] = 4.0\n",
        "        new_note['start_time'] = start_time # + random.uniform(-1/16., 1/16.) #   1/16 = 64분음표 길이\n",
        "        new_note['velocity'] = 70 + random.uniform(-10, 10)\n",
        "        voicing_result.append(new_note)\n",
        "write_midi(voicing_result, 120, 'voicing_test.mid')"
      ],
      "metadata": {
        "id": "TbU0mZ-mbuop"
      },
      "execution_count": 83,
      "outputs": []
    },
    {
      "cell_type": "code",
      "source": [
        "def generate_pitch_candidate(scale_list, min_pitch, max_pitch):\n",
        "    pitch_candidate = [[] for _ in range(7)]\n",
        "    for i in range(7):\n",
        "        for p in range(min_pitch, max_pitch+1):\n",
        "            if p%12 == scale_list[i]: \n",
        "                pitch_candidate[i].append(p)\n",
        "    return pitch_candidate"
      ],
      "metadata": {
        "id": "o80Mk7KeJeRF"
      },
      "execution_count": 100,
      "outputs": []
    },
    {
      "cell_type": "code",
      "source": [
        "pitch_candidate = generate_pitch_candidate([0, 2, 4, 5, 7, 9, 11], 55, 80)"
      ],
      "metadata": {
        "id": "8Cup-iYzKVJH"
      },
      "execution_count": 102,
      "outputs": []
    },
    {
      "cell_type": "code",
      "source": [
        "voicig_candidate_group = []\n",
        "for i in range(7):\n",
        "    voicig_candidate_group.append([])\n",
        "    for j in range(3):\n",
        "        voicig_candidate_group[-1].append(pitch_candidate[(i + (j*2)) % 7])\n",
        "voicig_candidate_group"
      ],
      "metadata": {
        "colab": {
          "base_uri": "https://localhost:8080/"
        },
        "id": "zBl_0DJLMQBW",
        "outputId": "69ad601c-3bf5-47f4-c45b-1424bcc31dea"
      },
      "execution_count": 103,
      "outputs": [
        {
          "output_type": "execute_result",
          "data": {
            "text/plain": [
              "[[[60, 72], [64, 76], [55, 67, 79]],\n",
              " [[62, 74], [65, 77], [57, 69]],\n",
              " [[64, 76], [55, 67, 79], [59, 71]],\n",
              " [[65, 77], [57, 69], [60, 72]],\n",
              " [[55, 67, 79], [59, 71], [62, 74]],\n",
              " [[57, 69], [60, 72], [64, 76]],\n",
              " [[59, 71], [62, 74], [65, 77]]]"
            ]
          },
          "metadata": {},
          "execution_count": 103
        }
      ]
    },
    {
      "cell_type": "code",
      "source": [
        "def voicing_chord_progression(chord_num_progression, pitch_candidate):\n",
        "    voicig_candidate_group = [None,]\n",
        "    for i in range(7):\n",
        "        voicig_candidate_group.append([])\n",
        "        for j in range(3):\n",
        "            voicig_candidate_group[-1].append(pitch_candidate[(i + (j*2)) % 7])\n",
        "    voicing_result = []\n",
        "    for i in range(len(chord_num_progression)):\n",
        "        chord_num = chord_num_progression[i]\n",
        "        start_time = i * 4.0 # 4/4박자 기준 1마디는 4.0 \n",
        "        voicing_candidate_group = voicig_candidate_group[chord_num] \n",
        "        for j in range(len(voicing_candidate_group)):\n",
        "            voicing_candidate = voicing_candidate_group[j]\n",
        "            new_note = {}\n",
        "            new_note['pitch'] = random.choice(voicing_candidate)\n",
        "            new_note['length'] = 4.0\n",
        "            new_note['start_time'] = start_time # + random.uniform(-1/16., 1/16.) #   1/16 = 64분음표 길이\n",
        "            new_note['velocity'] = 70 \n",
        "            voicing_result.append(new_note)\n",
        "    return voicing_result "
      ],
      "metadata": {
        "id": "XBHCiJb3V7Kt"
      },
      "execution_count": 105,
      "outputs": []
    },
    {
      "cell_type": "code",
      "source": [
        "# Step 1. 코드그룹 진행 생성\n",
        "chord_group_prog = generate_chord_group_progression(10, 0)\n",
        "# Step 2. 코드그룹 숫자 -> 코드숫자로 변환\n",
        "chord_num_prog = convert_group_num_to_chord_num(chord_group_prog)\n",
        "# Step 3. 보이싱에 사용 가능한 노트집합 생성\n",
        "p_candidate = generate_pitch_candidate([0, 2, 4, 5, 7, 9, 11], 50, 80)\n",
        "# Step 4. 랜덤 코드 보이싱 \n",
        "voicing_result = voicing_chord_progression(chord_num_prog, p_candidate)\n",
        "# step 5. 미디파일로 결과 저장\n",
        "write_midi(voicing_result, 120, 'chord_voicing.mid')"
      ],
      "metadata": {
        "id": "v6Dh5ZltNC9o"
      },
      "execution_count": 106,
      "outputs": []
    },
    {
      "cell_type": "code",
      "source": [
        ""
      ],
      "metadata": {
        "id": "k3_mAYVqOSOp"
      },
      "execution_count": null,
      "outputs": []
    }
  ]
}