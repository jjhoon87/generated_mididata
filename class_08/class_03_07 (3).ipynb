{
  "nbformat": 4,
  "nbformat_minor": 0,
  "metadata": {
    "colab": {
      "name": "class_03_07.ipynb",
      "provenance": [],
      "collapsed_sections": []
    },
    "kernelspec": {
      "name": "python3",
      "display_name": "Python 3"
    },
    "language_info": {
      "name": "python"
    }
  },
  "cells": [
    {
      "cell_type": "markdown",
      "source": [
        "ex# 새 섹션"
      ],
      "metadata": {
        "id": "fgXj6rfQJBVq"
      }
    },
    {
      "cell_type": "code",
      "execution_count": null,
      "metadata": {
        "colab": {
          "base_uri": "https://localhost:8080/"
        },
        "id": "685pyq6BI-2M",
        "outputId": "8b70510e-892c-4cc3-fd1e-74b940c3dee2"
      },
      "outputs": [
        {
          "output_type": "stream",
          "name": "stdout",
          "text": [
            "[]\n"
          ]
        }
      ],
      "source": [
        "ex_list = []\n",
        "print(ex_list)"
      ]
    },
    {
      "cell_type": "code",
      "source": [
        "ex_list.append(1)\n",
        "print(ex_list)"
      ],
      "metadata": {
        "colab": {
          "base_uri": "https://localhost:8080/"
        },
        "id": "hh4PaokQKIjb",
        "outputId": "92adb34f-bf9f-4f22-f9d7-2a7d70d24fd7"
      },
      "execution_count": null,
      "outputs": [
        {
          "output_type": "stream",
          "name": "stdout",
          "text": [
            "[1]\n"
          ]
        }
      ]
    },
    {
      "cell_type": "code",
      "source": [
        "ex_list.append(2)\n",
        "ex_list.append(3)\n",
        "ex_list.append(4)\n",
        "ex_list.append(5)\n",
        "ex_list.append(6)\n",
        "print(ex_list)"
      ],
      "metadata": {
        "colab": {
          "base_uri": "https://localhost:8080/"
        },
        "id": "YReDZ4ZhKNL-",
        "outputId": "1ed6762d-2b69-41b4-d084-857e7cfa6a95"
      },
      "execution_count": null,
      "outputs": [
        {
          "output_type": "stream",
          "name": "stdout",
          "text": [
            "[1, 2, 3, 4, 5, 6]\n"
          ]
        }
      ]
    },
    {
      "cell_type": "code",
      "source": [
        "ex_list.append('Apple')\n",
        "print(ex_list)"
      ],
      "metadata": {
        "colab": {
          "base_uri": "https://localhost:8080/"
        },
        "id": "XV3uGzA2KpTH",
        "outputId": "1df8fb44-a4c8-4bdb-e720-e7f7e257bea4"
      },
      "execution_count": null,
      "outputs": [
        {
          "output_type": "stream",
          "name": "stdout",
          "text": [
            "[1, 2, 3, 4, 5, 6, 'Apple']\n"
          ]
        }
      ]
    },
    {
      "cell_type": "code",
      "source": [
        "ex_list.append([])\n",
        "print(ex_list)"
      ],
      "metadata": {
        "colab": {
          "base_uri": "https://localhost:8080/"
        },
        "id": "pZQRn0M_LdE_",
        "outputId": "01deac30-e85d-4299-a150-36ddd5e028bb"
      },
      "execution_count": null,
      "outputs": [
        {
          "output_type": "stream",
          "name": "stdout",
          "text": [
            "[1, 2, 3, 4, 5, 6, 'Apple', []]\n"
          ]
        }
      ]
    },
    {
      "cell_type": "code",
      "source": [
        "len(ex_list)"
      ],
      "metadata": {
        "colab": {
          "base_uri": "https://localhost:8080/"
        },
        "id": "FDfwMhKULtjG",
        "outputId": "635eeab3-eeec-43b3-b9be-ea881f1b7d95"
      },
      "execution_count": null,
      "outputs": [
        {
          "output_type": "execute_result",
          "data": {
            "text/plain": [
              "8"
            ]
          },
          "metadata": {},
          "execution_count": 9
        }
      ]
    },
    {
      "cell_type": "code",
      "source": [
        "ex_list[0]"
      ],
      "metadata": {
        "colab": {
          "base_uri": "https://localhost:8080/"
        },
        "id": "1LMmNXoiL6Vm",
        "outputId": "273d93a1-cea9-45d1-fa68-be32997ba8d6"
      },
      "execution_count": null,
      "outputs": [
        {
          "output_type": "execute_result",
          "data": {
            "text/plain": [
              "1"
            ]
          },
          "metadata": {},
          "execution_count": 10
        }
      ]
    },
    {
      "cell_type": "code",
      "source": [
        "ex_list[5]"
      ],
      "metadata": {
        "colab": {
          "base_uri": "https://localhost:8080/"
        },
        "id": "KsTAeQ0LMUPD",
        "outputId": "13df307b-8451-4342-80d5-6dc32297f551"
      },
      "execution_count": null,
      "outputs": [
        {
          "output_type": "execute_result",
          "data": {
            "text/plain": [
              "6"
            ]
          },
          "metadata": {},
          "execution_count": 11
        }
      ]
    },
    {
      "cell_type": "code",
      "source": [
        "ex_list[7]"
      ],
      "metadata": {
        "colab": {
          "base_uri": "https://localhost:8080/"
        },
        "id": "pOaJ4Sw4MeQQ",
        "outputId": "37242f67-7700-4412-f880-e5afe7ca935a"
      },
      "execution_count": null,
      "outputs": [
        {
          "output_type": "execute_result",
          "data": {
            "text/plain": [
              "[]"
            ]
          },
          "metadata": {},
          "execution_count": 12
        }
      ]
    },
    {
      "cell_type": "code",
      "source": [
        "ex_list[7].append(0.9994747)\n",
        "ex_list[7].append(100.7777)\n",
        "ex_list\n"
      ],
      "metadata": {
        "colab": {
          "base_uri": "https://localhost:8080/"
        },
        "id": "SUD9P34oMjNE",
        "outputId": "ae8f7d0a-b5f9-4dce-8f39-49686a075441"
      },
      "execution_count": null,
      "outputs": [
        {
          "output_type": "execute_result",
          "data": {
            "text/plain": [
              "[1, 2, 3, 4, 5, 6, 'Apple', [0.9994747, 100.7777]]"
            ]
          },
          "metadata": {},
          "execution_count": 13
        }
      ]
    },
    {
      "cell_type": "code",
      "source": [
        "ex_dict = {}\n",
        "ex_dict['첫번째'] = 1\n",
        "print(ex_dict)"
      ],
      "metadata": {
        "colab": {
          "base_uri": "https://localhost:8080/"
        },
        "id": "5g_-pLRDM_eW",
        "outputId": "3ec0be31-6d0c-4c14-f752-feea9baacdf1"
      },
      "execution_count": null,
      "outputs": [
        {
          "output_type": "stream",
          "name": "stdout",
          "text": [
            "{'첫번째': 1}\n"
          ]
        }
      ]
    },
    {
      "cell_type": "code",
      "source": [
        "ex_dict['딸깍'] = '마우스'\n",
        "ex_dict"
      ],
      "metadata": {
        "colab": {
          "base_uri": "https://localhost:8080/"
        },
        "id": "eZVpk9Z2NnNM",
        "outputId": "4f79f08e-25dd-4e08-d51d-326b49d00fc6"
      },
      "execution_count": null,
      "outputs": [
        {
          "output_type": "execute_result",
          "data": {
            "text/plain": [
              "{'딸깍': '마우스', '첫번째': 1}"
            ]
          },
          "metadata": {},
          "execution_count": 15
        }
      ]
    },
    {
      "cell_type": "code",
      "source": [
        "# 도\n",
        "music_note_01 = {}\n",
        "music_note_01['pitch'] = 60 \n",
        "music_note_01['length'] = 1.\n",
        "music_note_01['velocity'] = 100\n",
        "music_note_01['start_time'] = 0.\n",
        "# 레\n",
        "music_note_02 = {}\n",
        "music_note_02['pitch'] = 62 \n",
        "music_note_02['length'] = 1.\n",
        "music_note_02['velocity'] = 100\n",
        "music_note_02['start_time'] = 1.\n",
        "# 미\n",
        "music_note_03 = {}\n",
        "music_note_03['pitch'] = 64 \n",
        "music_note_03['length'] = 1.\n",
        "music_note_03['velocity'] = 100\n",
        "music_note_03['start_time'] = 2.\n",
        "note_list = [music_note_01, music_note_02, music_note_03]\n",
        "# ------------------------------------------------\n",
        "note_list = [\n",
        "    {'pitch': 60, 'length':1., 'velocity':100, 'start_time': 0.,}, # 도\n",
        "    {'pitch': 62, 'length':1., 'velocity':100, 'start_time': 1.,}, # 레\n",
        "    {'pitch': 64, 'length':1., 'velocity':100, 'start_time': 2.,}, # 미\n",
        "]\n"
      ],
      "metadata": {
        "id": "lim8uO8GN0Po"
      },
      "execution_count": null,
      "outputs": []
    },
    {
      "cell_type": "code",
      "source": [
        "!pip install midiutil"
      ],
      "metadata": {
        "colab": {
          "base_uri": "https://localhost:8080/"
        },
        "id": "HiZ6SMjDj9ID",
        "outputId": "6fba448e-2be2-40db-b0ae-7fe4c3ec1ae3"
      },
      "execution_count": null,
      "outputs": [
        {
          "output_type": "stream",
          "name": "stdout",
          "text": [
            "Looking in indexes: https://pypi.org/simple, https://us-python.pkg.dev/colab-wheels/public/simple/\n",
            "Requirement already satisfied: midiutil in /usr/local/lib/python3.7/dist-packages (1.2.1)\n"
          ]
        }
      ]
    },
    {
      "cell_type": "code",
      "source": [
        "import midiutil\n",
        "def write_midi(seq, bpm, path):\n",
        "    mf = midiutil.MIDIFile(1, file_format=1)\n",
        "    track = 0\n",
        "    channel = 0\n",
        "    mf.addTempo(track, 0, bpm)\n",
        "    # for i, n in enumerate(seq):\n",
        "    for i in range(len(seq)):\n",
        "        n = seq[i]\n",
        "        mf.addNote(\n",
        "            track,\n",
        "            channel,\n",
        "            int(n['pitch']),\n",
        "            n['start_time'],\n",
        "            n['length'],\n",
        "            int(n['velocity'])\n",
        "        )\n",
        "    with open(path, 'wb') as outf:\n",
        "        mf.writeFile(outf)"
      ],
      "metadata": {
        "id": "g2PvuknTPEah"
      },
      "execution_count": null,
      "outputs": []
    },
    {
      "cell_type": "code",
      "source": [
        "track_1 = []\n",
        "track_2 = []\n",
        "\n",
        "note_1 = {}\n",
        "note_1['pitch'] = 60\n",
        "note_1['start_time'] = 0.\n",
        "note_1['length'] = 4.0\n",
        "note_1['velocity'] = 100\n",
        "track_1.append(note_1)\n",
        "\n",
        "note_2 = {}\n",
        "note_2['pitch'] = 72\n",
        "note_2['start_time'] = 4.\n",
        "note_2['length'] = 4.0\n",
        "note_2['velocity'] = 100\n",
        "track_2.append(note_2)\n",
        "\n",
        "\n",
        "mf = midiutil.MIDIFile(2)\n",
        "# for i, n in enumerate(seq):\n",
        "mf.addNote(\n",
        "    0,\n",
        "    0,\n",
        "    int(note_1['pitch']),\n",
        "    note_1['start_time'],\n",
        "    note_1['length'],\n",
        "    int(note_1['velocity'])\n",
        ")\n",
        "mf.addNote(\n",
        "    1,\n",
        "    0,\n",
        "    int(note_2['pitch']),\n",
        "    note_2['start_time'],\n",
        "    note_2['length'],\n",
        "    int(note_2['velocity'])\n",
        ")\n",
        "with open('multi_track_test.mid', 'wb') as outf:\n",
        "    mf.writeFile(outf)\n"
      ],
      "metadata": {
        "id": "9PBuUiIpb5dc"
      },
      "execution_count": null,
      "outputs": []
    },
    {
      "cell_type": "code",
      "source": [
        "write_midi(seq=note_list, bpm=90, path='output.mid')"
      ],
      "metadata": {
        "id": "c9bC2NJ3jsr5"
      },
      "execution_count": null,
      "outputs": []
    },
    {
      "cell_type": "code",
      "source": [
        "# C - G - Am - Em\n",
        "\n",
        "C = [\n",
        "     {'pitch': 60, 'length': 4.0, 'start_time': 0., 'velocity': 80},\n",
        "     {'pitch': 64, 'length': 4.0, 'start_time': 0., 'velocity': 80},\n",
        "     {'pitch': 67, 'length': 4.0, 'start_time': 0., 'velocity': 80},\n",
        "]\n",
        "G = []\n",
        "Am = []\n",
        "Em = []\n",
        "chord_list = C + G + Am + Em"
      ],
      "metadata": {
        "id": "wGyZDwM_xI12"
      },
      "execution_count": null,
      "outputs": []
    },
    {
      "cell_type": "code",
      "source": [
        "ex_list = [1,2,3]\n",
        "ex_list2 = [4,5,6]\n",
        "\n",
        "print(ex_list + ex_list2)\n"
      ],
      "metadata": {
        "colab": {
          "base_uri": "https://localhost:8080/"
        },
        "id": "wBWLAnRKx3ew",
        "outputId": "3ed8ba3b-b2c8-4355-b0a5-23943dd9587e"
      },
      "execution_count": null,
      "outputs": [
        {
          "output_type": "stream",
          "name": "stdout",
          "text": [
            "[1, 2, 3, 4, 5, 6]\n"
          ]
        }
      ]
    },
    {
      "cell_type": "code",
      "source": [
        "ex_list3 = [1, 2, 3, 4]\n",
        "print(ex_list3[3])\n",
        "ex_list3[3] = 100\n",
        "C4 = {\n",
        "    'pitch': 60\n",
        "}\n",
        "C4['pitch'] = 72\n",
        "print(C4)"
      ],
      "metadata": {
        "colab": {
          "base_uri": "https://localhost:8080/"
        },
        "id": "vq3dN68ezn1M",
        "outputId": "4ebea202-7d56-49a3-ade3-bdf362553293"
      },
      "execution_count": null,
      "outputs": [
        {
          "output_type": "stream",
          "name": "stdout",
          "text": [
            "4\n",
            "{'pitch': 72}\n"
          ]
        }
      ]
    },
    {
      "cell_type": "code",
      "source": [
        "dim_1_list = [1, 2, 3, 4] # 1차원리스트"
      ],
      "metadata": {
        "id": "E8SzWt3v7874"
      },
      "execution_count": null,
      "outputs": []
    },
    {
      "cell_type": "code",
      "source": [
        "#.  1 2 3\n",
        "#.  4 5 6\n",
        "#.  7 8 9\n",
        "mat_01 = [\n",
        "  [1, 2, 3],\n",
        "  [4, 5, 6],\n",
        "  [7, 8, 9],\n",
        "]\n",
        "for m in mat_01:\n",
        "  print(m)\n",
        "print(mat_01[1][2])\n",
        "mat_01[1][2] = -6\n",
        "\n",
        "for m in mat_01:\n",
        "  print(m)"
      ],
      "metadata": {
        "colab": {
          "base_uri": "https://localhost:8080/"
        },
        "id": "KtgMTNSD78Dp",
        "outputId": "cd5a1850-dbe9-42b0-f13f-98ee9fce643c"
      },
      "execution_count": null,
      "outputs": [
        {
          "output_type": "stream",
          "name": "stdout",
          "text": [
            "[1, 2, 3]\n",
            "[4, 5, 6]\n",
            "[7, 8, 9]\n",
            "6\n",
            "[1, 2, 3]\n",
            "[4, 5, -6]\n",
            "[7, 8, 9]\n"
          ]
        }
      ]
    },
    {
      "cell_type": "markdown",
      "source": [
        ""
      ],
      "metadata": {
        "id": "SC9duS6noJD7"
      }
    },
    {
      "cell_type": "code",
      "source": [
        "C = [\n",
        "     {'pitch': 60,   'length': 1.0, 'start_time': 0., 'velocity': 80},\n",
        "     {'pitch': 60+4, 'length': 1.0, 'start_time': 0., 'velocity': 80},\n",
        "     {'pitch': 60+7, 'length': 1.0, 'start_time': 0., 'velocity': 80},\n",
        "]\n",
        "Dm = [\n",
        "     {'pitch': 62,   'length': 1.0, 'start_time': 0., 'velocity': 80},\n",
        "     {'pitch': 62+3, 'length': 1.0, 'start_time': 0., 'velocity': 80},\n",
        "     {'pitch': 62+7, 'length': 1.0, 'start_time': 0., 'velocity': 80},\n",
        "]\n",
        "Em = [\n",
        "     {'pitch': 64,   'length': 1.0, 'start_time': 0., 'velocity': 80},\n",
        "     {'pitch': 64+3, 'length': 1.0, 'start_time': 0., 'velocity': 80},\n",
        "     {'pitch': 64+7, 'length': 1.0, 'start_time': 0., 'velocity': 80},\n",
        "]\n",
        "F = [\n",
        "     {'pitch': 65   - 12, 'length': 1.0, 'start_time': 0., 'velocity': 80},\n",
        "     {'pitch': 65+4 - 12, 'length': 1.0, 'start_time': 0., 'velocity': 80},\n",
        "     {'pitch': 65+7 - 12, 'length': 1.0, 'start_time': 0., 'velocity': 80},\n",
        "]\n",
        "G = [\n",
        "     {'pitch': 67   - 12, 'length': 1.0, 'start_time': 0., 'velocity': 80},\n",
        "     {'pitch': 67+4 - 12, 'length': 1.0, 'start_time': 0., 'velocity': 80},\n",
        "     {'pitch': 67+7 - 12, 'length': 1.0, 'start_time': 0., 'velocity': 80},\n",
        "]\n",
        "Am = [\n",
        "     {'pitch': 69   - 12, 'length': 1.0, 'start_time': 0., 'velocity': 80},\n",
        "     {'pitch': 69+3 - 12, 'length': 1.0, 'start_time': 0., 'velocity': 80},\n",
        "     {'pitch': 69+7 - 12, 'length': 1.0, 'start_time': 0., 'velocity': 80},\n",
        "]\n",
        "# Bdim = []\n",
        "chord_group = [\n",
        "    [C, Em, Am],  # 0: Tonic           \n",
        "    [F, Dm],  # 1: SubD           \n",
        "    [G],  # 2: Dom           \n",
        "]"
      ],
      "metadata": {
        "id": "y1zRlBUfH-Ja"
      },
      "execution_count": null,
      "outputs": []
    },
    {
      "cell_type": "code",
      "source": [
        "import numpy\n",
        "a = ['a', 'b', 'c']\n",
        "p = [0.7, 0.2, 0.1]\n",
        "print(numpy.random.choice(a, 1, p=p))"
      ],
      "metadata": {
        "colab": {
          "base_uri": "https://localhost:8080/"
        },
        "id": "eszHuzdSIuXy",
        "outputId": "60655c29-fd10-418e-ee46-16bd18fb3c10"
      },
      "execution_count": null,
      "outputs": [
        {
          "output_type": "stream",
          "name": "stdout",
          "text": [
            "['c']\n"
          ]
        }
      ]
    },
    {
      "cell_type": "code",
      "source": [
        "# 0: Tonic Group (1, 3, 6)\n",
        "# 1: SubDominant Group (2, 4)\n",
        "# 2: Dominant Group (5, *7)\n",
        "mm = [\n",
        "  [0.25, 0.25, 0.50,], # 0 : 토닉\n",
        "  [0.30, 0.20, 0.50,], # 1 : 섭도\n",
        "  [0.70, 0.00, 0.30,], # 2 : 도미\n",
        "]\n",
        "start = 0. # Tonic "
      ],
      "metadata": {
        "id": "jRa3ZjxzBmTB"
      },
      "execution_count": null,
      "outputs": []
    },
    {
      "cell_type": "code",
      "source": [
        "import numpy\n",
        "num_of_chords = 20\n",
        "state_progression = [0]\n",
        "for _ in range(num_of_chords):\n",
        "    current_state = state_progression[-1]\n",
        "    probs = mm[current_state]\n",
        "    next_state = numpy.random.choice([0, 1, 2], \n",
        "                                     1, \n",
        "                                     p=probs)[0]\n",
        "    state_progression.append(next_state)\n",
        "state_progression"
      ],
      "metadata": {
        "colab": {
          "base_uri": "https://localhost:8080/"
        },
        "id": "JQW0qOj4IG4e",
        "outputId": "5b84672d-20e0-48e8-dca4-8c61e27c42ae"
      },
      "execution_count": null,
      "outputs": [
        {
          "output_type": "execute_result",
          "data": {
            "text/plain": [
              "[0, 0, 1, 2, 0, 2, 0, 2, 0, 0, 2, 0, 2, 0, 2, 0, 0, 1, 2, 2, 0]"
            ]
          },
          "metadata": {},
          "execution_count": 29
        }
      ]
    },
    {
      "cell_type": "code",
      "source": [
        "def generate_chord_group_progression(step, start_state):\n",
        "    mm = [\n",
        "        [0.25, 0.25, 0.50,], # 0 : 토닉\n",
        "        [0.30, 0.20, 0.50,], # 1 : 섭도\n",
        "        [0.70, 0.00, 0.30,], # 2 : 도미\n",
        "    ]\n",
        "    state_progression = [start_state]\n",
        "    for _ in range(step):\n",
        "        current_state = state_progression[-1]\n",
        "        probs = mm[current_state]\n",
        "        next_state = numpy.random.choice([0, 1, 2], \n",
        "                                        1, \n",
        "                                        p=probs)[0]\n",
        "        state_progression.append(next_state)\n",
        "    return state_progression"
      ],
      "metadata": {
        "id": "d5XLZb5WD8wP"
      },
      "execution_count": null,
      "outputs": []
    },
    {
      "cell_type": "markdown",
      "source": [
        ""
      ],
      "metadata": {
        "id": "jkHaheC9FNtr"
      }
    },
    {
      "cell_type": "code",
      "source": [
        "generate_chord_group_progression(10, 0)"
      ],
      "metadata": {
        "colab": {
          "base_uri": "https://localhost:8080/"
        },
        "id": "C3YjeneLFG3z",
        "outputId": "88718c2b-563f-4f3f-96bf-9a3e15033a13"
      },
      "execution_count": null,
      "outputs": [
        {
          "output_type": "execute_result",
          "data": {
            "text/plain": [
              "[0, 1, 2, 0, 2, 0, 0, 1, 0, 2, 0]"
            ]
          },
          "metadata": {},
          "execution_count": 31
        }
      ]
    },
    {
      "cell_type": "code",
      "source": [
        "test_list = [4, 6, 8, 4, 5]\n",
        "print(test_list[-1])\n",
        "print(test_list[len(test_list) - 1])"
      ],
      "metadata": {
        "colab": {
          "base_uri": "https://localhost:8080/"
        },
        "id": "Y6tWka2FiMR0",
        "outputId": "7fabc392-e696-4cd8-93ec-58dfff515488"
      },
      "execution_count": null,
      "outputs": [
        {
          "output_type": "stream",
          "name": "stdout",
          "text": [
            "5\n",
            "5\n"
          ]
        }
      ]
    },
    {
      "cell_type": "code",
      "source": [
        "a = ['a', 'b', 'c']\n",
        "for i in a:\n",
        "  print(i)"
      ],
      "metadata": {
        "colab": {
          "base_uri": "https://localhost:8080/"
        },
        "id": "JihnlQwpT-ed",
        "outputId": "c3061649-34d9-415f-f868-899212ec4d34"
      },
      "execution_count": null,
      "outputs": [
        {
          "output_type": "stream",
          "name": "stdout",
          "text": [
            "a\n",
            "b\n",
            "c\n"
          ]
        }
      ]
    },
    {
      "cell_type": "code",
      "source": [
        "for i in range(len(a)):\n",
        "  j = a[i]\n",
        "  print(i, j)"
      ],
      "metadata": {
        "colab": {
          "base_uri": "https://localhost:8080/"
        },
        "id": "wLQtYoqHUJAI",
        "outputId": "d531d58e-3d52-467f-c7f4-da43e2b403c8"
      },
      "execution_count": null,
      "outputs": [
        {
          "output_type": "stream",
          "name": "stdout",
          "text": [
            "0 a\n",
            "1 b\n",
            "2 c\n"
          ]
        }
      ]
    },
    {
      "cell_type": "code",
      "source": [
        "a = ['a', 'b', 'c']\n",
        "for i, j in enumerate(a):\n",
        "  print(i, j)"
      ],
      "metadata": {
        "colab": {
          "base_uri": "https://localhost:8080/"
        },
        "id": "jrvW8qlhUV5B",
        "outputId": "f0c74235-c5cc-40d3-be0b-1ef76deab843"
      },
      "execution_count": null,
      "outputs": [
        {
          "output_type": "stream",
          "name": "stdout",
          "text": [
            "0 a\n",
            "1 b\n",
            "2 c\n"
          ]
        }
      ]
    },
    {
      "cell_type": "code",
      "source": [
        "import random\n",
        "chord_group = [\n",
        "    [C, Em, Am],  # 0: Tonic           \n",
        "    [F, Dm],  # 1: SubD           \n",
        "    [G],  # 2: Dom           \n",
        "]\n",
        "chord_progression = []\n",
        "# [0, 2, 0, 1, 2, 0, 2, 2, 0, 1, 0, 2, 0, 0, 1, 2, 0, 0, 0, 2, 0]\n",
        "# for i, state in enumerate(state_progression):\n",
        "for i in range(len(state_progression)):\n",
        "  state = state_progression[i]\n",
        "  chord_candidate = chord_group[state]\n",
        "  chord_pick = random.choice(chord_candidate)  # random.choice(리스트) 리스트안에서 아이템 1개를 랜덤으로 뽑는다.\n",
        "  start_time = i * 4.0\n",
        "  for chord_note in chord_pick:\n",
        "    note_copy = chord_note.copy()\n",
        "    note_copy['start_time'] = start_time\n",
        "    note_copy['length'] = 4.0\n",
        "    chord_progression.append(note_copy)\n",
        "print(chord_progression)\n",
        "  \n",
        "write_midi(chord_progression, 120, 'chord_prog.mid')"
      ],
      "metadata": {
        "colab": {
          "base_uri": "https://localhost:8080/"
        },
        "id": "FFav4bYtLelK",
        "outputId": "3cb75f78-4540-4915-c321-91e6d16ac134"
      },
      "execution_count": null,
      "outputs": [
        {
          "output_type": "stream",
          "name": "stdout",
          "text": [
            "[{'pitch': 60, 'length': 4.0, 'start_time': 0.0, 'velocity': 80}, {'pitch': 64, 'length': 4.0, 'start_time': 0.0, 'velocity': 80}, {'pitch': 67, 'length': 4.0, 'start_time': 0.0, 'velocity': 80}, {'pitch': 64, 'length': 4.0, 'start_time': 4.0, 'velocity': 80}, {'pitch': 67, 'length': 4.0, 'start_time': 4.0, 'velocity': 80}, {'pitch': 71, 'length': 4.0, 'start_time': 4.0, 'velocity': 80}, {'pitch': 62, 'length': 4.0, 'start_time': 8.0, 'velocity': 80}, {'pitch': 65, 'length': 4.0, 'start_time': 8.0, 'velocity': 80}, {'pitch': 69, 'length': 4.0, 'start_time': 8.0, 'velocity': 80}, {'pitch': 55, 'length': 4.0, 'start_time': 12.0, 'velocity': 80}, {'pitch': 59, 'length': 4.0, 'start_time': 12.0, 'velocity': 80}, {'pitch': 62, 'length': 4.0, 'start_time': 12.0, 'velocity': 80}, {'pitch': 64, 'length': 4.0, 'start_time': 16.0, 'velocity': 80}, {'pitch': 67, 'length': 4.0, 'start_time': 16.0, 'velocity': 80}, {'pitch': 71, 'length': 4.0, 'start_time': 16.0, 'velocity': 80}, {'pitch': 55, 'length': 4.0, 'start_time': 20.0, 'velocity': 80}, {'pitch': 59, 'length': 4.0, 'start_time': 20.0, 'velocity': 80}, {'pitch': 62, 'length': 4.0, 'start_time': 20.0, 'velocity': 80}, {'pitch': 60, 'length': 4.0, 'start_time': 24.0, 'velocity': 80}, {'pitch': 64, 'length': 4.0, 'start_time': 24.0, 'velocity': 80}, {'pitch': 67, 'length': 4.0, 'start_time': 24.0, 'velocity': 80}, {'pitch': 55, 'length': 4.0, 'start_time': 28.0, 'velocity': 80}, {'pitch': 59, 'length': 4.0, 'start_time': 28.0, 'velocity': 80}, {'pitch': 62, 'length': 4.0, 'start_time': 28.0, 'velocity': 80}, {'pitch': 57, 'length': 4.0, 'start_time': 32.0, 'velocity': 80}, {'pitch': 60, 'length': 4.0, 'start_time': 32.0, 'velocity': 80}, {'pitch': 64, 'length': 4.0, 'start_time': 32.0, 'velocity': 80}, {'pitch': 64, 'length': 4.0, 'start_time': 36.0, 'velocity': 80}, {'pitch': 67, 'length': 4.0, 'start_time': 36.0, 'velocity': 80}, {'pitch': 71, 'length': 4.0, 'start_time': 36.0, 'velocity': 80}, {'pitch': 55, 'length': 4.0, 'start_time': 40.0, 'velocity': 80}, {'pitch': 59, 'length': 4.0, 'start_time': 40.0, 'velocity': 80}, {'pitch': 62, 'length': 4.0, 'start_time': 40.0, 'velocity': 80}, {'pitch': 64, 'length': 4.0, 'start_time': 44.0, 'velocity': 80}, {'pitch': 67, 'length': 4.0, 'start_time': 44.0, 'velocity': 80}, {'pitch': 71, 'length': 4.0, 'start_time': 44.0, 'velocity': 80}, {'pitch': 55, 'length': 4.0, 'start_time': 48.0, 'velocity': 80}, {'pitch': 59, 'length': 4.0, 'start_time': 48.0, 'velocity': 80}, {'pitch': 62, 'length': 4.0, 'start_time': 48.0, 'velocity': 80}, {'pitch': 64, 'length': 4.0, 'start_time': 52.0, 'velocity': 80}, {'pitch': 67, 'length': 4.0, 'start_time': 52.0, 'velocity': 80}, {'pitch': 71, 'length': 4.0, 'start_time': 52.0, 'velocity': 80}, {'pitch': 55, 'length': 4.0, 'start_time': 56.0, 'velocity': 80}, {'pitch': 59, 'length': 4.0, 'start_time': 56.0, 'velocity': 80}, {'pitch': 62, 'length': 4.0, 'start_time': 56.0, 'velocity': 80}, {'pitch': 60, 'length': 4.0, 'start_time': 60.0, 'velocity': 80}, {'pitch': 64, 'length': 4.0, 'start_time': 60.0, 'velocity': 80}, {'pitch': 67, 'length': 4.0, 'start_time': 60.0, 'velocity': 80}, {'pitch': 57, 'length': 4.0, 'start_time': 64.0, 'velocity': 80}, {'pitch': 60, 'length': 4.0, 'start_time': 64.0, 'velocity': 80}, {'pitch': 64, 'length': 4.0, 'start_time': 64.0, 'velocity': 80}, {'pitch': 62, 'length': 4.0, 'start_time': 68.0, 'velocity': 80}, {'pitch': 65, 'length': 4.0, 'start_time': 68.0, 'velocity': 80}, {'pitch': 69, 'length': 4.0, 'start_time': 68.0, 'velocity': 80}, {'pitch': 55, 'length': 4.0, 'start_time': 72.0, 'velocity': 80}, {'pitch': 59, 'length': 4.0, 'start_time': 72.0, 'velocity': 80}, {'pitch': 62, 'length': 4.0, 'start_time': 72.0, 'velocity': 80}, {'pitch': 55, 'length': 4.0, 'start_time': 76.0, 'velocity': 80}, {'pitch': 59, 'length': 4.0, 'start_time': 76.0, 'velocity': 80}, {'pitch': 62, 'length': 4.0, 'start_time': 76.0, 'velocity': 80}, {'pitch': 57, 'length': 4.0, 'start_time': 80.0, 'velocity': 80}, {'pitch': 60, 'length': 4.0, 'start_time': 80.0, 'velocity': 80}, {'pitch': 64, 'length': 4.0, 'start_time': 80.0, 'velocity': 80}]\n"
          ]
        }
      ]
    },
    {
      "cell_type": "code",
      "source": [
        "def convert_group_num_to_chord_num(group_progression):\n",
        "    # group_progression = [0, 2, 0, 1, 2, 0, 2, 2, 0, 1, 0, 2, 0, 0, 1, 2, 0, 0, 0, 2, 0]\n",
        "    chord_group = [\n",
        "        [1, 3, 6],  # 0: Tonic           \n",
        "        [4, 2],  # 1: SubD           \n",
        "        [5],  # 2: Dom           \n",
        "    ]\n",
        "    chord_progression = []\n",
        "    for i in range(len(group_progression)):\n",
        "        state = group_progression[i]\n",
        "        chord_candidate = chord_group[state]\n",
        "        chord_pick = random.choice(chord_candidate)  # random.choice(리스트) 리스트안에서 아이템 1개를 랜덤으로 뽑는다.\n",
        "        chord_progression.append(chord_pick)\n",
        "    return chord_progression"
      ],
      "metadata": {
        "id": "P_27bA71Fo6c"
      },
      "execution_count": null,
      "outputs": []
    },
    {
      "cell_type": "code",
      "source": [
        "test_input = [0, 2, 0, 1, 2, 0, 2, 2, 0, 1, 0, 2, 0, 0, 1, 2, 0, 0, 0, 2, 0]\n",
        "convert_group_num_to_chord_num(test_input)"
      ],
      "metadata": {
        "colab": {
          "base_uri": "https://localhost:8080/"
        },
        "id": "Oi0QGH9MG1Go",
        "outputId": "c0b85a16-00ac-4883-c75b-95344110f853"
      },
      "execution_count": null,
      "outputs": [
        {
          "output_type": "execute_result",
          "data": {
            "text/plain": [
              "[3, 5, 1, 2, 5, 3, 5, 5, 3, 4, 3, 5, 6, 3, 2, 5, 1, 1, 6, 5, 3]"
            ]
          },
          "metadata": {},
          "execution_count": 38
        }
      ]
    },
    {
      "cell_type": "code",
      "source": [
        "# 코드 구성음을 마음대로 펼치는 알고리즘을 구현해봅시다.\n",
        "# 음역대는 C3(60)~F4(77)\n",
        "chord_prog = [C, Am, F, G]\n",
        "write_midi(\n",
        "    [{'pitch': 60, 'start_time':0, 'length': 4., 'velocity': 100}],\n",
        "    100,\n",
        "    'C.mid'    \n",
        ")"
      ],
      "metadata": {
        "id": "-WN3CaKRRnWe"
      },
      "execution_count": null,
      "outputs": []
    },
    {
      "cell_type": "code",
      "source": [
        "# Chord_prog 안에 있는 4개의 코드(안에있는 노트정보도)가 차례로 출력되게 for문을 짜보세요. (2줄)\n",
        "for i in chord_prog:\n",
        "    print(i)"
      ],
      "metadata": {
        "colab": {
          "base_uri": "https://localhost:8080/"
        },
        "id": "BmCxhrVN9OIK",
        "outputId": "172dbf75-a076-43b5-841a-5dc82e304637"
      },
      "execution_count": null,
      "outputs": [
        {
          "output_type": "stream",
          "name": "stdout",
          "text": [
            "[{'pitch': 60, 'length': 1.0, 'start_time': 0.0, 'velocity': 80}, {'pitch': 64, 'length': 1.0, 'start_time': 0.0, 'velocity': 80}, {'pitch': 67, 'length': 1.0, 'start_time': 0.0, 'velocity': 80}]\n",
            "[{'pitch': 57, 'length': 1.0, 'start_time': 0.0, 'velocity': 80}, {'pitch': 60, 'length': 1.0, 'start_time': 0.0, 'velocity': 80}, {'pitch': 64, 'length': 1.0, 'start_time': 0.0, 'velocity': 80}]\n",
            "[{'pitch': 53, 'length': 1.0, 'start_time': 0.0, 'velocity': 80}, {'pitch': 57, 'length': 1.0, 'start_time': 0.0, 'velocity': 80}, {'pitch': 60, 'length': 1.0, 'start_time': 0.0, 'velocity': 80}]\n",
            "[{'pitch': 55, 'length': 1.0, 'start_time': 0.0, 'velocity': 80}, {'pitch': 59, 'length': 1.0, 'start_time': 0.0, 'velocity': 80}, {'pitch': 62, 'length': 1.0, 'start_time': 0.0, 'velocity': 80}]\n"
          ]
        }
      ]
    },
    {
      "cell_type": "code",
      "source": [
        "# 0부터 127까지의 pitch midi number 중 모든 C(0~)를 찾아서 리스트에 저장해보세요. (4줄정도 필요)\n",
        "my_list = [] # == my_list = list()\n",
        "# C-2 = 0 \n",
        "# C-1 = 12\n",
        "# C0 = 24\n",
        "# C1 = 36 ......  \n",
        "for i in range(128):\n",
        "    if i % 12 == 0:\n",
        "        my_list.append(i)\n",
        "\n",
        "my_list = []\n",
        "for i in range(0, 128, 12):\n",
        "    my_list.append(i)"
      ],
      "metadata": {
        "id": "WMVtJjBDA3T-"
      },
      "execution_count": null,
      "outputs": []
    },
    {
      "cell_type": "code",
      "source": [
        "c_maj_scale = [0, 2, 4, 5, 7, 9, 11]\n",
        "c_maj_pitch_candidate = [\n",
        "    [], # c\n",
        "    [], # d\n",
        "    [], # e\n",
        "    [], # f\n",
        "    [], # g\n",
        "    [], # a\n",
        "    []  # b\n",
        "]\n",
        "# 각 스케일음의 59~F4(77) 범위내 모든 옥타브 pitch를 찾아서 위의 c_maj_scale_all_oct 안에 넣어주세요.\n",
        "# ** pitch 탐색 범위는 추후 조정될 수 있습니다.\n",
        "# ** 7번 코드를 복붙할 수도 있지만 for문을 사용해서 효과적으로 작동하도록 해보세요.\n",
        "min_pitch = 59\n",
        "max_pitch = 77\n",
        "for i in range(7):\n",
        "    for p in range(min_pitch, max_pitch+1):\n",
        "        if p%12 == c_maj_scale[i]: \n",
        "            c_maj_pitch_candidate[i].append(p)\n",
        "c_maj_pitch_candidate\n",
        "\n",
        "# # C\n",
        "# for p in range(59, 77+1):\n",
        "#    if p%12 == 0: \n",
        "#        c_maj_pitch_candidate[0].append(p)\n",
        "# # D\n",
        "# for p in range(59, 77+1):\n",
        "#    if p%12 == 2: \n",
        "#        c_maj_pitch_candidate[1].append(p)\n",
        "\n",
        "# # C\n",
        "# for p in range(60, 77+1, 12):\n",
        "#     c_maj_pitch_candidate[0].append(p)\n",
        "# # D\n",
        "# for p in range(62, 77+1, 12):\n",
        "#     c_maj_pitch_candidate[1].append(p)\n",
        "\n",
        "# ...\n",
        "# # B\n",
        "# for p in range(71, 77+1, 12):\n",
        "#     c_maj_pitch_candidate[1].append(p)\n",
        "\n"
      ],
      "metadata": {
        "colab": {
          "base_uri": "https://localhost:8080/"
        },
        "id": "l3qcBn9tFhXb",
        "outputId": "43ce0433-a891-43da-9a9a-9a5df76dee70"
      },
      "execution_count": null,
      "outputs": [
        {
          "output_type": "execute_result",
          "data": {
            "text/plain": [
              "[[60, 72], [62, 74], [64, 76], [65, 77], [67], [69], [59, 71]]"
            ]
          },
          "metadata": {},
          "execution_count": 42
        }
      ]
    },
    {
      "cell_type": "code",
      "source": [
        "voicing_candidate_C = [\n",
        "    c_maj_pitch_candidate[0],  # [0] 도의 보이싱 후보 음들\n",
        "    c_maj_pitch_candidate[2],  # [1] 미의 보이싱 후보 음들\n",
        "    c_maj_pitch_candidate[4],  # [2] 솔의 보이싱 후보 음들\n",
        "]\n",
        "voicing_candidate_C\n",
        "# 위에 코드 기능이 이해되시는 분은 C, Dm, Em, F, G, Am에 대해서 모두 만들어주세요.\n",
        "voicing_candidate_Dm = [\n",
        "    c_maj_pitch_candidate[1],  # 레의 보이싱 후보 음들\n",
        "    c_maj_pitch_candidate[3],  # 파의 보이싱 후보 음들\n",
        "    c_maj_pitch_candidate[5],  # 라의 보이싱 후보 음들\n",
        "]\n",
        "voicing_candidate_Em = [\n",
        "    c_maj_pitch_candidate[2],  # 미의 보이싱 후보 음들\n",
        "    c_maj_pitch_candidate[4],  # 솔의 보이싱 후보 음들\n",
        "    c_maj_pitch_candidate[6],  # 시의 보이싱 후보 음들\n",
        "]\n",
        "voicing_candidate_F = [\n",
        "    c_maj_pitch_candidate[3],  # 파의 보이싱 후보 음들\n",
        "    c_maj_pitch_candidate[5],  # 라의 보이싱 후보 음들\n",
        "    c_maj_pitch_candidate[0],  # 도의 보이싱 후보 음들\n",
        "]\n",
        "voicing_candidate_G = [\n",
        "    c_maj_pitch_candidate[4],  # 솔의 보이싱 후보 음들\n",
        "    c_maj_pitch_candidate[6],  # 시의 보이싱 후보 음들\n",
        "    c_maj_pitch_candidate[1],  # 레의 보이싱 후보 음들\n",
        "]\n",
        "voicing_candidate_Am = [\n",
        "    c_maj_pitch_candidate[5],  # 라의 보이싱 후보 음들\n",
        "    c_maj_pitch_candidate[0],  # 도의 보이싱 후보 음들\n",
        "    c_maj_pitch_candidate[2],  # 미의 보이싱 후보 음들\n",
        "]\n",
        "print(voicing_candidate_C)\n",
        "print(voicing_candidate_Dm)\n",
        "print(voicing_candidate_Em)\n",
        "print(voicing_candidate_F)\n",
        "print(voicing_candidate_G)\n",
        "print(voicing_candidate_Am)\n"
      ],
      "metadata": {
        "colab": {
          "base_uri": "https://localhost:8080/"
        },
        "id": "ZoJMq0OYTV_T",
        "outputId": "c12a335e-d1dc-4c92-9211-f0f70a0f40b8"
      },
      "execution_count": null,
      "outputs": [
        {
          "output_type": "stream",
          "name": "stdout",
          "text": [
            "[[60, 72], [64, 76], [67]]\n",
            "[[62, 74], [65, 77], [69]]\n",
            "[[64, 76], [67], [59, 71]]\n",
            "[[65, 77], [69], [60, 72]]\n",
            "[[67], [59, 71], [62, 74]]\n",
            "[[69], [60, 72], [64, 76]]\n"
          ]
        }
      ]
    },
    {
      "cell_type": "code",
      "source": [
        "cmaj_scale_diatonic_chords = [\n",
        "    None, \n",
        "    C,  # [1] I  : C\n",
        "    Dm, # [2] II : Dm\n",
        "    Em, # [3] III: Em\n",
        "    F,  # [4] IV : F\n",
        "    G,  # [5] V  : G\n",
        "    Am  # [6] VI : Am\n",
        "]\n",
        "cmaj_scale_diatonic_chords_vc = [\n",
        "    None,\n",
        "    voicing_candidate_C, # [1] I  : C\n",
        "    voicing_candidate_Dm,# [2] II : Dm\n",
        "    voicing_candidate_Em,# [3] III: Em\n",
        "    voicing_candidate_F, # [4] IV : F\n",
        "    voicing_candidate_G, # [5] V  : G\n",
        "    voicing_candidate_Am,# [6] VI : Am\n",
        "]\n",
        "cmaj_scale_diatonic_chords_vc[1][0][0]\n",
        "\n",
        "chord_prog_num = [1, 6, 4, 5]  # C-Am-F-G\n",
        "# chord_prog_num의 \b각 코드의 보이싱 후보음들 중에서 랜덤으로 선택해서 최종 음을 선택하게 코드를 구성하시오.\n",
        "# 예) \n",
        "# C에서 voicing_candidate_C[0] 은 도의 보이싱 후보 음들\n",
        "# C에서 voicing_candidate_C[1] 은 미의 보이싱 후보 음들\n",
        "# C에서 voicing_candidate_C[2] 은 솔의 보이싱 후보 음들\n",
        "# random.choice(voicing_candidate_C[0])을 하면 도의 후보음들 중에서 랜덤으로 하나를 선택함\n",
        "# 코드 노트를 추가하는 방법은 새로운 딕셔너리를 생성해서 그안에 pitch, length, start_time, velocity를 \n",
        "# 부여하고 최종결과물 리스트에 append 한다. pitch는 랜덤으로 선택한 위의 음을 부여한다.\n",
        "\n",
        "# cmaj_scale_diatonic_chords_vc: Cmaj 스케일의 3화음의 \n",
        "chord_prog_number = [1, 6, 4, 5]\n",
        "voicing_result = []\n",
        "# for i, chord_num in enumerate(chord_prog_number):\n",
        "for i in range(len(chord_prog_number)):\n",
        "    chord_num = chord_prog_number[i]\n",
        "    start_time = i * 4.0 # 4/4박자 기준 1마디는 4.0 \n",
        "    voicing_candidate_group = cmaj_scale_diatonic_chords_vc[chord_num] \n",
        "    for j in range(len(voicing_candidate_group)):\n",
        "        voicing_candidate = voicing_candidate_group[j]\n",
        "        new_note = {}\n",
        "        new_note['pitch'] = random.choice(voicing_candidate)\n",
        "        new_note['length'] = 4.0\n",
        "        new_note['start_time'] = start_time # + random.uniform(-1/16., 1/16.) #   1/16 = 64분음표 길이\n",
        "        new_note['velocity'] = 70 + random.uniform(-10, 10)\n",
        "        voicing_result.append(new_note)\n",
        "write_midi(voicing_result, 120, 'voicing_test.mid')"
      ],
      "metadata": {
        "id": "TbU0mZ-mbuop"
      },
      "execution_count": null,
      "outputs": []
    },
    {
      "cell_type": "code",
      "source": [
        "def generate_pitch_candidate(scale_list, min_pitch, max_pitch):\n",
        "    pitch_candidate = [[] for _ in range(7)]\n",
        "    for i in range(7):\n",
        "        for p in range(min_pitch, max_pitch+1):\n",
        "            if p%12 == scale_list[i]: \n",
        "                pitch_candidate[i].append(p)\n",
        "    return pitch_candidate"
      ],
      "metadata": {
        "id": "o80Mk7KeJeRF"
      },
      "execution_count": null,
      "outputs": []
    },
    {
      "cell_type": "code",
      "source": [
        "pitch_candidate = generate_pitch_candidate([0, 2, 4, 5, 7, 9, 11], 55, 80)"
      ],
      "metadata": {
        "id": "8Cup-iYzKVJH"
      },
      "execution_count": null,
      "outputs": []
    },
    {
      "cell_type": "code",
      "source": [
        "voicig_candidate_group = []\n",
        "for i in range(7):\n",
        "    voicig_candidate_group.append([])\n",
        "    for j in range(3):\n",
        "        voicig_candidate_group[-1].append(pitch_candidate[(i + (j*2)) % 7])\n",
        "voicig_candidate_group"
      ],
      "metadata": {
        "colab": {
          "base_uri": "https://localhost:8080/"
        },
        "id": "zBl_0DJLMQBW",
        "outputId": "c12fb340-ec90-438f-f9c2-942159a5d898"
      },
      "execution_count": null,
      "outputs": [
        {
          "output_type": "execute_result",
          "data": {
            "text/plain": [
              "[[[60, 72], [64, 76], [55, 67, 79]],\n",
              " [[62, 74], [65, 77], [57, 69]],\n",
              " [[64, 76], [55, 67, 79], [59, 71]],\n",
              " [[65, 77], [57, 69], [60, 72]],\n",
              " [[55, 67, 79], [59, 71], [62, 74]],\n",
              " [[57, 69], [60, 72], [64, 76]],\n",
              " [[59, 71], [62, 74], [65, 77]]]"
            ]
          },
          "metadata": {},
          "execution_count": 47
        }
      ]
    },
    {
      "cell_type": "code",
      "source": [
        "def voicing_chord_progression(chord_num_progression, pitch_candidate, seventh, length):\n",
        "    voicig_candidate_group = [None,]\n",
        "    if seventh == True:\n",
        "        n = 4\n",
        "    else:\n",
        "        n = 3\n",
        "    for i in range(7):\n",
        "        voicig_candidate_group.append([])\n",
        "        for j in range(n):\n",
        "            voicig_candidate_group[-1].append(pitch_candidate[(i + (j*2)) % 7])\n",
        "    voicing_result = []\n",
        "    for i in range(len(chord_num_progression)):\n",
        "        chord_num = chord_num_progression[i]\n",
        "        start_time = i * length # 4/4박자 기준 1마디는 4.0 \n",
        "        voicing_candidate_group = voicig_candidate_group[chord_num] \n",
        "        for j in range(len(voicing_candidate_group)):\n",
        "            voicing_candidate = voicing_candidate_group[j]\n",
        "            new_note = {}\n",
        "            new_note['pitch'] = random.choice(voicing_candidate)\n",
        "            new_note['length'] = length\n",
        "            new_note['start_time'] = start_time # + random.uniform(-1/16., 1/16.) #   1/16 = 64분음표 길이\n",
        "            new_note['velocity'] = 70 \n",
        "            voicing_result.append(new_note)\n",
        "    return voicing_result "
      ],
      "metadata": {
        "id": "XBHCiJb3V7Kt"
      },
      "execution_count": null,
      "outputs": []
    },
    {
      "cell_type": "code",
      "source": [
        "import os\n",
        "\n",
        "# Step 1. 코드그룹 진행 생성\n",
        "chord_group_prog = generate_chord_group_progression(10, 0)\n",
        "# Step 2. 코드그룹 숫자 -> 코드숫자로 변환\n",
        "chord_num_prog = convert_group_num_to_chord_num(chord_group_prog)\n",
        "# Step 3. 보이싱에 사용 가능한 노트집합 생성\n",
        "p_candidate = generate_pitch_candidate([0, 2, 4, 5, 7, 9, 11], 50, 80)\n",
        "# Step 4. 랜덤 코드 보이싱 \n",
        "voicing_result = voicing_chord_progression(chord_num_prog, p_candidate, True, 2.0)\n",
        "# step 5. 미디파일로 결과 저장\n",
        "\n",
        "\n",
        "# 구글드라이브안에 폴더는 직접 만들어주셔야 합니다.\n",
        "dest_path = os.path.join('drive', 'MyDrive', '데이터', 'chord_voicing3.mid')\n",
        "write_midi(voicing_result, 120, dest_path)"
      ],
      "metadata": {
        "id": "v6Dh5ZltNC9o"
      },
      "execution_count": null,
      "outputs": []
    },
    {
      "cell_type": "markdown",
      "source": [
        ""
      ],
      "metadata": {
        "id": "4jI1EpHMXpSA"
      }
    },
    {
      "cell_type": "code",
      "source": [
        "# for문을 이용해서 N개의 랜덤코드보이싱 미디파일이 생성되게 만들어주세요\n",
        "# 생성한 미디파일을 한번에 받기위해 각자 구글드라이브를 마운트한후 특정 폴더 안에 모이게 해주세요"
      ],
      "metadata": {
        "id": "k3_mAYVqOSOp"
      },
      "execution_count": null,
      "outputs": []
    },
    {
      "cell_type": "markdown",
      "source": [
        ""
      ],
      "metadata": {
        "id": "prhRjm5CUqJv"
      }
    },
    {
      "cell_type": "code",
      "source": [
        "for i in range(10):\n",
        "    # Step 1. 코드그룹 진행 생성\n",
        "    chord_group_prog = generate_chord_group_progression(7, random.randint(0, 2))\n",
        "    # Step 2. 코드그룹 숫자 -> 코드숫자로 변환\n",
        "    chord_num_prog = convert_group_num_to_chord_num(chord_group_prog)\n",
        "    # Step 3. 보이싱에 사용 가능한 노트집합 생성\n",
        "    p_candidate = generate_pitch_candidate([0, 2, 4, 5, 7, 9, 11], 50, 80)\n",
        "    # Step 4. 랜덤 코드 보이싱 \n",
        "    voicing_result = voicing_chord_progression(chord_num_prog, p_candidate, True, 2.0)\n",
        "    # step 5. 미디파일로 결과 저장\n",
        "    dest_path = os.path.join('drive', 'MyDrive', '데이터', \n",
        "                             'chord_voicing_' + str(i).zfill(3) + '.mid')\n",
        "    write_midi(voicing_result, 120, dest_path)"
      ],
      "metadata": {
        "id": "SpF3mdaXixAI"
      },
      "execution_count": null,
      "outputs": []
    },
    {
      "cell_type": "code",
      "source": [
        "!pip install mido\n",
        "import mido\n",
        "\n",
        "def read_midi_file(midi_file_path, ticks_per_beat=960):\n",
        "    # print('midi_file_path', midi_file_path)\n",
        "    mid = mido.MidiFile(midi_file_path, ticks_per_beat=ticks_per_beat)\n",
        "    note_temp = []\n",
        "    note_import = []\n",
        "    tick = 0\n",
        "    for i, track in enumerate(mid.tracks):\n",
        "        for msg in track:\n",
        "            tick += msg.time\n",
        "            if msg.type == 'note_on' or msg.type == 'note_off':\n",
        "                if msg.type == 'note_on':\n",
        "                    pitch = msg.note\n",
        "                    start = tick / float(mid.ticks_per_beat)\n",
        "#                     start = float(\"{:.4f}\".format(start))  # 시간 퀀타이즈\n",
        "                    velocity = msg.velocity\n",
        "                    note_info = {\n",
        "                        'pitch': pitch,\n",
        "                        'start_time': start,\n",
        "                        'length': None,\n",
        "                        'velocity': velocity,\n",
        "#                         'function': None,\n",
        "                    }\n",
        "                    note_temp.append(note_info)\n",
        "                elif msg.type == 'note_off':\n",
        "                    for j in range(len(note_temp)):\n",
        "                        if note_temp[j]['pitch'] == msg.note:\n",
        "                            end = tick / float(mid.ticks_per_beat)\n",
        "                            note_temp[j]['length'] = end - note_temp[j]['start_time']\n",
        "                            note_import.append(note_temp[j])\n",
        "                            del note_temp[j]\n",
        "                            break\n",
        "            else:\n",
        "                pass\n",
        "                # print(msg)\n",
        "\n",
        "    note_import = sorted(note_import, key=lambda k: k['start_time'])\n",
        "    return note_import"
      ],
      "metadata": {
        "id": "jwl8dOAg9SNR",
        "colab": {
          "base_uri": "https://localhost:8080/"
        },
        "outputId": "02e28b64-c72a-4d37-d74b-5953638d5aa5"
      },
      "execution_count": null,
      "outputs": [
        {
          "output_type": "stream",
          "name": "stdout",
          "text": [
            "Looking in indexes: https://pypi.org/simple, https://us-python.pkg.dev/colab-wheels/public/simple/\n",
            "Requirement already satisfied: mido in /usr/local/lib/python3.7/dist-packages (1.2.10)\n"
          ]
        }
      ]
    },
    {
      "cell_type": "code",
      "source": [
        "import glob\n",
        "import os"
      ],
      "metadata": {
        "id": "IxAmXRNwDuRJ"
      },
      "execution_count": null,
      "outputs": []
    },
    {
      "cell_type": "code",
      "source": [
        "# good과 bad 데이터를 읽어서 라벨링을 같이 불러옵니다.\n",
        "good_path = '/content/data/good'\n",
        "bad_path = '/content/data/bad'\n",
        "# good에 해당하는 미디데이터 읽기 (Mid파일->노트seq)\n",
        "good_midi_files = glob.glob(os.path.join(good_path, '*.mid'))\n",
        "good_note_seq_list = []\n",
        "for i in range(len(good_midi_files)):\n",
        "    good_note_seq_list.append(read_midi_file(good_midi_files[i]))\n",
        "# bad에 해당하는 미디데이터 읽기 (Mid파일->노트seq)\n",
        "bad_midi_files = glob.glob(os.path.join(bad_path, '*.mid'))\n",
        "bad_note_seq_list = []\n",
        "for i in range(len(bad_midi_files)):\n",
        "    bad_note_seq_list.append(read_midi_file(bad_midi_files[i]))\n",
        "\n",
        "all_note_seq_list = good_note_seq_list + bad_note_seq_list\n",
        "start_timing = []\n",
        "all_note_length = []\n",
        "for note_seq in all_note_seq_list:\n",
        "    start_timing.append(list(set([n['start_time'] for n in note_seq])))\n",
        "    all_note_length.append(list(set([n['length'] for n in note_seq])))\n",
        "time_step = len(start_timing[0])\n",
        "for st in start_timing:\n",
        "    assert len(st) == time_step\n",
        "length = all_note_length[0][0]\n",
        "for al in all_note_length:\n",
        "    assert len(al) == 1\n",
        "    assert al[0] == length\n",
        "\n",
        "\n",
        "# AI 학습을 위한 데이터 Encoding (노트seq->many-hot-vectors)\n",
        "# Good, Encoding!\n",
        "train_x_good = []\n",
        "for i in range(len(good_note_seq_list)):\n",
        "    note_seq = good_note_seq_list[i]\n",
        "    single_data = numpy.zeros((time_step, 127 + 1))\n",
        "    for j in range(len(note_seq)):\n",
        "        note = note_seq[j]\n",
        "        t_idx = int(note['start_time'] / length)\n",
        "        p_idx = note['pitch']\n",
        "        single_data[t_idx][p_idx] = 1\n",
        "    train_x_good.append(single_data)\n",
        "# Bad, Encoding!\n",
        "train_x_bad = []\n",
        "for i in range(len(bad_note_seq_list)):\n",
        "    note_seq = bad_note_seq_list[i]\n",
        "    single_data = numpy.zeros((time_step, 127 + 1))\n",
        "    for j in range(len(note_seq)):\n",
        "        note = note_seq[j]\n",
        "        t_idx = int(note['start_time'] / length)\n",
        "        p_idx = note['pitch']\n",
        "        single_data[t_idx][p_idx] = 1\n",
        "    train_x_bad.append(single_data)\n",
        "\n",
        "# 아래는 test 데이터를 뽑지 않고 전부 train 데이터로 할당했음.\n",
        "# train_x = train_x_good + train_x_bad\n",
        "# # train_y = [1] * len(train_x_good) + [0] * len(train_x_bad)\n",
        "# train_y = []\n",
        "# for i in range(len(train_x_good)):\n",
        "#     train_y.append(1)\n",
        "# for i in range(len(train_x_bad)):\n",
        "#     train_y.append(0)\n",
        "\n",
        "test_ratio = 0.3\n",
        "\n",
        "test_x_good = train_x_good[0:int(len(train_x_good)*test_ratio)]\n",
        "test_y_good = [1] * len(test_x_good)\n",
        "train_x_good = train_x_good[int(len(train_x_good)*test_ratio):]\n",
        "train_y_good = [1] * len(train_x_good)\n",
        "test_x_bad = train_x_bad[0:int(len(train_x_bad)*test_ratio)]\n",
        "test_y_bad = [0] * len(test_x_bad)\n",
        "train_x_bad = train_x_bad[int(len(train_x_bad)*test_ratio):]\n",
        "train_y_bad = [0] * len(train_x_bad)\n",
        "\n",
        "train_x = train_x_good + train_x_bad\n",
        "train_y = train_y_good + train_y_bad\n",
        "\n",
        "test_x = test_x_good + test_x_bad\n",
        "test_y = test_y_good + test_y_bad"
      ],
      "metadata": {
        "id": "B1di4_DRpjH7"
      },
      "execution_count": null,
      "outputs": []
    },
    {
      "cell_type": "code",
      "source": [
        "# numpy로 데이터 변환\n",
        "train_x = numpy.array(train_x)\n",
        "train_y = numpy.array(train_y)\n",
        "test_x = numpy.array(test_x)\n",
        "test_y = numpy.array(test_y)"
      ],
      "metadata": {
        "id": "rWwHMaSSxRbE"
      },
      "execution_count": null,
      "outputs": []
    },
    {
      "cell_type": "code",
      "source": [
        "%load_ext tensorboard"
      ],
      "metadata": {
        "colab": {
          "base_uri": "https://localhost:8080/"
        },
        "id": "H2GLiQj6sqj6",
        "outputId": "aea6eb37-91f3-462d-84f0-033ca54c9388"
      },
      "execution_count": null,
      "outputs": [
        {
          "output_type": "stream",
          "name": "stdout",
          "text": [
            "The tensorboard extension is already loaded. To reload it, use:\n",
            "  %reload_ext tensorboard\n"
          ]
        }
      ]
    },
    {
      "cell_type": "code",
      "source": [
        "import tensorflow as tf\n",
        "import datetime"
      ],
      "metadata": {
        "id": "Ih8n6utNuwbK"
      },
      "execution_count": null,
      "outputs": []
    },
    {
      "cell_type": "code",
      "source": [
        "!rm -rf ./logs/ "
      ],
      "metadata": {
        "id": "LMYg0URJuyGL"
      },
      "execution_count": null,
      "outputs": []
    },
    {
      "cell_type": "code",
      "source": [
        "def create_model():\n",
        "  return tf.keras.models.Sequential([\n",
        "    tf.keras.layers.Flatten(input_shape=(time_step, 128)),\n",
        "    tf.keras.layers.Dense(32, activation='relu'),\n",
        "    # tf.keras.layers.Dropout(0.2),\n",
        "    tf.keras.layers.Dense(16, activation='relu'),\n",
        "    # tf.keras.layers.Dropout(0.2),\n",
        "    tf.keras.layers.Dense(1, activation='sigmoid')\n",
        "  ])"
      ],
      "metadata": {
        "id": "iULmTjXTu1SF"
      },
      "execution_count": null,
      "outputs": []
    },
    {
      "cell_type": "code",
      "source": [
        "model = create_model()\n",
        "model.compile(optimizer='adam',\n",
        "              loss='binary_crossentropy',\n",
        "              metrics=['accuracy'])\n",
        "\n",
        "log_dir = \"logs/fit/\" + datetime.datetime.now().strftime(\"%Y%m%d-%H%M%S\")\n",
        "tensorboard_callback = tf.keras.callbacks.TensorBoard(log_dir=log_dir, histogram_freq=1)\n",
        "\n",
        "model.fit(x=train_x, \n",
        "          y=train_y, \n",
        "          epochs=10, \n",
        "          validation_data=(test_x, test_y), \n",
        "          callbacks=[tensorboard_callback],\n",
        "          shuffle = True)"
      ],
      "metadata": {
        "colab": {
          "base_uri": "https://localhost:8080/"
        },
        "id": "btgM0GSrwPKb",
        "outputId": "e62a3c65-5429-4b13-b836-d0f500869e7a"
      },
      "execution_count": null,
      "outputs": [
        {
          "output_type": "stream",
          "name": "stdout",
          "text": [
            "Epoch 1/10\n",
            "2/2 [==============================] - 1s 235ms/step - loss: 0.6871 - accuracy: 0.5200 - val_loss: 0.6667 - val_accuracy: 0.7000\n",
            "Epoch 2/10\n",
            "2/2 [==============================] - 0s 100ms/step - loss: 0.6667 - accuracy: 0.6800 - val_loss: 0.6692 - val_accuracy: 0.6500\n",
            "Epoch 3/10\n",
            "2/2 [==============================] - 0s 65ms/step - loss: 0.6509 - accuracy: 0.7200 - val_loss: 0.6705 - val_accuracy: 0.6500\n",
            "Epoch 4/10\n",
            "2/2 [==============================] - 0s 79ms/step - loss: 0.6370 - accuracy: 0.7600 - val_loss: 0.6718 - val_accuracy: 0.6000\n",
            "Epoch 5/10\n",
            "2/2 [==============================] - 0s 69ms/step - loss: 0.6233 - accuracy: 0.8400 - val_loss: 0.6724 - val_accuracy: 0.5500\n",
            "Epoch 6/10\n",
            "2/2 [==============================] - 0s 83ms/step - loss: 0.6092 - accuracy: 0.8600 - val_loss: 0.6731 - val_accuracy: 0.5500\n",
            "Epoch 7/10\n",
            "2/2 [==============================] - 0s 67ms/step - loss: 0.5942 - accuracy: 0.8800 - val_loss: 0.6734 - val_accuracy: 0.5500\n",
            "Epoch 8/10\n",
            "2/2 [==============================] - 0s 89ms/step - loss: 0.5794 - accuracy: 0.9400 - val_loss: 0.6726 - val_accuracy: 0.5500\n",
            "Epoch 9/10\n",
            "2/2 [==============================] - 0s 69ms/step - loss: 0.5629 - accuracy: 0.9400 - val_loss: 0.6719 - val_accuracy: 0.6000\n",
            "Epoch 10/10\n",
            "2/2 [==============================] - 0s 68ms/step - loss: 0.5460 - accuracy: 0.9400 - val_loss: 0.6716 - val_accuracy: 0.6000\n"
          ]
        },
        {
          "output_type": "execute_result",
          "data": {
            "text/plain": [
              "<keras.callbacks.History at 0x7f6da9fd4b10>"
            ]
          },
          "metadata": {},
          "execution_count": 84
        }
      ]
    },
    {
      "cell_type": "code",
      "source": [
        "%tensorboard --logdir logs/fit"
      ],
      "metadata": {
        "colab": {
          "base_uri": "https://localhost:8080/",
          "height": 35
        },
        "id": "6x0kwoFTw6RT",
        "outputId": "a01ac50f-27dd-4d5f-a23a-26047f1b71a8"
      },
      "execution_count": null,
      "outputs": [
        {
          "output_type": "display_data",
          "data": {
            "text/plain": [
              "Reusing TensorBoard on port 6006 (pid 664), started 0:02:38 ago. (Use '!kill 664' to kill it.)"
            ]
          },
          "metadata": {}
        },
        {
          "output_type": "display_data",
          "data": {
            "text/plain": [
              "<IPython.core.display.Javascript object>"
            ],
            "application/javascript": [
              "\n",
              "        (async () => {\n",
              "            const url = new URL(await google.colab.kernel.proxyPort(6006, {'cache': true}));\n",
              "            url.searchParams.set('tensorboardColab', 'true');\n",
              "            const iframe = document.createElement('iframe');\n",
              "            iframe.src = url;\n",
              "            iframe.setAttribute('width', '100%');\n",
              "            iframe.setAttribute('height', '800');\n",
              "            iframe.setAttribute('frameborder', 0);\n",
              "            document.body.appendChild(iframe);\n",
              "        })();\n",
              "    "
            ]
          },
          "metadata": {}
        }
      ]
    },
    {
      "cell_type": "code",
      "source": [
        ""
      ],
      "metadata": {
        "id": "7JM--tS51pjl"
      },
      "execution_count": null,
      "outputs": []
    }
  ]
}