{
  "nbformat": 4,
  "nbformat_minor": 0,
  "metadata": {
    "colab": {
      "name": "class_03.ipynb",
      "provenance": [],
      "collapsed_sections": []
    },
    "kernelspec": {
      "name": "python3",
      "display_name": "Python 3"
    },
    "language_info": {
      "name": "python"
    }
  },
  "cells": [
    {
      "cell_type": "markdown",
      "source": [
        "ex# 새 섹션"
      ],
      "metadata": {
        "id": "fgXj6rfQJBVq"
      }
    },
    {
      "cell_type": "code",
      "execution_count": 1,
      "metadata": {
        "colab": {
          "base_uri": "https://localhost:8080/"
        },
        "id": "685pyq6BI-2M",
        "outputId": "07392cd6-a4f8-4268-edf7-dfd1ed418db9"
      },
      "outputs": [
        {
          "output_type": "stream",
          "name": "stdout",
          "text": [
            "[]\n"
          ]
        }
      ],
      "source": [
        "ex_list = []\n",
        "print(ex_list)"
      ]
    },
    {
      "cell_type": "code",
      "source": [
        "ex_list.append(1)\n",
        "print(ex_list)"
      ],
      "metadata": {
        "colab": {
          "base_uri": "https://localhost:8080/"
        },
        "id": "hh4PaokQKIjb",
        "outputId": "5a3062fa-aa50-4dfe-8924-79b9699e3c27"
      },
      "execution_count": 2,
      "outputs": [
        {
          "output_type": "stream",
          "name": "stdout",
          "text": [
            "[1]\n"
          ]
        }
      ]
    },
    {
      "cell_type": "code",
      "source": [
        "ex_list.append(2)\n",
        "ex_list.append(3)\n",
        "ex_list.append(4)\n",
        "ex_list.append(5)\n",
        "ex_list.append(6)\n",
        "print(ex_list)"
      ],
      "metadata": {
        "colab": {
          "base_uri": "https://localhost:8080/"
        },
        "id": "YReDZ4ZhKNL-",
        "outputId": "d628d71a-d848-4cc4-dbbe-c9c2063b7689"
      },
      "execution_count": 3,
      "outputs": [
        {
          "output_type": "stream",
          "name": "stdout",
          "text": [
            "[1, 2, 3, 4, 5, 6]\n"
          ]
        }
      ]
    },
    {
      "cell_type": "code",
      "source": [
        "ex_list.append('Apple')\n",
        "print(ex_list)"
      ],
      "metadata": {
        "colab": {
          "base_uri": "https://localhost:8080/"
        },
        "id": "XV3uGzA2KpTH",
        "outputId": "bce0b919-d12f-4204-e2c7-494296b8c5dc"
      },
      "execution_count": 4,
      "outputs": [
        {
          "output_type": "stream",
          "name": "stdout",
          "text": [
            "[1, 2, 3, 4, 5, 6, 'Apple']\n"
          ]
        }
      ]
    },
    {
      "cell_type": "code",
      "source": [
        "ex_list.append([])\n",
        "print(ex_list)"
      ],
      "metadata": {
        "colab": {
          "base_uri": "https://localhost:8080/"
        },
        "id": "pZQRn0M_LdE_",
        "outputId": "150af2c2-e256-48f8-d9ff-361be6aa88e4"
      },
      "execution_count": 5,
      "outputs": [
        {
          "output_type": "stream",
          "name": "stdout",
          "text": [
            "[1, 2, 3, 4, 5, 6, 'Apple', []]\n"
          ]
        }
      ]
    },
    {
      "cell_type": "code",
      "source": [
        "len(ex_list)"
      ],
      "metadata": {
        "colab": {
          "base_uri": "https://localhost:8080/"
        },
        "id": "FDfwMhKULtjG",
        "outputId": "3608f105-24aa-4329-d8b2-bd3b4eabff5e"
      },
      "execution_count": 6,
      "outputs": [
        {
          "output_type": "execute_result",
          "data": {
            "text/plain": [
              "8"
            ]
          },
          "metadata": {},
          "execution_count": 6
        }
      ]
    },
    {
      "cell_type": "code",
      "source": [
        "ex_list[0]"
      ],
      "metadata": {
        "colab": {
          "base_uri": "https://localhost:8080/"
        },
        "id": "1LMmNXoiL6Vm",
        "outputId": "e61a4d3d-9618-4942-989d-164210003817"
      },
      "execution_count": 7,
      "outputs": [
        {
          "output_type": "execute_result",
          "data": {
            "text/plain": [
              "1"
            ]
          },
          "metadata": {},
          "execution_count": 7
        }
      ]
    },
    {
      "cell_type": "code",
      "source": [
        "ex_list[5]"
      ],
      "metadata": {
        "colab": {
          "base_uri": "https://localhost:8080/"
        },
        "id": "KsTAeQ0LMUPD",
        "outputId": "9a74eef6-6881-4e38-ac95-f26ce56df58b"
      },
      "execution_count": 8,
      "outputs": [
        {
          "output_type": "execute_result",
          "data": {
            "text/plain": [
              "6"
            ]
          },
          "metadata": {},
          "execution_count": 8
        }
      ]
    },
    {
      "cell_type": "code",
      "source": [
        "ex_list[7]"
      ],
      "metadata": {
        "colab": {
          "base_uri": "https://localhost:8080/"
        },
        "id": "pOaJ4Sw4MeQQ",
        "outputId": "57a2888f-661c-4767-ebb2-f7b57aed77d4"
      },
      "execution_count": 9,
      "outputs": [
        {
          "output_type": "execute_result",
          "data": {
            "text/plain": [
              "[]"
            ]
          },
          "metadata": {},
          "execution_count": 9
        }
      ]
    },
    {
      "cell_type": "code",
      "source": [
        "ex_list[7].append(0.9994747)\n",
        "ex_list[7].append(100.7777)\n",
        "ex_list\n"
      ],
      "metadata": {
        "colab": {
          "base_uri": "https://localhost:8080/"
        },
        "id": "SUD9P34oMjNE",
        "outputId": "c7acc090-9970-4d98-c3fd-8bfd41685503"
      },
      "execution_count": 10,
      "outputs": [
        {
          "output_type": "execute_result",
          "data": {
            "text/plain": [
              "[1, 2, 3, 4, 5, 6, 'Apple', [0.9994747, 100.7777]]"
            ]
          },
          "metadata": {},
          "execution_count": 10
        }
      ]
    },
    {
      "cell_type": "code",
      "source": [
        "ex_dict = {}\n",
        "ex_dict['첫번째'] = 1\n",
        "print(ex_dict)"
      ],
      "metadata": {
        "colab": {
          "base_uri": "https://localhost:8080/"
        },
        "id": "5g_-pLRDM_eW",
        "outputId": "d95cc38c-7309-4413-c16d-df5482f1aedc"
      },
      "execution_count": 11,
      "outputs": [
        {
          "output_type": "stream",
          "name": "stdout",
          "text": [
            "{'첫번째': 1}\n"
          ]
        }
      ]
    },
    {
      "cell_type": "code",
      "source": [
        "ex_dict['딸깍'] = '마우스'\n",
        "ex_dict"
      ],
      "metadata": {
        "colab": {
          "base_uri": "https://localhost:8080/"
        },
        "id": "eZVpk9Z2NnNM",
        "outputId": "a1d37873-6a7e-4377-e79d-9f284181b309"
      },
      "execution_count": 12,
      "outputs": [
        {
          "output_type": "execute_result",
          "data": {
            "text/plain": [
              "{'딸깍': '마우스', '첫번째': 1}"
            ]
          },
          "metadata": {},
          "execution_count": 12
        }
      ]
    },
    {
      "cell_type": "code",
      "source": [
        "# 도\n",
        "music_note_01 = {}\n",
        "music_note_01['pitch'] = 60 \n",
        "music_note_01['length'] = 1.\n",
        "music_note_01['velocity'] = 100\n",
        "music_note_01['start_time'] = 0.\n",
        "# 레\n",
        "music_note_02 = {}\n",
        "music_note_02['pitch'] = 62 \n",
        "music_note_02['length'] = 1.\n",
        "music_note_02['velocity'] = 100\n",
        "music_note_02['start_time'] = 1.\n",
        "# 미\n",
        "music_note_03 = {}\n",
        "music_note_03['pitch'] = 64 \n",
        "music_note_03['length'] = 1.\n",
        "music_note_03['velocity'] = 100\n",
        "music_note_03['start_time'] = 2.\n",
        "note_list = [music_note_01, music_note_02, music_note_03]\n",
        "# ------------------------------------------------\n",
        "note_list = [\n",
        "    {'pitch': 60, 'length':1., 'velocity':100, 'start_time': 0.,}, # 도\n",
        "    {'pitch': 62, 'length':1., 'velocity':100, 'start_time': 1.,}, # 레\n",
        "    {'pitch': 64, 'length':1., 'velocity':100, 'start_time': 2.,}, # 미\n",
        "]\n"
      ],
      "metadata": {
        "id": "lim8uO8GN0Po"
      },
      "execution_count": 29,
      "outputs": []
    },
    {
      "cell_type": "code",
      "source": [
        "!pip install midiutil"
      ],
      "metadata": {
        "colab": {
          "base_uri": "https://localhost:8080/"
        },
        "id": "HiZ6SMjDj9ID",
        "outputId": "1a83a23d-9358-4117-dd11-5a9d64ab7104"
      },
      "execution_count": 30,
      "outputs": [
        {
          "output_type": "stream",
          "name": "stdout",
          "text": [
            "Looking in indexes: https://pypi.org/simple, https://us-python.pkg.dev/colab-wheels/public/simple/\n",
            "Requirement already satisfied: midiutil in /usr/local/lib/python3.7/dist-packages (1.2.1)\n"
          ]
        }
      ]
    },
    {
      "cell_type": "code",
      "source": [
        "import midiutil\n",
        "def write_midi(seq, bpm, path):\n",
        "    mf = midiutil.MIDIFile(1, file_format=1)\n",
        "    track = 0\n",
        "    channel = 0\n",
        "    mf.addTempo(track, 0, bpm)\n",
        "    for i, n in enumerate(seq):\n",
        "        mf.addNote(\n",
        "            track,\n",
        "            channel,\n",
        "            n['pitch'],\n",
        "            n['start_time'],\n",
        "            n['length'],\n",
        "            n['velocity']\n",
        "        )\n",
        "    with open(path, 'wb') as outf:\n",
        "        mf.writeFile(outf)\n",
        "      \n"
      ],
      "metadata": {
        "id": "g2PvuknTPEah"
      },
      "execution_count": 31,
      "outputs": []
    },
    {
      "cell_type": "code",
      "source": [
        "write_midi(seq=note_list, bpm=90, path='output.mid')"
      ],
      "metadata": {
        "id": "c9bC2NJ3jsr5"
      },
      "execution_count": 32,
      "outputs": []
    },
    {
      "cell_type": "code",
      "source": [
        "# C - G - Am - Em\n",
        "\n",
        "C = [\n",
        "     {'pitch': 60, 'length': 4.0, 'start_time': 0., 'velocity': 80},\n",
        "     {'pitch': 64, 'length': 4.0, 'start_time': 0., 'velocity': 80},\n",
        "     {'pitch': 67, 'length': 4.0, 'start_time': 0., 'velocity': 80},\n",
        "]\n",
        "G = []\n",
        "Am = []\n",
        "Em = []\n",
        "chord_list = C + G + Am + Em"
      ],
      "metadata": {
        "id": "wGyZDwM_xI12"
      },
      "execution_count": 33,
      "outputs": []
    },
    {
      "cell_type": "code",
      "source": [
        "ex_list = [1,2,3]\n",
        "ex_list2 = [4,5,6]\n",
        "\n",
        "print(ex_list + ex_list2)\n"
      ],
      "metadata": {
        "colab": {
          "base_uri": "https://localhost:8080/"
        },
        "id": "wBWLAnRKx3ew",
        "outputId": "92974684-987a-4503-b1d9-e2fe7c57980d"
      },
      "execution_count": 34,
      "outputs": [
        {
          "output_type": "stream",
          "name": "stdout",
          "text": [
            "[1, 2, 3, 4, 5, 6]\n"
          ]
        }
      ]
    },
    {
      "cell_type": "code",
      "source": [
        "ex_list3 = [1, 2, 3, 4]\n",
        "print(ex_list3[3])\n",
        "ex_list3[3] = 100\n",
        "C4 = {\n",
        "    'pitch': 60\n",
        "}\n",
        "C4['pitch'] = 72\n",
        "print(C4)"
      ],
      "metadata": {
        "colab": {
          "base_uri": "https://localhost:8080/"
        },
        "id": "vq3dN68ezn1M",
        "outputId": "384f2b21-6ed1-455d-c979-63c7d28b7a88"
      },
      "execution_count": 35,
      "outputs": [
        {
          "output_type": "stream",
          "name": "stdout",
          "text": [
            "4\n",
            "{'pitch': 72}\n"
          ]
        }
      ]
    },
    {
      "cell_type": "code",
      "source": [
        "dim_1_list = [1, 2, 3, 4] # 1차원리스트"
      ],
      "metadata": {
        "id": "E8SzWt3v7874"
      },
      "execution_count": 38,
      "outputs": []
    },
    {
      "cell_type": "code",
      "source": [
        "#.  1 2 3\n",
        "#.  4 5 6\n",
        "#.  7 8 9\n",
        "mat_01 = [\n",
        "  [1, 2, 3],\n",
        "  [4, 5, 6],\n",
        "  [7, 8, 9],\n",
        "]\n",
        "for m in mat_01:\n",
        "  print(m)\n",
        "print(mat_01[1][2])\n",
        "mat_01[1][2] = -6\n",
        "\n",
        "for m in mat_01:\n",
        "  print(m)"
      ],
      "metadata": {
        "colab": {
          "base_uri": "https://localhost:8080/"
        },
        "id": "KtgMTNSD78Dp",
        "outputId": "79b76ada-2ef0-46a8-8011-4df0f8284072"
      },
      "execution_count": 39,
      "outputs": [
        {
          "output_type": "stream",
          "name": "stdout",
          "text": [
            "[1, 2, 3]\n",
            "[4, 5, 6]\n",
            "[7, 8, 9]\n",
            "6\n",
            "[1, 2, 3]\n",
            "[4, 5, -6]\n",
            "[7, 8, 9]\n"
          ]
        }
      ]
    },
    {
      "cell_type": "markdown",
      "source": [
        ""
      ],
      "metadata": {
        "id": "SC9duS6noJD7"
      }
    },
    {
      "cell_type": "code",
      "source": [
        "C = [\n",
        "     {'pitch': 60,   'length': 1.0, 'start_time': 0., 'velocity': 80},\n",
        "     {'pitch': 60+4, 'length': 1.0, 'start_time': 0., 'velocity': 80},\n",
        "     {'pitch': 60+7, 'length': 1.0, 'start_time': 0., 'velocity': 80},\n",
        "]\n",
        "Dm = [\n",
        "     {'pitch': 62,   'length': 1.0, 'start_time': 0., 'velocity': 80},\n",
        "     {'pitch': 62+3, 'length': 1.0, 'start_time': 0., 'velocity': 80},\n",
        "     {'pitch': 62+7, 'length': 1.0, 'start_time': 0., 'velocity': 80},\n",
        "]\n",
        "Em = [\n",
        "     {'pitch': 64,   'length': 1.0, 'start_time': 0., 'velocity': 80},\n",
        "     {'pitch': 64+3, 'length': 1.0, 'start_time': 0., 'velocity': 80},\n",
        "     {'pitch': 64+7, 'length': 1.0, 'start_time': 0., 'velocity': 80},\n",
        "]\n",
        "F = [\n",
        "     {'pitch': 65   - 12,   'length': 1.0, 'start_time': 0., 'velocity': 80},\n",
        "     {'pitch': 65+4 - 12, 'length': 1.0, 'start_time': 0., 'velocity': 80},\n",
        "     {'pitch': 65+7 - 12, 'length': 1.0, 'start_time': 0., 'velocity': 80},\n",
        "]\n",
        "G = [\n",
        "     {'pitch': 67   - 12,   'length': 1.0, 'start_time': 0., 'velocity': 80},\n",
        "     {'pitch': 67+4 - 12, 'length': 1.0, 'start_time': 0., 'velocity': 80},\n",
        "     {'pitch': 67+7 - 12, 'length': 1.0, 'start_time': 0., 'velocity': 80},\n",
        "]\n",
        "Am = [\n",
        "     {'pitch': 69   - 12,   'length': 1.0, 'start_time': 0., 'velocity': 80},\n",
        "     {'pitch': 69+3 - 12, 'length': 1.0, 'start_time': 0., 'velocity': 80},\n",
        "     {'pitch': 69+7 - 12, 'length': 1.0, 'start_time': 0., 'velocity': 80},\n",
        "]\n",
        "# Bdim = []\n",
        "chord_group = [\n",
        "    [C, Em, Am],  # 0: Tonic           \n",
        "    [F, Dm],  # 1: SubD           \n",
        "    [G],  # 2: Dom           \n",
        "]"
      ],
      "metadata": {
        "id": "y1zRlBUfH-Ja"
      },
      "execution_count": 45,
      "outputs": []
    },
    {
      "cell_type": "code",
      "source": [
        "import numpy\n",
        "a = ['a', 'b', 'c']\n",
        "p = [0.7, 0.2, 0.1]\n",
        "print(numpy.random.choice(a, 1, p=p))"
      ],
      "metadata": {
        "colab": {
          "base_uri": "https://localhost:8080/"
        },
        "id": "eszHuzdSIuXy",
        "outputId": "2d6c7f3a-8261-492b-f7e6-947202fcdb83"
      },
      "execution_count": 41,
      "outputs": [
        {
          "output_type": "stream",
          "name": "stdout",
          "text": [
            "['a']\n"
          ]
        }
      ]
    },
    {
      "cell_type": "code",
      "source": [
        "# 0: Tonic Group (1, 3, 6)\n",
        "# 1: SubDominant Group (2, 4)\n",
        "# 2: Dominant Group (5, *7)\n",
        "mm = [\n",
        "  [0.25, 0.25, 0.50,], # 0\n",
        "  [0.30, 0.20, 0.50,], # 1\n",
        "  [0.70, 0.00, 0.30,], # 2\n",
        "]\n",
        "start = 0. # Tonic "
      ],
      "metadata": {
        "id": "jRa3ZjxzBmTB"
      },
      "execution_count": 42,
      "outputs": []
    },
    {
      "cell_type": "code",
      "source": [
        "import numpy\n",
        "num_of_chords = 20\n",
        "state_progression = [0]\n",
        "for _ in range(num_of_chords):\n",
        "    current_state = state_progression[-1]\n",
        "    probs = mm[current_state]\n",
        "    next_state = numpy.random.choice([0, 1, 2], \n",
        "                                     1, \n",
        "                                     p=probs)[0]\n",
        "    state_progression.append(next_state)\n",
        "state_progression"
      ],
      "metadata": {
        "colab": {
          "base_uri": "https://localhost:8080/"
        },
        "id": "JQW0qOj4IG4e",
        "outputId": "a5c36509-dfa2-4766-c620-ffa2b9c82ed6"
      },
      "execution_count": 43,
      "outputs": [
        {
          "output_type": "execute_result",
          "data": {
            "text/plain": [
              "[0, 2, 0, 1, 2, 0, 2, 2, 0, 1, 0, 2, 0, 0, 1, 2, 0, 0, 0, 2, 0]"
            ]
          },
          "metadata": {},
          "execution_count": 43
        }
      ]
    },
    {
      "cell_type": "code",
      "source": [
        "a = ['a', 'b', 'c']\n",
        "for i in a:\n",
        "  print(i)"
      ],
      "metadata": {
        "colab": {
          "base_uri": "https://localhost:8080/"
        },
        "id": "JihnlQwpT-ed",
        "outputId": "8f0ac245-f46e-42d6-a2e9-623c2a3429ef"
      },
      "execution_count": 47,
      "outputs": [
        {
          "output_type": "stream",
          "name": "stdout",
          "text": [
            "a\n",
            "b\n",
            "c\n"
          ]
        }
      ]
    },
    {
      "cell_type": "code",
      "source": [
        "for i in range(len(a)):\n",
        "  j = a[i]\n",
        "  print(i, j)"
      ],
      "metadata": {
        "colab": {
          "base_uri": "https://localhost:8080/"
        },
        "id": "wLQtYoqHUJAI",
        "outputId": "e25c993d-586b-4713-97b0-fd3887389596"
      },
      "execution_count": 57,
      "outputs": [
        {
          "output_type": "stream",
          "name": "stdout",
          "text": [
            "0 a\n",
            "1 b\n",
            "2 c\n"
          ]
        }
      ]
    },
    {
      "cell_type": "code",
      "source": [
        "a = ['a', 'b', 'c']\n",
        "for i, j in enumerate(a):\n",
        "  print(i, j)"
      ],
      "metadata": {
        "colab": {
          "base_uri": "https://localhost:8080/"
        },
        "id": "jrvW8qlhUV5B",
        "outputId": "9b7476b5-b445-4d68-8317-e386c5b29cd1"
      },
      "execution_count": 56,
      "outputs": [
        {
          "output_type": "stream",
          "name": "stdout",
          "text": [
            "0 a\n",
            "1 b\n",
            "2 c\n"
          ]
        }
      ]
    },
    {
      "cell_type": "code",
      "source": [
        "import random\n",
        "chord_group = [\n",
        "    [C, Em, Am],  # 0: Tonic           \n",
        "    [F, Dm],  # 1: SubD           \n",
        "    [G],  # 2: Dom           \n",
        "]\n",
        "chord_progression = []\n",
        "# [0, 2, 0, 1, 2, 0, 2, 2, 0, 1, 0, 2, 0, 0, 1, 2, 0, 0, 0, 2, 0]\n",
        "# for i, state in enumerate(state_progression):\n",
        "for i in range(len(state_progression)):\n",
        "  state = state_progression[i]\n",
        "\n",
        "  chord_candidate = chord_group[state]\n",
        "  chord_pick = random.choice(chord_candidate)\n",
        "  start_time = i * 4.0\n",
        "  for chord_note in chord_pick:\n",
        "    note_copy = chord_note.copy()\n",
        "    note_copy['start_time'] = start_time\n",
        "    note_copy['length'] = 4.0\n",
        "    chord_progression.append(note_copy)\n",
        "print(chord_progression)\n",
        "  \n",
        "write_midi(chord_progression, 120, 'chord_prog.mid')"
      ],
      "metadata": {
        "colab": {
          "base_uri": "https://localhost:8080/"
        },
        "id": "FFav4bYtLelK",
        "outputId": "83f02986-17d1-445f-ed0f-9cb79a2b1276"
      },
      "execution_count": 62,
      "outputs": [
        {
          "output_type": "stream",
          "name": "stdout",
          "text": [
            "[{'pitch': 60, 'length': 4.0, 'start_time': 0.0, 'velocity': 80}, {'pitch': 64, 'length': 4.0, 'start_time': 0.0, 'velocity': 80}, {'pitch': 67, 'length': 4.0, 'start_time': 0.0, 'velocity': 80}, {'pitch': 55, 'length': 4.0, 'start_time': 4.0, 'velocity': 80}, {'pitch': 59, 'length': 4.0, 'start_time': 4.0, 'velocity': 80}, {'pitch': 62, 'length': 4.0, 'start_time': 4.0, 'velocity': 80}, {'pitch': 60, 'length': 4.0, 'start_time': 8.0, 'velocity': 80}, {'pitch': 64, 'length': 4.0, 'start_time': 8.0, 'velocity': 80}, {'pitch': 67, 'length': 4.0, 'start_time': 8.0, 'velocity': 80}, {'pitch': 53, 'length': 4.0, 'start_time': 12.0, 'velocity': 80}, {'pitch': 57, 'length': 4.0, 'start_time': 12.0, 'velocity': 80}, {'pitch': 60, 'length': 4.0, 'start_time': 12.0, 'velocity': 80}, {'pitch': 55, 'length': 4.0, 'start_time': 16.0, 'velocity': 80}, {'pitch': 59, 'length': 4.0, 'start_time': 16.0, 'velocity': 80}, {'pitch': 62, 'length': 4.0, 'start_time': 16.0, 'velocity': 80}, {'pitch': 60, 'length': 4.0, 'start_time': 20.0, 'velocity': 80}, {'pitch': 64, 'length': 4.0, 'start_time': 20.0, 'velocity': 80}, {'pitch': 67, 'length': 4.0, 'start_time': 20.0, 'velocity': 80}, {'pitch': 55, 'length': 4.0, 'start_time': 24.0, 'velocity': 80}, {'pitch': 59, 'length': 4.0, 'start_time': 24.0, 'velocity': 80}, {'pitch': 62, 'length': 4.0, 'start_time': 24.0, 'velocity': 80}, {'pitch': 55, 'length': 4.0, 'start_time': 28.0, 'velocity': 80}, {'pitch': 59, 'length': 4.0, 'start_time': 28.0, 'velocity': 80}, {'pitch': 62, 'length': 4.0, 'start_time': 28.0, 'velocity': 80}, {'pitch': 60, 'length': 4.0, 'start_time': 32.0, 'velocity': 80}, {'pitch': 64, 'length': 4.0, 'start_time': 32.0, 'velocity': 80}, {'pitch': 67, 'length': 4.0, 'start_time': 32.0, 'velocity': 80}, {'pitch': 62, 'length': 4.0, 'start_time': 36.0, 'velocity': 80}, {'pitch': 65, 'length': 4.0, 'start_time': 36.0, 'velocity': 80}, {'pitch': 69, 'length': 4.0, 'start_time': 36.0, 'velocity': 80}, {'pitch': 60, 'length': 4.0, 'start_time': 40.0, 'velocity': 80}, {'pitch': 64, 'length': 4.0, 'start_time': 40.0, 'velocity': 80}, {'pitch': 67, 'length': 4.0, 'start_time': 40.0, 'velocity': 80}, {'pitch': 55, 'length': 4.0, 'start_time': 44.0, 'velocity': 80}, {'pitch': 59, 'length': 4.0, 'start_time': 44.0, 'velocity': 80}, {'pitch': 62, 'length': 4.0, 'start_time': 44.0, 'velocity': 80}, {'pitch': 64, 'length': 4.0, 'start_time': 48.0, 'velocity': 80}, {'pitch': 67, 'length': 4.0, 'start_time': 48.0, 'velocity': 80}, {'pitch': 71, 'length': 4.0, 'start_time': 48.0, 'velocity': 80}, {'pitch': 64, 'length': 4.0, 'start_time': 52.0, 'velocity': 80}, {'pitch': 67, 'length': 4.0, 'start_time': 52.0, 'velocity': 80}, {'pitch': 71, 'length': 4.0, 'start_time': 52.0, 'velocity': 80}, {'pitch': 53, 'length': 4.0, 'start_time': 56.0, 'velocity': 80}, {'pitch': 57, 'length': 4.0, 'start_time': 56.0, 'velocity': 80}, {'pitch': 60, 'length': 4.0, 'start_time': 56.0, 'velocity': 80}, {'pitch': 55, 'length': 4.0, 'start_time': 60.0, 'velocity': 80}, {'pitch': 59, 'length': 4.0, 'start_time': 60.0, 'velocity': 80}, {'pitch': 62, 'length': 4.0, 'start_time': 60.0, 'velocity': 80}, {'pitch': 57, 'length': 4.0, 'start_time': 64.0, 'velocity': 80}, {'pitch': 60, 'length': 4.0, 'start_time': 64.0, 'velocity': 80}, {'pitch': 64, 'length': 4.0, 'start_time': 64.0, 'velocity': 80}, {'pitch': 64, 'length': 4.0, 'start_time': 68.0, 'velocity': 80}, {'pitch': 67, 'length': 4.0, 'start_time': 68.0, 'velocity': 80}, {'pitch': 71, 'length': 4.0, 'start_time': 68.0, 'velocity': 80}, {'pitch': 60, 'length': 4.0, 'start_time': 72.0, 'velocity': 80}, {'pitch': 64, 'length': 4.0, 'start_time': 72.0, 'velocity': 80}, {'pitch': 67, 'length': 4.0, 'start_time': 72.0, 'velocity': 80}, {'pitch': 55, 'length': 4.0, 'start_time': 76.0, 'velocity': 80}, {'pitch': 59, 'length': 4.0, 'start_time': 76.0, 'velocity': 80}, {'pitch': 62, 'length': 4.0, 'start_time': 76.0, 'velocity': 80}, {'pitch': 64, 'length': 4.0, 'start_time': 80.0, 'velocity': 80}, {'pitch': 67, 'length': 4.0, 'start_time': 80.0, 'velocity': 80}, {'pitch': 71, 'length': 4.0, 'start_time': 80.0, 'velocity': 80}]\n"
          ]
        }
      ]
    },
    {
      "cell_type": "code",
      "source": [
        ""
      ],
      "metadata": {
        "id": "-WN3CaKRRnWe"
      },
      "execution_count": null,
      "outputs": []
    }
  ]
}